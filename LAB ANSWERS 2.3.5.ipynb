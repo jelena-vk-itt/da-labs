{
 "cells": [
  {
   "cell_type": "markdown",
   "metadata": {},
   "source": [
    "# 1\n",
    "\n",
    "Read the documentation at https://vincentarelbundock.github.io/Rdatasets/doc/DAAG/appletaste.html.\n",
    "    "
   ]
  },
  {
   "cell_type": "markdown",
   "metadata": {},
   "source": [
    "# 2"
   ]
  },
  {
   "cell_type": "code",
   "execution_count": 3,
   "metadata": {},
   "outputs": [
    {
     "data": {
      "text/html": [
       "<div>\n",
       "<style scoped>\n",
       "    .dataframe tbody tr th:only-of-type {\n",
       "        vertical-align: middle;\n",
       "    }\n",
       "\n",
       "    .dataframe tbody tr th {\n",
       "        vertical-align: top;\n",
       "    }\n",
       "\n",
       "    .dataframe thead th {\n",
       "        text-align: right;\n",
       "    }\n",
       "</style>\n",
       "<table border=\"1\" class=\"dataframe\">\n",
       "  <thead>\n",
       "    <tr style=\"text-align: right;\">\n",
       "      <th></th>\n",
       "      <th>aftertaste</th>\n",
       "      <th>panelist</th>\n",
       "      <th>product</th>\n",
       "    </tr>\n",
       "  </thead>\n",
       "  <tbody>\n",
       "    <tr>\n",
       "      <th>1</th>\n",
       "      <td>89</td>\n",
       "      <td>a</td>\n",
       "      <td>937</td>\n",
       "    </tr>\n",
       "    <tr>\n",
       "      <th>2</th>\n",
       "      <td>98</td>\n",
       "      <td>a</td>\n",
       "      <td>298</td>\n",
       "    </tr>\n",
       "    <tr>\n",
       "      <th>3</th>\n",
       "      <td>108</td>\n",
       "      <td>a</td>\n",
       "      <td>493</td>\n",
       "    </tr>\n",
       "    <tr>\n",
       "      <th>4</th>\n",
       "      <td>13</td>\n",
       "      <td>b</td>\n",
       "      <td>937</td>\n",
       "    </tr>\n",
       "    <tr>\n",
       "      <th>5</th>\n",
       "      <td>55</td>\n",
       "      <td>b</td>\n",
       "      <td>298</td>\n",
       "    </tr>\n",
       "    <tr>\n",
       "      <th>6</th>\n",
       "      <td>104</td>\n",
       "      <td>b</td>\n",
       "      <td>493</td>\n",
       "    </tr>\n",
       "    <tr>\n",
       "      <th>7</th>\n",
       "      <td>40</td>\n",
       "      <td>c</td>\n",
       "      <td>937</td>\n",
       "    </tr>\n",
       "    <tr>\n",
       "      <th>8</th>\n",
       "      <td>122</td>\n",
       "      <td>c</td>\n",
       "      <td>298</td>\n",
       "    </tr>\n",
       "    <tr>\n",
       "      <th>9</th>\n",
       "      <td>148</td>\n",
       "      <td>c</td>\n",
       "      <td>493</td>\n",
       "    </tr>\n",
       "    <tr>\n",
       "      <th>10</th>\n",
       "      <td>6</td>\n",
       "      <td>d</td>\n",
       "      <td>937</td>\n",
       "    </tr>\n",
       "    <tr>\n",
       "      <th>11</th>\n",
       "      <td>77</td>\n",
       "      <td>d</td>\n",
       "      <td>298</td>\n",
       "    </tr>\n",
       "    <tr>\n",
       "      <th>12</th>\n",
       "      <td>137</td>\n",
       "      <td>d</td>\n",
       "      <td>493</td>\n",
       "    </tr>\n",
       "    <tr>\n",
       "      <th>13</th>\n",
       "      <td>30</td>\n",
       "      <td>e</td>\n",
       "      <td>937</td>\n",
       "    </tr>\n",
       "    <tr>\n",
       "      <th>14</th>\n",
       "      <td>88</td>\n",
       "      <td>e</td>\n",
       "      <td>298</td>\n",
       "    </tr>\n",
       "    <tr>\n",
       "      <th>15</th>\n",
       "      <td>98</td>\n",
       "      <td>e</td>\n",
       "      <td>493</td>\n",
       "    </tr>\n",
       "  </tbody>\n",
       "</table>\n",
       "</div>"
      ],
      "text/plain": [
       "    aftertaste panelist  product\n",
       "1           89        a      937\n",
       "2           98        a      298\n",
       "3          108        a      493\n",
       "4           13        b      937\n",
       "5           55        b      298\n",
       "6          104        b      493\n",
       "7           40        c      937\n",
       "8          122        c      298\n",
       "9          148        c      493\n",
       "10           6        d      937\n",
       "11          77        d      298\n",
       "12         137        d      493\n",
       "13          30        e      937\n",
       "14          88        e      298\n",
       "15          98        e      493"
      ]
     },
     "execution_count": 3,
     "metadata": {},
     "output_type": "execute_result"
    }
   ],
   "source": [
    "import pandas as pd\n",
    "apl_df = pd.read_csv(\"https://vincentarelbundock.github.io/Rdatasets/csv/DAAG/appletaste.csv\", index_col=0)\n",
    "apl_df.head(15)"
   ]
  },
  {
   "cell_type": "markdown",
   "metadata": {},
   "source": [
    "# 3"
   ]
  },
  {
   "cell_type": "code",
   "execution_count": 5,
   "metadata": {},
   "outputs": [
    {
     "data": {
      "image/png": "[encoded data removed]",
      "text/plain": [
       "<Figure size 432x288 with 1 Axes>"
      ]
     },
     "metadata": {
      "needs_background": "light"
     },
     "output_type": "display_data"
    }
   ],
   "source": [
    "import matplotlib.pyplot as plt\n",
    "apl_hist = plt.hist(apl_df['aftertaste'], bins=5)\n",
    "plt.show()"
   ]
  },
  {
   "cell_type": "markdown",
   "metadata": {},
   "source": [
    "# 4"
   ]
  },
  {
   "cell_type": "code",
   "execution_count": 25,
   "metadata": {},
   "outputs": [
    {
     "data": {
      "text/html": [
       "<div>\n",
       "<style scoped>\n",
       "    .dataframe tbody tr th:only-of-type {\n",
       "        vertical-align: middle;\n",
       "    }\n",
       "\n",
       "    .dataframe tbody tr th {\n",
       "        vertical-align: top;\n",
       "    }\n",
       "\n",
       "    .dataframe thead th {\n",
       "        text-align: right;\n",
       "    }\n",
       "</style>\n",
       "<table border=\"1\" class=\"dataframe\">\n",
       "  <thead>\n",
       "    <tr style=\"text-align: right;\">\n",
       "      <th></th>\n",
       "      <th>aftertaste</th>\n",
       "    </tr>\n",
       "    <tr>\n",
       "      <th>group</th>\n",
       "      <th></th>\n",
       "    </tr>\n",
       "  </thead>\n",
       "  <tbody>\n",
       "    <tr>\n",
       "      <th>1</th>\n",
       "      <td>80.866667</td>\n",
       "    </tr>\n",
       "    <tr>\n",
       "      <th>2</th>\n",
       "      <td>66.933333</td>\n",
       "    </tr>\n",
       "    <tr>\n",
       "      <th>3</th>\n",
       "      <td>44.600000</td>\n",
       "    </tr>\n",
       "    <tr>\n",
       "      <th>4</th>\n",
       "      <td>51.800000</td>\n",
       "    </tr>\n",
       "  </tbody>\n",
       "</table>\n",
       "</div>"
      ],
      "text/plain": [
       "       aftertaste\n",
       "group            \n",
       "1       80.866667\n",
       "2       66.933333\n",
       "3       44.600000\n",
       "4       51.800000"
      ]
     },
     "execution_count": 25,
     "metadata": {},
     "output_type": "execute_result"
    }
   ],
   "source": [
    "# By looking at the data we can conclude that there are 15 rows for each group\n",
    "apl_df['group']=[1] * 15 + [2] * 15 + [3] * 15 + [4] * 15\n",
    "avgat_df = apl_df.groupby('group')[['aftertaste']].mean()\n",
    "avgat_df"
   ]
  },
  {
   "cell_type": "code",
   "execution_count": 26,
   "metadata": {},
   "outputs": [
    {
     "data": {
      "image/png": "[encoded data removed]",
      "text/plain": [
       "<Figure size 432x288 with 1 Axes>"
      ]
     },
     "metadata": {
      "needs_background": "light"
     },
     "output_type": "display_data"
    }
   ],
   "source": [
    "# Plot the barchart\n",
    "plt.bar(range(0, 4), height=avgat_df['aftertaste'], tick_label=avgat_df.index)\n",
    "# Function savefig() must be called before show(); \n",
    "# the bbox_inches value 'tight' forces the function to fit exactly everything into the png\n",
    "plt.savefig('aftertastes.png', format='png', bbox_inches='tight')\n",
    "plt.show()"
   ]
  },
  {
   "cell_type": "markdown",
   "metadata": {},
   "source": [
    "# 5"
   ]
  },
  {
   "cell_type": "code",
   "execution_count": 29,
   "metadata": {},
   "outputs": [
    {
     "name": "stdout",
     "output_type": "stream",
     "text": [
      "f-statistic: 2.7554481865429605\n",
      "p-value: 0.05083259547004685\n"
     ]
    }
   ],
   "source": [
    "# Import the stats package and apply Kendall's Tau\n",
    "import scipy.stats as ss\n",
    "f, p = ss.f_oneway(apl_df['aftertaste'][apl_df['group']==1], apl_df['aftertaste'][apl_df['group']==2], apl_df['aftertaste'][apl_df['group']==3], apl_df['aftertaste'][apl_df['group']==4])\n",
    "print(\"f-statistic: \" + str(f) + \"\\np-value: \" + str(p))"
   ]
  },
  {
   "cell_type": "markdown",
   "metadata": {},
   "source": [
    "**AN ALTERNATIVE** way to call **f_oneway()**:\n",
    "\n",
    "- the star (\\*) operator placed at the beginning of the argument list to f_oneway() allows us to pass in a list comprehension that creates a list of value series\n",
    "- not storing the values returned by the method into variables results in the interactive mechanism printing out the return values (as these are what the function call evaluates to)"
   ]
  },
  {
   "cell_type": "code",
   "execution_count": 31,
   "metadata": {},
   "outputs": [
    {
     "data": {
      "text/plain": [
       "F_onewayResult(statistic=2.7554481865429605, pvalue=0.05083259547004685)"
      ]
     },
     "execution_count": 31,
     "metadata": {},
     "output_type": "execute_result"
    }
   ],
   "source": [
    "ss.f_oneway(*(apl_df['aftertaste'][apl_df['group'] == group] for group in range(1, 5)))"
   ]
  },
  {
   "cell_type": "markdown",
   "metadata": {},
   "source": [
    "Interpretation: The p value is not very low. At any usual confidence levels (e.g. 5% or 1%) the f-statistic value is not significant, indicating no significance in the difference between the scores given by the 4 groups."
   ]
  },
  {
   "cell_type": "markdown",
   "metadata": {},
   "source": [
    "# 6"
   ]
  },
  {
   "cell_type": "markdown",
   "metadata": {},
   "source": [
    "We will use Chi-square test as the two variables are categorical."
   ]
  },
  {
   "cell_type": "markdown",
   "metadata": {},
   "source": [
    "First we create the aftertaste_score_category column"
   ]
  },
  {
   "cell_type": "code",
   "execution_count": 68,
   "metadata": {},
   "outputs": [
    {
     "data": {
      "text/html": [
       "<div>\n",
       "<style scoped>\n",
       "    .dataframe tbody tr th:only-of-type {\n",
       "        vertical-align: middle;\n",
       "    }\n",
       "\n",
       "    .dataframe tbody tr th {\n",
       "        vertical-align: top;\n",
       "    }\n",
       "\n",
       "    .dataframe thead th {\n",
       "        text-align: right;\n",
       "    }\n",
       "</style>\n",
       "<table border=\"1\" class=\"dataframe\">\n",
       "  <thead>\n",
       "    <tr style=\"text-align: right;\">\n",
       "      <th></th>\n",
       "      <th>aftertaste</th>\n",
       "      <th>panelist</th>\n",
       "      <th>product</th>\n",
       "      <th>group</th>\n",
       "      <th>score_category</th>\n",
       "      <th>aftertaste_score_category</th>\n",
       "    </tr>\n",
       "  </thead>\n",
       "  <tbody>\n",
       "    <tr>\n",
       "      <th>1</th>\n",
       "      <td>89</td>\n",
       "      <td>a</td>\n",
       "      <td>937</td>\n",
       "      <td>1</td>\n",
       "      <td>medium</td>\n",
       "      <td>medium</td>\n",
       "    </tr>\n",
       "    <tr>\n",
       "      <th>2</th>\n",
       "      <td>98</td>\n",
       "      <td>a</td>\n",
       "      <td>298</td>\n",
       "      <td>1</td>\n",
       "      <td>medium</td>\n",
       "      <td>medium</td>\n",
       "    </tr>\n",
       "    <tr>\n",
       "      <th>3</th>\n",
       "      <td>108</td>\n",
       "      <td>a</td>\n",
       "      <td>493</td>\n",
       "      <td>1</td>\n",
       "      <td>high</td>\n",
       "      <td>high</td>\n",
       "    </tr>\n",
       "    <tr>\n",
       "      <th>4</th>\n",
       "      <td>13</td>\n",
       "      <td>b</td>\n",
       "      <td>937</td>\n",
       "      <td>1</td>\n",
       "      <td>low</td>\n",
       "      <td>low</td>\n",
       "    </tr>\n",
       "    <tr>\n",
       "      <th>5</th>\n",
       "      <td>55</td>\n",
       "      <td>b</td>\n",
       "      <td>298</td>\n",
       "      <td>1</td>\n",
       "      <td>medium</td>\n",
       "      <td>medium</td>\n",
       "    </tr>\n",
       "  </tbody>\n",
       "</table>\n",
       "</div>"
      ],
      "text/plain": [
       "   aftertaste panelist  product  group score_category  \\\n",
       "1          89        a      937      1         medium   \n",
       "2          98        a      298      1         medium   \n",
       "3         108        a      493      1           high   \n",
       "4          13        b      937      1            low   \n",
       "5          55        b      298      1         medium   \n",
       "\n",
       "  aftertaste_score_category  \n",
       "1                    medium  \n",
       "2                    medium  \n",
       "3                      high  \n",
       "4                       low  \n",
       "5                    medium  "
      ]
     },
     "execution_count": 68,
     "metadata": {},
     "output_type": "execute_result"
    }
   ],
   "source": [
    "number_of_instances = len(apl_df['aftertaste'])\n",
    "apl_df['aftertaste_score_category'] = ['low'] * number_of_instances\n",
    "for i in apl_df.index:\n",
    "    if apl_df['aftertaste'][i] > 100:\n",
    "        apl_df.loc[i, 'aftertaste_score_category'] = 'high'\n",
    "    elif apl_df['aftertaste'][i] > 50:\n",
    "        apl_df.loc[i, 'aftertaste_score_category'] = 'medium'        \n",
    "apl_df.head(5)"
   ]
  },
  {
   "cell_type": "markdown",
   "metadata": {},
   "source": [
    "**AN ALTERNATIVE** way to create the aftertaste_score_category column: using a lambda function to implement the same logic as above"
   ]
  },
  {
   "cell_type": "code",
   "execution_count": 70,
   "metadata": {},
   "outputs": [
    {
     "data": {
      "text/html": [
       "<div>\n",
       "<style scoped>\n",
       "    .dataframe tbody tr th:only-of-type {\n",
       "        vertical-align: middle;\n",
       "    }\n",
       "\n",
       "    .dataframe tbody tr th {\n",
       "        vertical-align: top;\n",
       "    }\n",
       "\n",
       "    .dataframe thead th {\n",
       "        text-align: right;\n",
       "    }\n",
       "</style>\n",
       "<table border=\"1\" class=\"dataframe\">\n",
       "  <thead>\n",
       "    <tr style=\"text-align: right;\">\n",
       "      <th></th>\n",
       "      <th>aftertaste</th>\n",
       "      <th>panelist</th>\n",
       "      <th>product</th>\n",
       "      <th>group</th>\n",
       "      <th>score_category</th>\n",
       "      <th>aftertaste_score_category</th>\n",
       "    </tr>\n",
       "  </thead>\n",
       "  <tbody>\n",
       "    <tr>\n",
       "      <th>1</th>\n",
       "      <td>89</td>\n",
       "      <td>a</td>\n",
       "      <td>937</td>\n",
       "      <td>1</td>\n",
       "      <td>medium</td>\n",
       "      <td>medium</td>\n",
       "    </tr>\n",
       "    <tr>\n",
       "      <th>2</th>\n",
       "      <td>98</td>\n",
       "      <td>a</td>\n",
       "      <td>298</td>\n",
       "      <td>1</td>\n",
       "      <td>medium</td>\n",
       "      <td>medium</td>\n",
       "    </tr>\n",
       "    <tr>\n",
       "      <th>3</th>\n",
       "      <td>108</td>\n",
       "      <td>a</td>\n",
       "      <td>493</td>\n",
       "      <td>1</td>\n",
       "      <td>high</td>\n",
       "      <td>high</td>\n",
       "    </tr>\n",
       "    <tr>\n",
       "      <th>4</th>\n",
       "      <td>13</td>\n",
       "      <td>b</td>\n",
       "      <td>937</td>\n",
       "      <td>1</td>\n",
       "      <td>low</td>\n",
       "      <td>low</td>\n",
       "    </tr>\n",
       "    <tr>\n",
       "      <th>5</th>\n",
       "      <td>55</td>\n",
       "      <td>b</td>\n",
       "      <td>298</td>\n",
       "      <td>1</td>\n",
       "      <td>medium</td>\n",
       "      <td>medium</td>\n",
       "    </tr>\n",
       "  </tbody>\n",
       "</table>\n",
       "</div>"
      ],
      "text/plain": [
       "   aftertaste panelist  product  group score_category  \\\n",
       "1          89        a      937      1         medium   \n",
       "2          98        a      298      1         medium   \n",
       "3         108        a      493      1           high   \n",
       "4          13        b      937      1            low   \n",
       "5          55        b      298      1         medium   \n",
       "\n",
       "  aftertaste_score_category  \n",
       "1                    medium  \n",
       "2                    medium  \n",
       "3                      high  \n",
       "4                       low  \n",
       "5                    medium  "
      ]
     },
     "execution_count": 70,
     "metadata": {},
     "output_type": "execute_result"
    }
   ],
   "source": [
    "apl_df['aftertaste_score_category'] = apl_df['aftertaste'].apply(lambda x : 'high' if x > 100 else 'medium' if x > 50 else 'low')\n",
    "apl_df.head(5)"
   ]
  },
  {
   "cell_type": "markdown",
   "metadata": {},
   "source": [
    "**ANOTHER ALTERNATIVE** way to create the aftertaste_score_category column: using **loc** indexing with booleans (<code>apl_df['aftertaste'] > 100</code> evaluates to a series of booleans) "
   ]
  },
  {
   "cell_type": "code",
   "execution_count": 72,
   "metadata": {},
   "outputs": [
    {
     "data": {
      "text/html": [
       "<div>\n",
       "<style scoped>\n",
       "    .dataframe tbody tr th:only-of-type {\n",
       "        vertical-align: middle;\n",
       "    }\n",
       "\n",
       "    .dataframe tbody tr th {\n",
       "        vertical-align: top;\n",
       "    }\n",
       "\n",
       "    .dataframe thead th {\n",
       "        text-align: right;\n",
       "    }\n",
       "</style>\n",
       "<table border=\"1\" class=\"dataframe\">\n",
       "  <thead>\n",
       "    <tr style=\"text-align: right;\">\n",
       "      <th></th>\n",
       "      <th>aftertaste</th>\n",
       "      <th>panelist</th>\n",
       "      <th>product</th>\n",
       "      <th>group</th>\n",
       "      <th>score_category</th>\n",
       "      <th>aftertaste_score_category</th>\n",
       "    </tr>\n",
       "  </thead>\n",
       "  <tbody>\n",
       "    <tr>\n",
       "      <th>1</th>\n",
       "      <td>89</td>\n",
       "      <td>a</td>\n",
       "      <td>937</td>\n",
       "      <td>1</td>\n",
       "      <td>medium</td>\n",
       "      <td>medium</td>\n",
       "    </tr>\n",
       "    <tr>\n",
       "      <th>2</th>\n",
       "      <td>98</td>\n",
       "      <td>a</td>\n",
       "      <td>298</td>\n",
       "      <td>1</td>\n",
       "      <td>medium</td>\n",
       "      <td>medium</td>\n",
       "    </tr>\n",
       "    <tr>\n",
       "      <th>3</th>\n",
       "      <td>108</td>\n",
       "      <td>a</td>\n",
       "      <td>493</td>\n",
       "      <td>1</td>\n",
       "      <td>high</td>\n",
       "      <td>high</td>\n",
       "    </tr>\n",
       "    <tr>\n",
       "      <th>4</th>\n",
       "      <td>13</td>\n",
       "      <td>b</td>\n",
       "      <td>937</td>\n",
       "      <td>1</td>\n",
       "      <td>low</td>\n",
       "      <td>low</td>\n",
       "    </tr>\n",
       "    <tr>\n",
       "      <th>5</th>\n",
       "      <td>55</td>\n",
       "      <td>b</td>\n",
       "      <td>298</td>\n",
       "      <td>1</td>\n",
       "      <td>medium</td>\n",
       "      <td>medium</td>\n",
       "    </tr>\n",
       "  </tbody>\n",
       "</table>\n",
       "</div>"
      ],
      "text/plain": [
       "   aftertaste panelist  product  group score_category  \\\n",
       "1          89        a      937      1         medium   \n",
       "2          98        a      298      1         medium   \n",
       "3         108        a      493      1           high   \n",
       "4          13        b      937      1            low   \n",
       "5          55        b      298      1         medium   \n",
       "\n",
       "  aftertaste_score_category  \n",
       "1                    medium  \n",
       "2                    medium  \n",
       "3                      high  \n",
       "4                       low  \n",
       "5                    medium  "
      ]
     },
     "execution_count": 72,
     "metadata": {},
     "output_type": "execute_result"
    }
   ],
   "source": [
    "apl_df.loc[:,'aftertaste_score_category'] = 'low'\n",
    "apl_df.loc[apl_df['aftertaste'] > 50,'aftertaste_score_category'] = 'medium'\n",
    "apl_df.loc[apl_df['aftertaste'] > 100,'aftertaste_score_category'] = 'high'\n",
    "apl_df.head(5)"
   ]
  },
  {
   "cell_type": "code",
   "execution_count": 75,
   "metadata": {},
   "outputs": [
    {
     "data": {
      "text/html": [
       "<div>\n",
       "<style scoped>\n",
       "    .dataframe tbody tr th:only-of-type {\n",
       "        vertical-align: middle;\n",
       "    }\n",
       "\n",
       "    .dataframe tbody tr th {\n",
       "        vertical-align: top;\n",
       "    }\n",
       "\n",
       "    .dataframe thead th {\n",
       "        text-align: right;\n",
       "    }\n",
       "</style>\n",
       "<table border=\"1\" class=\"dataframe\">\n",
       "  <thead>\n",
       "    <tr style=\"text-align: right;\">\n",
       "      <th>aftertaste_score_category</th>\n",
       "      <th>high</th>\n",
       "      <th>low</th>\n",
       "      <th>medium</th>\n",
       "    </tr>\n",
       "    <tr>\n",
       "      <th>product</th>\n",
       "      <th></th>\n",
       "      <th></th>\n",
       "      <th></th>\n",
       "    </tr>\n",
       "  </thead>\n",
       "  <tbody>\n",
       "    <tr>\n",
       "      <th>298</th>\n",
       "      <td>1</td>\n",
       "      <td>3</td>\n",
       "      <td>11</td>\n",
       "    </tr>\n",
       "    <tr>\n",
       "      <th>493</th>\n",
       "      <td>7</td>\n",
       "      <td>2</td>\n",
       "      <td>6</td>\n",
       "    </tr>\n",
       "    <tr>\n",
       "      <th>649</th>\n",
       "      <td>2</td>\n",
       "      <td>9</td>\n",
       "      <td>4</td>\n",
       "    </tr>\n",
       "    <tr>\n",
       "      <th>937</th>\n",
       "      <td>0</td>\n",
       "      <td>13</td>\n",
       "      <td>2</td>\n",
       "    </tr>\n",
       "  </tbody>\n",
       "</table>\n",
       "</div>"
      ],
      "text/plain": [
       "aftertaste_score_category  high  low  medium\n",
       "product                                     \n",
       "298                           1    3      11\n",
       "493                           7    2       6\n",
       "649                           2    9       4\n",
       "937                           0   13       2"
      ]
     },
     "execution_count": 75,
     "metadata": {},
     "output_type": "execute_result"
    }
   ],
   "source": [
    "score_vs_group_tab = pd.crosstab(index=apl_df['product'], columns=apl_df['aftertaste_score_category'])\n",
    "score_vs_group_tab"
   ]
  },
  {
   "cell_type": "code",
   "execution_count": 76,
   "metadata": {},
   "outputs": [
    {
     "name": "stdout",
     "output_type": "stream",
     "text": [
      "chi-squared 31.34557165861514\n",
      "p = 2.177416225761056e-05\n",
      "degrees of freedom = 6\n",
      "expected value table: \n",
      "[[2.5  6.75 5.75]\n",
      " [2.5  6.75 5.75]\n",
      " [2.5  6.75 5.75]\n",
      " [2.5  6.75 5.75]]\n"
     ]
    }
   ],
   "source": [
    "# Apply the Chi-squared test to the data\n",
    "chisq, p, dof, evs = ss.chi2_contingency(score_vs_group_tab)\n",
    "print(\"chi-squared \" + str(chisq))\n",
    "print(\"p = \" + str(p))\n",
    "print(\"degrees of freedom = \" + str(dof))\n",
    "print(\"expected value table: \")\n",
    "print(evs)"
   ]
  },
  {
   "cell_type": "markdown",
   "metadata": {},
   "source": [
    "Interpretation: The p value is low. At any usual confidence levels (e.g. 5% or 1%) the chi-squared statistic value is significant, indicating a significant difference between the scores awarded to the different apple sorts."
   ]
  }
 ],
 "metadata": {
  "kernelspec": {
   "display_name": "Python 3",
   "language": "python",
   "name": "python3"
  },
  "language_info": {
   "codemirror_mode": {
    "name": "ipython",
    "version": 3
   },
   "file_extension": ".py",
   "mimetype": "text/x-python",
   "name": "python",
   "nbconvert_exporter": "python",
   "pygments_lexer": "ipython3",
   "version": "3.6.9"
  }
 },
 "nbformat": 4,
 "nbformat_minor": 2
}
