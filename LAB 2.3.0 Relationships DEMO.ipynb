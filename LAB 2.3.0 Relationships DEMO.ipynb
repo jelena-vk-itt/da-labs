{
 "cells": [
  {
   "cell_type": "markdown",
   "metadata": {},
   "source": [
    "# Relationships"
   ]
  },
  {
   "cell_type": "markdown",
   "metadata": {},
   "source": [
    "[Pearson's Correlation Coefficient](#p)&nbsp; &nbsp;[Kendall's Tau](#k)&nbsp; &nbsp;[Chi-squared](#c)&nbsp; &nbsp;[Student's T-Test](#t)&nbsp; &nbsp;[z-test](#z)&nbsp; &nbsp;[ANOVA](#a)"
   ]
  },
  {
   "cell_type": "markdown",
   "metadata": {},
   "source": [
    "Various tests for relationships between variables can be found in the **SciPy** package, which we will import under the short name **sp**."
   ]
  },
  {
   "cell_type": "code",
   "execution_count": 3,
   "metadata": {},
   "outputs": [],
   "source": [
    "import numpy as np\n",
    "import pandas as pd\n",
    "import scipy.stats as ss"
   ]
  },
  {
   "cell_type": "markdown",
   "metadata": {},
   "source": [
    "## <a id=\"p\">Pearson's Correlation Coefficient</a>\n",
    "\n",
    "This measure of relatedness between two variables can be used when the variables are both **normally distributed** (which implies that they are both numeric). \n",
    "\n",
    "Assuming that both the latitude and longitude variables in the magnetic pole data are normally distributed, we look at whether there is a correlation between the two using Pearson's Correlation Coefficient."
   ]
  },
  {
   "cell_type": "code",
   "execution_count": 4,
   "metadata": {},
   "outputs": [
    {
     "name": "stdout",
     "output_type": "stream",
     "text": [
      "    lat   long\n",
      "1 -26.4  324.0\n",
      "2 -32.2  163.7\n",
      "3 -73.1   51.9\n",
      "4 -80.2  140.5\n",
      "5 -71.1  267.2\n"
     ]
    }
   ],
   "source": [
    "# Get the pole data\n",
    "mag_pole_data = pd.read_csv(\"polar.csv\", index_col=0)\n",
    "# Print the first 5 rows of the data frame\n",
    "print(mag_pole_data.head(5))"
   ]
  },
  {
   "cell_type": "code",
   "execution_count": 5,
   "metadata": {},
   "outputs": [
    {
     "name": "stdout",
     "output_type": "stream",
     "text": [
      "r = -0.0021438009514379956\n",
      "p = 0.9882112420590565\n"
     ]
    }
   ],
   "source": [
    "# Get the correlation coefficient and p-value (the function returns two values)\n",
    "r, p = ss.pearsonr(mag_pole_data[\"lat\"], mag_pole_data[\"long\"])\n",
    "print(\"r = \" + str(r))\n",
    "print(\"p = \" + str(p))"
   ]
  },
  {
   "cell_type": "markdown",
   "metadata": {},
   "source": [
    "**Interpretation:** The calculated Pearson's Correlation Coefficient is low (0.002), indicating no correlation. The two-tailed p-value is very close to 1 (0.99), meaning that a higher absolute coefficient value would be obtained for in 99% of cases for entirely unrelated variables with the same parameters as ours.  "
   ]
  },
  {
   "cell_type": "markdown",
   "metadata": {},
   "source": [
    "## <a id=\"k\">Kendall's Tau</a>\n",
    "\n",
    "This measure of relatedness between two variables is a **rank** correlation coefficient, meaning that it can be used on variables with values that can be **ranked**, including any numeric or ordinal variables, regardless of their distribution.\n",
    "     \n",
    "Let us look at an example of a competition where judges rate competitors based on their performance. Let's say that the competitors are labelled A, B, C, D, E, F and G. We would like to see if there is a correlation between the ratings by two judges J1 and J2."
   ]
  },
  {
   "cell_type": "code",
   "execution_count": 6,
   "metadata": {},
   "outputs": [],
   "source": [
    "# Create lists of competitors ordered by rating, one for each judge\n",
    "J1Ratings = [\"A\", \"C\", \"B\", \"F\", \"D\", \"E\", \"G\"]\n",
    "J2Ratings = [\"A\", \"B\", \"C\", \"F\", \"E\", \"D\", \"G\"]"
   ]
  },
  {
   "cell_type": "code",
   "execution_count": 7,
   "metadata": {},
   "outputs": [
    {
     "name": "stdout",
     "output_type": "stream",
     "text": [
      "tau = 0.8095238095238096\n",
      "p = 0.010714285714285714\n"
     ]
    },
    {
     "name": "stderr",
     "output_type": "stream",
     "text": [
      "/usr/local/lib/python3.6/dist-packages/scipy/stats/stats.py:248: RuntimeWarning: The input array could not be properly checked for nan values. nan values will be ignored.\n",
      "  \"values. nan values will be ignored.\", RuntimeWarning)\n"
     ]
    }
   ],
   "source": [
    "# Apply the Kendall Tau test to the listsabs\n",
    "tau, p = ss.kendalltau(J1Ratings, J2Ratings)\n",
    "print(\"tau = \" + str(tau))\n",
    "print(\"p = \" + str(p))"
   ]
  },
  {
   "cell_type": "markdown",
   "metadata": {},
   "source": [
    "**Interpretation:** The calculated Kendall's Tau is high (0.81), indicating a positive correlation. The two-tailed p-value is approximately 0.01, meaning that in about 1% of cases this Tau value would be obtained for entirely unrelated sequences of the same length as ours (7). Now it is up to us to decide whether this gives us enough certainty in our particular scenario.  "
   ]
  },
  {
   "cell_type": "markdown",
   "metadata": {},
   "source": [
    "## <a id=\"c\">Chi-squared</a>\n",
    "\n",
    "The chi-squared statistic can measure the relatedness between two categorical variables. It is applied to a table of values, containing instance counts for all possible combinations of values for the two variables. \n",
    "\n",
    "Another application (not presented here) of the chi-squared statistic is to investigate the goodnes-of-fit of observed frequencies of a set of outcomes against the expected frequencies. Testing dice for fairness is an example of this: the expected frequency of each of the six outcomes is exactly 1/6, but a 'loaded' die would have an unexpectedly high differences between the outcome frequencies, which can be statistically quantified using the chi-squared test."
   ]
  },
  {
   "cell_type": "markdown",
   "metadata": {},
   "source": [
    "### Example with ready data frame"
   ]
  },
  {
   "cell_type": "code",
   "execution_count": 8,
   "metadata": {},
   "outputs": [
    {
     "name": "stdout",
     "output_type": "stream",
     "text": [
      "           None  Partial  Full\n",
      "Injection    20        9    16\n",
      "Tablet       32       72    64\n",
      "Laser         8        8    30\n",
      "Herbal       52       32    12\n"
     ]
    }
   ],
   "source": [
    "# Numbers of patients with no, partial and full recovery for each of the 4 treatments\n",
    "none = [20, 32, 8, 52]\n",
    "partial = [9, 72, 8, 32] \n",
    "full = [16, 64, 30, 12] \n",
    "\n",
    "skin_treatment_df = pd.DataFrame({'None':none, 'Partial':partial, 'Full':full})\n",
    "skin_treatment_df.index = [\"Injection\", \"Tablet\", \"Laser\", \"Herbal\"]\n",
    "\n",
    "# Print the data frame representing the table of counts for each combination of treatment and \n",
    "# level of improvement (e.g. the number of patients that were treated with tablets and improved\n",
    "# partially was 72).\n",
    "print(skin_treatment_df)"
   ]
  },
  {
   "cell_type": "code",
   "execution_count": 11,
   "metadata": {
    "scrolled": true
   },
   "outputs": [
    {
     "name": "stdout",
     "output_type": "stream",
     "text": [
      "chi-squared 3.2738095238095237\n",
      "p = 0.19458138687974819\n",
      "degrees of freedom = 2\n",
      "expected value table: \n",
      "[[21. 14.]\n",
      " [21. 14.]\n",
      " [18. 12.]]\n"
     ]
    }
   ],
   "source": [
    "# Apply the Chi-squared test to the data\n",
    "chisq, p, dof, evs = ss.chi2_contingency(skin_treatment_df)\n",
    "print(\"chi-squared \" + str(chisq))\n",
    "print(\"p = \" + str(p))\n",
    "print(\"degrees of freedom = \" + str(dof))\n",
    "print(\"expected value table: \")\n",
    "print(evs)"
   ]
  },
  {
   "cell_type": "markdown",
   "metadata": {},
   "source": [
    "**Interpretation:** The Chi-squared statistic is 66.17 and for degrees of freedom equal to 6 this equates to a p-value of 2.49 * 10^12. This p-value indicates that it is practically impossible for a Chi-squared value like ours, or greater, to be obtained when two variables with 6 degrees of freedom are entirely unrelated. This means high certainty that there is a relationship between the type of treatment and outcome for the patient."
   ]
  },
  {
   "cell_type": "markdown",
   "metadata": {},
   "source": [
    "### Example with contingency table"
   ]
  },
  {
   "cell_type": "code",
   "execution_count": 6,
   "metadata": {
    "scrolled": false
   },
   "outputs": [
    {
     "data": {
      "text/html": [
       "<div>\n",
       "<table border=\"1\" class=\"dataframe\">\n",
       "  <thead>\n",
       "    <tr style=\"text-align: right;\">\n",
       "      <th></th>\n",
       "      <th>Group</th>\n",
       "      <th>Sex</th>\n",
       "      <th>Mode</th>\n",
       "      <th>1986</th>\n",
       "      <th>1991</th>\n",
       "      <th>1996</th>\n",
       "      <th>2001</th>\n",
       "      <th>2006</th>\n",
       "      <th>2011</th>\n",
       "      <th>2016</th>\n",
       "    </tr>\n",
       "  </thead>\n",
       "  <tbody>\n",
       "    <tr>\n",
       "      <th>0</th>\n",
       "      <td>Children at school aged between 5 and 12 years</td>\n",
       "      <td>Male</td>\n",
       "      <td>On foot</td>\n",
       "      <td>129973</td>\n",
       "      <td>107125</td>\n",
       "      <td>79164</td>\n",
       "      <td>57570</td>\n",
       "      <td>55799</td>\n",
       "      <td>59986</td>\n",
       "      <td>64764</td>\n",
       "    </tr>\n",
       "    <tr>\n",
       "      <th>1</th>\n",
       "      <td>Children at school aged between 5 and 12 years</td>\n",
       "      <td>Male</td>\n",
       "      <td>Bicycle</td>\n",
       "      <td>14507</td>\n",
       "      <td>14203</td>\n",
       "      <td>7837</td>\n",
       "      <td>3640</td>\n",
       "      <td>3043</td>\n",
       "      <td>4457</td>\n",
       "      <td>4858</td>\n",
       "    </tr>\n",
       "    <tr>\n",
       "      <th>2</th>\n",
       "      <td>Children at school aged between 5 and 12 years</td>\n",
       "      <td>Male</td>\n",
       "      <td>Bus, minibus or coach</td>\n",
       "      <td>52928</td>\n",
       "      <td>55474</td>\n",
       "      <td>51008</td>\n",
       "      <td>38590</td>\n",
       "      <td>34413</td>\n",
       "      <td>31217</td>\n",
       "      <td>29410</td>\n",
       "    </tr>\n",
       "    <tr>\n",
       "      <th>3</th>\n",
       "      <td>Children at school aged between 5 and 12 years</td>\n",
       "      <td>Male</td>\n",
       "      <td>Train, DART or LUAS</td>\n",
       "      <td>325</td>\n",
       "      <td>438</td>\n",
       "      <td>306</td>\n",
       "      <td>262</td>\n",
       "      <td>328</td>\n",
       "      <td>371</td>\n",
       "      <td>383</td>\n",
       "    </tr>\n",
       "    <tr>\n",
       "      <th>4</th>\n",
       "      <td>Children at school aged between 5 and 12 years</td>\n",
       "      <td>Male</td>\n",
       "      <td>Motorcycle or scooter</td>\n",
       "      <td>0</td>\n",
       "      <td>0</td>\n",
       "      <td>0</td>\n",
       "      <td>0</td>\n",
       "      <td>0</td>\n",
       "      <td>0</td>\n",
       "      <td>0</td>\n",
       "    </tr>\n",
       "    <tr>\n",
       "      <th>5</th>\n",
       "      <td>Children at school aged between 5 and 12 years</td>\n",
       "      <td>Male</td>\n",
       "      <td>Motor car: Driver</td>\n",
       "      <td>0</td>\n",
       "      <td>0</td>\n",
       "      <td>0</td>\n",
       "      <td>0</td>\n",
       "      <td>0</td>\n",
       "      <td>0</td>\n",
       "      <td>0</td>\n",
       "    </tr>\n",
       "    <tr>\n",
       "      <th>6</th>\n",
       "      <td>Children at school aged between 5 and 12 years</td>\n",
       "      <td>Male</td>\n",
       "      <td>Motor car: Passenger</td>\n",
       "      <td>66293</td>\n",
       "      <td>73398</td>\n",
       "      <td>84966</td>\n",
       "      <td>110882</td>\n",
       "      <td>125866</td>\n",
       "      <td>150818</td>\n",
       "      <td>165890</td>\n",
       "    </tr>\n",
       "    <tr>\n",
       "      <th>7</th>\n",
       "      <td>Children at school aged between 5 and 12 years</td>\n",
       "      <td>Male</td>\n",
       "      <td>Other means (incl. lorry or van)</td>\n",
       "      <td>898</td>\n",
       "      <td>1375</td>\n",
       "      <td>1109</td>\n",
       "      <td>1049</td>\n",
       "      <td>797</td>\n",
       "      <td>588</td>\n",
       "      <td>573</td>\n",
       "    </tr>\n",
       "    <tr>\n",
       "      <th>8</th>\n",
       "      <td>Children at school aged between 5 and 12 years</td>\n",
       "      <td>Male</td>\n",
       "      <td>Work mainly at or from home</td>\n",
       "      <td>507</td>\n",
       "      <td>639</td>\n",
       "      <td>2410</td>\n",
       "      <td>3489</td>\n",
       "      <td>4394</td>\n",
       "      <td>135</td>\n",
       "      <td>147</td>\n",
       "    </tr>\n",
       "    <tr>\n",
       "      <th>9</th>\n",
       "      <td>Children at school aged between 5 and 12 years</td>\n",
       "      <td>Male</td>\n",
       "      <td>Not stated</td>\n",
       "      <td>20344</td>\n",
       "      <td>19591</td>\n",
       "      <td>14406</td>\n",
       "      <td>6421</td>\n",
       "      <td>5606</td>\n",
       "      <td>9140</td>\n",
       "      <td>13640</td>\n",
       "    </tr>\n",
       "    <tr>\n",
       "      <th>10</th>\n",
       "      <td>Children at school aged between 5 and 12 years</td>\n",
       "      <td>Female</td>\n",
       "      <td>On foot</td>\n",
       "      <td>121974</td>\n",
       "      <td>101942</td>\n",
       "      <td>75612</td>\n",
       "      <td>54941</td>\n",
       "      <td>53254</td>\n",
       "      <td>58537</td>\n",
       "      <td>63454</td>\n",
       "    </tr>\n",
       "    <tr>\n",
       "      <th>11</th>\n",
       "      <td>Children at school aged between 5 and 12 years</td>\n",
       "      <td>Female</td>\n",
       "      <td>Bicycle</td>\n",
       "      <td>9128</td>\n",
       "      <td>8204</td>\n",
       "      <td>3834</td>\n",
       "      <td>1188</td>\n",
       "      <td>1044</td>\n",
       "      <td>1795</td>\n",
       "      <td>2468</td>\n",
       "    </tr>\n",
       "    <tr>\n",
       "      <th>12</th>\n",
       "      <td>Children at school aged between 5 and 12 years</td>\n",
       "      <td>Female</td>\n",
       "      <td>Bus, minibus or coach</td>\n",
       "      <td>52317</td>\n",
       "      <td>54271</td>\n",
       "      <td>49425</td>\n",
       "      <td>37403</td>\n",
       "      <td>32937</td>\n",
       "      <td>29046</td>\n",
       "      <td>26735</td>\n",
       "    </tr>\n",
       "    <tr>\n",
       "      <th>13</th>\n",
       "      <td>Children at school aged between 5 and 12 years</td>\n",
       "      <td>Female</td>\n",
       "      <td>Train, DART or LUAS</td>\n",
       "      <td>311</td>\n",
       "      <td>297</td>\n",
       "      <td>208</td>\n",
       "      <td>207</td>\n",
       "      <td>266</td>\n",
       "      <td>320</td>\n",
       "      <td>318</td>\n",
       "    </tr>\n",
       "    <tr>\n",
       "      <th>14</th>\n",
       "      <td>Children at school aged between 5 and 12 years</td>\n",
       "      <td>Female</td>\n",
       "      <td>Motorcycle or scooter</td>\n",
       "      <td>0</td>\n",
       "      <td>0</td>\n",
       "      <td>0</td>\n",
       "      <td>0</td>\n",
       "      <td>0</td>\n",
       "      <td>0</td>\n",
       "      <td>0</td>\n",
       "    </tr>\n",
       "    <tr>\n",
       "      <th>15</th>\n",
       "      <td>Children at school aged between 5 and 12 years</td>\n",
       "      <td>Female</td>\n",
       "      <td>Motor car: Driver</td>\n",
       "      <td>0</td>\n",
       "      <td>0</td>\n",
       "      <td>0</td>\n",
       "      <td>0</td>\n",
       "      <td>0</td>\n",
       "      <td>0</td>\n",
       "      <td>0</td>\n",
       "    </tr>\n",
       "    <tr>\n",
       "      <th>16</th>\n",
       "      <td>Children at school aged between 5 and 12 years</td>\n",
       "      <td>Female</td>\n",
       "      <td>Motor car: Passenger</td>\n",
       "      <td>67331</td>\n",
       "      <td>73638</td>\n",
       "      <td>82938</td>\n",
       "      <td>106426</td>\n",
       "      <td>120936</td>\n",
       "      <td>145893</td>\n",
       "      <td>161149</td>\n",
       "    </tr>\n",
       "    <tr>\n",
       "      <th>17</th>\n",
       "      <td>Children at school aged between 5 and 12 years</td>\n",
       "      <td>Female</td>\n",
       "      <td>Other means (incl. lorry or van)</td>\n",
       "      <td>914</td>\n",
       "      <td>1291</td>\n",
       "      <td>1094</td>\n",
       "      <td>953</td>\n",
       "      <td>657</td>\n",
       "      <td>490</td>\n",
       "      <td>493</td>\n",
       "    </tr>\n",
       "    <tr>\n",
       "      <th>18</th>\n",
       "      <td>Children at school aged between 5 and 12 years</td>\n",
       "      <td>Female</td>\n",
       "      <td>Work mainly at or from home</td>\n",
       "      <td>431</td>\n",
       "      <td>513</td>\n",
       "      <td>2337</td>\n",
       "      <td>3136</td>\n",
       "      <td>3828</td>\n",
       "      <td>129</td>\n",
       "      <td>155</td>\n",
       "    </tr>\n",
       "    <tr>\n",
       "      <th>19</th>\n",
       "      <td>Children at school aged between 5 and 12 years</td>\n",
       "      <td>Female</td>\n",
       "      <td>Not stated</td>\n",
       "      <td>19095</td>\n",
       "      <td>18206</td>\n",
       "      <td>12887</td>\n",
       "      <td>6060</td>\n",
       "      <td>5199</td>\n",
       "      <td>8542</td>\n",
       "      <td>12479</td>\n",
       "    </tr>\n",
       "    <tr>\n",
       "      <th>20</th>\n",
       "      <td>Students at school or college aged between 13 ...</td>\n",
       "      <td>Male</td>\n",
       "      <td>On foot</td>\n",
       "      <td>50585</td>\n",
       "      <td>46865</td>\n",
       "      <td>48906</td>\n",
       "      <td>40249</td>\n",
       "      <td>36416</td>\n",
       "      <td>37443</td>\n",
       "      <td>37614</td>\n",
       "    </tr>\n",
       "    <tr>\n",
       "      <th>21</th>\n",
       "      <td>Students at school or college aged between 13 ...</td>\n",
       "      <td>Male</td>\n",
       "      <td>Bicycle</td>\n",
       "      <td>31522</td>\n",
       "      <td>30860</td>\n",
       "      <td>21783</td>\n",
       "      <td>10072</td>\n",
       "      <td>6856</td>\n",
       "      <td>6063</td>\n",
       "      <td>6588</td>\n",
       "    </tr>\n",
       "    <tr>\n",
       "      <th>22</th>\n",
       "      <td>Students at school or college aged between 13 ...</td>\n",
       "      <td>Male</td>\n",
       "      <td>Bus, minibus or coach</td>\n",
       "      <td>52597</td>\n",
       "      <td>57146</td>\n",
       "      <td>67519</td>\n",
       "      <td>57417</td>\n",
       "      <td>52639</td>\n",
       "      <td>48143</td>\n",
       "      <td>49934</td>\n",
       "    </tr>\n",
       "    <tr>\n",
       "      <th>23</th>\n",
       "      <td>Students at school or college aged between 13 ...</td>\n",
       "      <td>Male</td>\n",
       "      <td>Train, DART or LUAS</td>\n",
       "      <td>1660</td>\n",
       "      <td>2263</td>\n",
       "      <td>2330</td>\n",
       "      <td>2132</td>\n",
       "      <td>2673</td>\n",
       "      <td>2926</td>\n",
       "      <td>2933</td>\n",
       "    </tr>\n",
       "    <tr>\n",
       "      <th>24</th>\n",
       "      <td>Students at school or college aged between 13 ...</td>\n",
       "      <td>Male</td>\n",
       "      <td>Motorcycle or scooter</td>\n",
       "      <td>241</td>\n",
       "      <td>293</td>\n",
       "      <td>238</td>\n",
       "      <td>1205</td>\n",
       "      <td>399</td>\n",
       "      <td>181</td>\n",
       "      <td>97</td>\n",
       "    </tr>\n",
       "    <tr>\n",
       "      <th>25</th>\n",
       "      <td>Students at school or college aged between 13 ...</td>\n",
       "      <td>Male</td>\n",
       "      <td>Motor car: Driver</td>\n",
       "      <td>208</td>\n",
       "      <td>396</td>\n",
       "      <td>636</td>\n",
       "      <td>1388</td>\n",
       "      <td>2668</td>\n",
       "      <td>3584</td>\n",
       "      <td>2971</td>\n",
       "    </tr>\n",
       "    <tr>\n",
       "      <th>26</th>\n",
       "      <td>Students at school or college aged between 13 ...</td>\n",
       "      <td>Male</td>\n",
       "      <td>Motor car: Passenger</td>\n",
       "      <td>16044</td>\n",
       "      <td>21937</td>\n",
       "      <td>33103</td>\n",
       "      <td>42001</td>\n",
       "      <td>45750</td>\n",
       "      <td>61415</td>\n",
       "      <td>71622</td>\n",
       "    </tr>\n",
       "    <tr>\n",
       "      <th>27</th>\n",
       "      <td>Students at school or college aged between 13 ...</td>\n",
       "      <td>Male</td>\n",
       "      <td>Other means (incl. lorry or van)</td>\n",
       "      <td>426</td>\n",
       "      <td>648</td>\n",
       "      <td>728</td>\n",
       "      <td>599</td>\n",
       "      <td>483</td>\n",
       "      <td>498</td>\n",
       "      <td>401</td>\n",
       "    </tr>\n",
       "    <tr>\n",
       "      <th>28</th>\n",
       "      <td>Students at school or college aged between 13 ...</td>\n",
       "      <td>Male</td>\n",
       "      <td>Work mainly at or from home</td>\n",
       "      <td>5190</td>\n",
       "      <td>4099</td>\n",
       "      <td>4311</td>\n",
       "      <td>2595</td>\n",
       "      <td>2020</td>\n",
       "      <td>137</td>\n",
       "      <td>114</td>\n",
       "    </tr>\n",
       "    <tr>\n",
       "      <th>29</th>\n",
       "      <td>Students at school or college aged between 13 ...</td>\n",
       "      <td>Male</td>\n",
       "      <td>Not stated</td>\n",
       "      <td>9296</td>\n",
       "      <td>9068</td>\n",
       "      <td>5946</td>\n",
       "      <td>2148</td>\n",
       "      <td>1668</td>\n",
       "      <td>3654</td>\n",
       "      <td>5579</td>\n",
       "    </tr>\n",
       "    <tr>\n",
       "      <th>...</th>\n",
       "      <td>...</td>\n",
       "      <td>...</td>\n",
       "      <td>...</td>\n",
       "      <td>...</td>\n",
       "      <td>...</td>\n",
       "      <td>...</td>\n",
       "      <td>...</td>\n",
       "      <td>...</td>\n",
       "      <td>...</td>\n",
       "      <td>...</td>\n",
       "    </tr>\n",
       "    <tr>\n",
       "      <th>50</th>\n",
       "      <td>Students at school or college aged 19 years an...</td>\n",
       "      <td>Female</td>\n",
       "      <td>On foot</td>\n",
       "      <td>6359</td>\n",
       "      <td>10126</td>\n",
       "      <td>18067</td>\n",
       "      <td>26235</td>\n",
       "      <td>24924</td>\n",
       "      <td>27566</td>\n",
       "      <td>26328</td>\n",
       "    </tr>\n",
       "    <tr>\n",
       "      <th>51</th>\n",
       "      <td>Students at school or college aged 19 years an...</td>\n",
       "      <td>Female</td>\n",
       "      <td>Bicycle</td>\n",
       "      <td>4639</td>\n",
       "      <td>4286</td>\n",
       "      <td>4486</td>\n",
       "      <td>2130</td>\n",
       "      <td>1630</td>\n",
       "      <td>2315</td>\n",
       "      <td>3355</td>\n",
       "    </tr>\n",
       "    <tr>\n",
       "      <th>52</th>\n",
       "      <td>Students at school or college aged 19 years an...</td>\n",
       "      <td>Female</td>\n",
       "      <td>Bus, minibus or coach</td>\n",
       "      <td>5665</td>\n",
       "      <td>8651</td>\n",
       "      <td>15256</td>\n",
       "      <td>20929</td>\n",
       "      <td>20010</td>\n",
       "      <td>21165</td>\n",
       "      <td>24502</td>\n",
       "    </tr>\n",
       "    <tr>\n",
       "      <th>53</th>\n",
       "      <td>Students at school or college aged 19 years an...</td>\n",
       "      <td>Female</td>\n",
       "      <td>Train, DART or LUAS</td>\n",
       "      <td>1135</td>\n",
       "      <td>2356</td>\n",
       "      <td>3214</td>\n",
       "      <td>4294</td>\n",
       "      <td>5773</td>\n",
       "      <td>5840</td>\n",
       "      <td>6641</td>\n",
       "    </tr>\n",
       "    <tr>\n",
       "      <th>54</th>\n",
       "      <td>Students at school or college aged 19 years an...</td>\n",
       "      <td>Female</td>\n",
       "      <td>Motorcycle or scooter</td>\n",
       "      <td>191</td>\n",
       "      <td>166</td>\n",
       "      <td>156</td>\n",
       "      <td>328</td>\n",
       "      <td>156</td>\n",
       "      <td>127</td>\n",
       "      <td>79</td>\n",
       "    </tr>\n",
       "    <tr>\n",
       "      <th>55</th>\n",
       "      <td>Students at school or college aged 19 years an...</td>\n",
       "      <td>Female</td>\n",
       "      <td>Motor car: Driver</td>\n",
       "      <td>699</td>\n",
       "      <td>1363</td>\n",
       "      <td>2959</td>\n",
       "      <td>11447</td>\n",
       "      <td>19487</td>\n",
       "      <td>29580</td>\n",
       "      <td>23499</td>\n",
       "    </tr>\n",
       "    <tr>\n",
       "      <th>56</th>\n",
       "      <td>Students at school or college aged 19 years an...</td>\n",
       "      <td>Female</td>\n",
       "      <td>Motor car: Passenger</td>\n",
       "      <td>1973</td>\n",
       "      <td>2740</td>\n",
       "      <td>4663</td>\n",
       "      <td>7068</td>\n",
       "      <td>6829</td>\n",
       "      <td>8795</td>\n",
       "      <td>10186</td>\n",
       "    </tr>\n",
       "    <tr>\n",
       "      <th>57</th>\n",
       "      <td>Students at school or college aged 19 years an...</td>\n",
       "      <td>Female</td>\n",
       "      <td>Other means (incl. lorry or van)</td>\n",
       "      <td>80</td>\n",
       "      <td>136</td>\n",
       "      <td>227</td>\n",
       "      <td>169</td>\n",
       "      <td>156</td>\n",
       "      <td>128</td>\n",
       "      <td>118</td>\n",
       "    </tr>\n",
       "    <tr>\n",
       "      <th>58</th>\n",
       "      <td>Students at school or college aged 19 years an...</td>\n",
       "      <td>Female</td>\n",
       "      <td>Work mainly at or from home</td>\n",
       "      <td>397</td>\n",
       "      <td>560</td>\n",
       "      <td>1119</td>\n",
       "      <td>1106</td>\n",
       "      <td>1319</td>\n",
       "      <td>353</td>\n",
       "      <td>349</td>\n",
       "    </tr>\n",
       "    <tr>\n",
       "      <th>59</th>\n",
       "      <td>Students at school or college aged 19 years an...</td>\n",
       "      <td>Female</td>\n",
       "      <td>Not stated</td>\n",
       "      <td>1015</td>\n",
       "      <td>1266</td>\n",
       "      <td>1744</td>\n",
       "      <td>1003</td>\n",
       "      <td>1301</td>\n",
       "      <td>3148</td>\n",
       "      <td>3252</td>\n",
       "    </tr>\n",
       "    <tr>\n",
       "      <th>60</th>\n",
       "      <td>Population aged 15 years and over at work</td>\n",
       "      <td>Male</td>\n",
       "      <td>On foot</td>\n",
       "      <td>69916</td>\n",
       "      <td>58989</td>\n",
       "      <td>67964</td>\n",
       "      <td>83279</td>\n",
       "      <td>94567</td>\n",
       "      <td>73714</td>\n",
       "      <td>79566</td>\n",
       "    </tr>\n",
       "    <tr>\n",
       "      <th>61</th>\n",
       "      <td>Population aged 15 years and over at work</td>\n",
       "      <td>Male</td>\n",
       "      <td>Bicycle</td>\n",
       "      <td>39469</td>\n",
       "      <td>34337</td>\n",
       "      <td>33852</td>\n",
       "      <td>26423</td>\n",
       "      <td>27948</td>\n",
       "      <td>29075</td>\n",
       "      <td>41341</td>\n",
       "    </tr>\n",
       "    <tr>\n",
       "      <th>62</th>\n",
       "      <td>Population aged 15 years and over at work</td>\n",
       "      <td>Male</td>\n",
       "      <td>Bus, minibus or coach</td>\n",
       "      <td>41878</td>\n",
       "      <td>35824</td>\n",
       "      <td>40512</td>\n",
       "      <td>48286</td>\n",
       "      <td>54271</td>\n",
       "      <td>38595</td>\n",
       "      <td>49788</td>\n",
       "    </tr>\n",
       "    <tr>\n",
       "      <th>63</th>\n",
       "      <td>Population aged 15 years and over at work</td>\n",
       "      <td>Male</td>\n",
       "      <td>Train, DART or LUAS</td>\n",
       "      <td>9492</td>\n",
       "      <td>10352</td>\n",
       "      <td>11489</td>\n",
       "      <td>16897</td>\n",
       "      <td>28049</td>\n",
       "      <td>25652</td>\n",
       "      <td>32307</td>\n",
       "    </tr>\n",
       "    <tr>\n",
       "      <th>64</th>\n",
       "      <td>Population aged 15 years and over at work</td>\n",
       "      <td>Male</td>\n",
       "      <td>Motorcycle or scooter</td>\n",
       "      <td>12827</td>\n",
       "      <td>10463</td>\n",
       "      <td>10874</td>\n",
       "      <td>15122</td>\n",
       "      <td>11225</td>\n",
       "      <td>7332</td>\n",
       "      <td>6740</td>\n",
       "    </tr>\n",
       "    <tr>\n",
       "      <th>65</th>\n",
       "      <td>Population aged 15 years and over at work</td>\n",
       "      <td>Male</td>\n",
       "      <td>Motor car: Driver</td>\n",
       "      <td>308726</td>\n",
       "      <td>303338</td>\n",
       "      <td>378075</td>\n",
       "      <td>500004</td>\n",
       "      <td>580034</td>\n",
       "      <td>515813</td>\n",
       "      <td>561704</td>\n",
       "    </tr>\n",
       "    <tr>\n",
       "      <th>66</th>\n",
       "      <td>Population aged 15 years and over at work</td>\n",
       "      <td>Male</td>\n",
       "      <td>Motor car: Passenger</td>\n",
       "      <td>34726</td>\n",
       "      <td>33067</td>\n",
       "      <td>45519</td>\n",
       "      <td>52705</td>\n",
       "      <td>55033</td>\n",
       "      <td>25818</td>\n",
       "      <td>33351</td>\n",
       "    </tr>\n",
       "    <tr>\n",
       "      <th>67</th>\n",
       "      <td>Population aged 15 years and over at work</td>\n",
       "      <td>Male</td>\n",
       "      <td>Other means (incl. lorry or van)</td>\n",
       "      <td>31142</td>\n",
       "      <td>41646</td>\n",
       "      <td>51862</td>\n",
       "      <td>111891</td>\n",
       "      <td>143533</td>\n",
       "      <td>127831</td>\n",
       "      <td>134521</td>\n",
       "    </tr>\n",
       "    <tr>\n",
       "      <th>68</th>\n",
       "      <td>Population aged 15 years and over at work</td>\n",
       "      <td>Male</td>\n",
       "      <td>Work mainly at or from home</td>\n",
       "      <td>159914</td>\n",
       "      <td>189110</td>\n",
       "      <td>127913</td>\n",
       "      <td>72712</td>\n",
       "      <td>69261</td>\n",
       "      <td>59278</td>\n",
       "      <td>65608</td>\n",
       "    </tr>\n",
       "    <tr>\n",
       "      <th>69</th>\n",
       "      <td>Population aged 15 years and over at work</td>\n",
       "      <td>Male</td>\n",
       "      <td>Not stated</td>\n",
       "      <td>28409</td>\n",
       "      <td>19979</td>\n",
       "      <td>26711</td>\n",
       "      <td>17717</td>\n",
       "      <td>20176</td>\n",
       "      <td>36067</td>\n",
       "      <td>52639</td>\n",
       "    </tr>\n",
       "    <tr>\n",
       "      <th>70</th>\n",
       "      <td>Population aged 15 years and over at work</td>\n",
       "      <td>Female</td>\n",
       "      <td>On foot</td>\n",
       "      <td>66084</td>\n",
       "      <td>67169</td>\n",
       "      <td>80412</td>\n",
       "      <td>100569</td>\n",
       "      <td>111121</td>\n",
       "      <td>96796</td>\n",
       "      <td>95514</td>\n",
       "    </tr>\n",
       "    <tr>\n",
       "      <th>71</th>\n",
       "      <td>Population aged 15 years and over at work</td>\n",
       "      <td>Female</td>\n",
       "      <td>Bicycle</td>\n",
       "      <td>21281</td>\n",
       "      <td>15920</td>\n",
       "      <td>12580</td>\n",
       "      <td>7827</td>\n",
       "      <td>8358</td>\n",
       "      <td>10728</td>\n",
       "      <td>15496</td>\n",
       "    </tr>\n",
       "    <tr>\n",
       "      <th>72</th>\n",
       "      <td>Population aged 15 years and over at work</td>\n",
       "      <td>Female</td>\n",
       "      <td>Bus, minibus or coach</td>\n",
       "      <td>51458</td>\n",
       "      <td>51553</td>\n",
       "      <td>57777</td>\n",
       "      <td>59029</td>\n",
       "      <td>60685</td>\n",
       "      <td>53081</td>\n",
       "      <td>61648</td>\n",
       "    </tr>\n",
       "    <tr>\n",
       "      <th>73</th>\n",
       "      <td>Population aged 15 years and over at work</td>\n",
       "      <td>Female</td>\n",
       "      <td>Train, DART or LUAS</td>\n",
       "      <td>6604</td>\n",
       "      <td>9482</td>\n",
       "      <td>11079</td>\n",
       "      <td>16169</td>\n",
       "      <td>26893</td>\n",
       "      <td>27097</td>\n",
       "      <td>30826</td>\n",
       "    </tr>\n",
       "    <tr>\n",
       "      <th>74</th>\n",
       "      <td>Population aged 15 years and over at work</td>\n",
       "      <td>Female</td>\n",
       "      <td>Motorcycle or scooter</td>\n",
       "      <td>2787</td>\n",
       "      <td>2250</td>\n",
       "      <td>1290</td>\n",
       "      <td>2207</td>\n",
       "      <td>1824</td>\n",
       "      <td>1111</td>\n",
       "      <td>1250</td>\n",
       "    </tr>\n",
       "    <tr>\n",
       "      <th>75</th>\n",
       "      <td>Population aged 15 years and over at work</td>\n",
       "      <td>Female</td>\n",
       "      <td>Motor car: Driver</td>\n",
       "      <td>94152</td>\n",
       "      <td>138955</td>\n",
       "      <td>221207</td>\n",
       "      <td>387164</td>\n",
       "      <td>500412</td>\n",
       "      <td>551638</td>\n",
       "      <td>590927</td>\n",
       "    </tr>\n",
       "    <tr>\n",
       "      <th>76</th>\n",
       "      <td>Population aged 15 years and over at work</td>\n",
       "      <td>Female</td>\n",
       "      <td>Motor car: Passenger</td>\n",
       "      <td>55105</td>\n",
       "      <td>57932</td>\n",
       "      <td>66913</td>\n",
       "      <td>55677</td>\n",
       "      <td>49828</td>\n",
       "      <td>43346</td>\n",
       "      <td>43984</td>\n",
       "    </tr>\n",
       "    <tr>\n",
       "      <th>77</th>\n",
       "      <td>Population aged 15 years and over at work</td>\n",
       "      <td>Female</td>\n",
       "      <td>Other means (incl. lorry or van)</td>\n",
       "      <td>2212</td>\n",
       "      <td>4257</td>\n",
       "      <td>3296</td>\n",
       "      <td>3277</td>\n",
       "      <td>3502</td>\n",
       "      <td>3187</td>\n",
       "      <td>3101</td>\n",
       "    </tr>\n",
       "    <tr>\n",
       "      <th>78</th>\n",
       "      <td>Population aged 15 years and over at work</td>\n",
       "      <td>Female</td>\n",
       "      <td>Work mainly at or from home</td>\n",
       "      <td>26942</td>\n",
       "      <td>36126</td>\n",
       "      <td>30836</td>\n",
       "      <td>24855</td>\n",
       "      <td>36445</td>\n",
       "      <td>24048</td>\n",
       "      <td>29347</td>\n",
       "    </tr>\n",
       "    <tr>\n",
       "      <th>79</th>\n",
       "      <td>Population aged 15 years and over at work</td>\n",
       "      <td>Female</td>\n",
       "      <td>Not stated</td>\n",
       "      <td>20523</td>\n",
       "      <td>16708</td>\n",
       "      <td>13849</td>\n",
       "      <td>9071</td>\n",
       "      <td>9622</td>\n",
       "      <td>28193</td>\n",
       "      <td>41070</td>\n",
       "    </tr>\n",
       "  </tbody>\n",
       "</table>\n",
       "<p>80 rows × 10 columns</p>\n",
       "</div>"
      ],
      "text/plain": [
       "                                                Group     Sex  \\\n",
       "0      Children at school aged between 5 and 12 years    Male   \n",
       "1      Children at school aged between 5 and 12 years    Male   \n",
       "2      Children at school aged between 5 and 12 years    Male   \n",
       "3      Children at school aged between 5 and 12 years    Male   \n",
       "4      Children at school aged between 5 and 12 years    Male   \n",
       "5      Children at school aged between 5 and 12 years    Male   \n",
       "6      Children at school aged between 5 and 12 years    Male   \n",
       "7      Children at school aged between 5 and 12 years    Male   \n",
       "8      Children at school aged between 5 and 12 years    Male   \n",
       "9      Children at school aged between 5 and 12 years    Male   \n",
       "10     Children at school aged between 5 and 12 years  Female   \n",
       "11     Children at school aged between 5 and 12 years  Female   \n",
       "12     Children at school aged between 5 and 12 years  Female   \n",
       "13     Children at school aged between 5 and 12 years  Female   \n",
       "14     Children at school aged between 5 and 12 years  Female   \n",
       "15     Children at school aged between 5 and 12 years  Female   \n",
       "16     Children at school aged between 5 and 12 years  Female   \n",
       "17     Children at school aged between 5 and 12 years  Female   \n",
       "18     Children at school aged between 5 and 12 years  Female   \n",
       "19     Children at school aged between 5 and 12 years  Female   \n",
       "20  Students at school or college aged between 13 ...    Male   \n",
       "21  Students at school or college aged between 13 ...    Male   \n",
       "22  Students at school or college aged between 13 ...    Male   \n",
       "23  Students at school or college aged between 13 ...    Male   \n",
       "24  Students at school or college aged between 13 ...    Male   \n",
       "25  Students at school or college aged between 13 ...    Male   \n",
       "26  Students at school or college aged between 13 ...    Male   \n",
       "27  Students at school or college aged between 13 ...    Male   \n",
       "28  Students at school or college aged between 13 ...    Male   \n",
       "29  Students at school or college aged between 13 ...    Male   \n",
       "..                                                ...     ...   \n",
       "50  Students at school or college aged 19 years an...  Female   \n",
       "51  Students at school or college aged 19 years an...  Female   \n",
       "52  Students at school or college aged 19 years an...  Female   \n",
       "53  Students at school or college aged 19 years an...  Female   \n",
       "54  Students at school or college aged 19 years an...  Female   \n",
       "55  Students at school or college aged 19 years an...  Female   \n",
       "56  Students at school or college aged 19 years an...  Female   \n",
       "57  Students at school or college aged 19 years an...  Female   \n",
       "58  Students at school or college aged 19 years an...  Female   \n",
       "59  Students at school or college aged 19 years an...  Female   \n",
       "60          Population aged 15 years and over at work    Male   \n",
       "61          Population aged 15 years and over at work    Male   \n",
       "62          Population aged 15 years and over at work    Male   \n",
       "63          Population aged 15 years and over at work    Male   \n",
       "64          Population aged 15 years and over at work    Male   \n",
       "65          Population aged 15 years and over at work    Male   \n",
       "66          Population aged 15 years and over at work    Male   \n",
       "67          Population aged 15 years and over at work    Male   \n",
       "68          Population aged 15 years and over at work    Male   \n",
       "69          Population aged 15 years and over at work    Male   \n",
       "70          Population aged 15 years and over at work  Female   \n",
       "71          Population aged 15 years and over at work  Female   \n",
       "72          Population aged 15 years and over at work  Female   \n",
       "73          Population aged 15 years and over at work  Female   \n",
       "74          Population aged 15 years and over at work  Female   \n",
       "75          Population aged 15 years and over at work  Female   \n",
       "76          Population aged 15 years and over at work  Female   \n",
       "77          Population aged 15 years and over at work  Female   \n",
       "78          Population aged 15 years and over at work  Female   \n",
       "79          Population aged 15 years and over at work  Female   \n",
       "\n",
       "                                Mode    1986    1991    1996    2001    2006  \\\n",
       "0                            On foot  129973  107125   79164   57570   55799   \n",
       "1                            Bicycle   14507   14203    7837    3640    3043   \n",
       "2              Bus, minibus or coach   52928   55474   51008   38590   34413   \n",
       "3                Train, DART or LUAS     325     438     306     262     328   \n",
       "4              Motorcycle or scooter       0       0       0       0       0   \n",
       "5                  Motor car: Driver       0       0       0       0       0   \n",
       "6               Motor car: Passenger   66293   73398   84966  110882  125866   \n",
       "7   Other means (incl. lorry or van)     898    1375    1109    1049     797   \n",
       "8        Work mainly at or from home     507     639    2410    3489    4394   \n",
       "9                         Not stated   20344   19591   14406    6421    5606   \n",
       "10                           On foot  121974  101942   75612   54941   53254   \n",
       "11                           Bicycle    9128    8204    3834    1188    1044   \n",
       "12             Bus, minibus or coach   52317   54271   49425   37403   32937   \n",
       "13               Train, DART or LUAS     311     297     208     207     266   \n",
       "14             Motorcycle or scooter       0       0       0       0       0   \n",
       "15                 Motor car: Driver       0       0       0       0       0   \n",
       "16              Motor car: Passenger   67331   73638   82938  106426  120936   \n",
       "17  Other means (incl. lorry or van)     914    1291    1094     953     657   \n",
       "18       Work mainly at or from home     431     513    2337    3136    3828   \n",
       "19                        Not stated   19095   18206   12887    6060    5199   \n",
       "20                           On foot   50585   46865   48906   40249   36416   \n",
       "21                           Bicycle   31522   30860   21783   10072    6856   \n",
       "22             Bus, minibus or coach   52597   57146   67519   57417   52639   \n",
       "23               Train, DART or LUAS    1660    2263    2330    2132    2673   \n",
       "24             Motorcycle or scooter     241     293     238    1205     399   \n",
       "25                 Motor car: Driver     208     396     636    1388    2668   \n",
       "26              Motor car: Passenger   16044   21937   33103   42001   45750   \n",
       "27  Other means (incl. lorry or van)     426     648     728     599     483   \n",
       "28       Work mainly at or from home    5190    4099    4311    2595    2020   \n",
       "29                        Not stated    9296    9068    5946    2148    1668   \n",
       "..                               ...     ...     ...     ...     ...     ...   \n",
       "50                           On foot    6359   10126   18067   26235   24924   \n",
       "51                           Bicycle    4639    4286    4486    2130    1630   \n",
       "52             Bus, minibus or coach    5665    8651   15256   20929   20010   \n",
       "53               Train, DART or LUAS    1135    2356    3214    4294    5773   \n",
       "54             Motorcycle or scooter     191     166     156     328     156   \n",
       "55                 Motor car: Driver     699    1363    2959   11447   19487   \n",
       "56              Motor car: Passenger    1973    2740    4663    7068    6829   \n",
       "57  Other means (incl. lorry or van)      80     136     227     169     156   \n",
       "58       Work mainly at or from home     397     560    1119    1106    1319   \n",
       "59                        Not stated    1015    1266    1744    1003    1301   \n",
       "60                           On foot   69916   58989   67964   83279   94567   \n",
       "61                           Bicycle   39469   34337   33852   26423   27948   \n",
       "62             Bus, minibus or coach   41878   35824   40512   48286   54271   \n",
       "63               Train, DART or LUAS    9492   10352   11489   16897   28049   \n",
       "64             Motorcycle or scooter   12827   10463   10874   15122   11225   \n",
       "65                 Motor car: Driver  308726  303338  378075  500004  580034   \n",
       "66              Motor car: Passenger   34726   33067   45519   52705   55033   \n",
       "67  Other means (incl. lorry or van)   31142   41646   51862  111891  143533   \n",
       "68       Work mainly at or from home  159914  189110  127913   72712   69261   \n",
       "69                        Not stated   28409   19979   26711   17717   20176   \n",
       "70                           On foot   66084   67169   80412  100569  111121   \n",
       "71                           Bicycle   21281   15920   12580    7827    8358   \n",
       "72             Bus, minibus or coach   51458   51553   57777   59029   60685   \n",
       "73               Train, DART or LUAS    6604    9482   11079   16169   26893   \n",
       "74             Motorcycle or scooter    2787    2250    1290    2207    1824   \n",
       "75                 Motor car: Driver   94152  138955  221207  387164  500412   \n",
       "76              Motor car: Passenger   55105   57932   66913   55677   49828   \n",
       "77  Other means (incl. lorry or van)    2212    4257    3296    3277    3502   \n",
       "78       Work mainly at or from home   26942   36126   30836   24855   36445   \n",
       "79                        Not stated   20523   16708   13849    9071    9622   \n",
       "\n",
       "      2011    2016  \n",
       "0    59986   64764  \n",
       "1     4457    4858  \n",
       "2    31217   29410  \n",
       "3      371     383  \n",
       "4        0       0  \n",
       "5        0       0  \n",
       "6   150818  165890  \n",
       "7      588     573  \n",
       "8      135     147  \n",
       "9     9140   13640  \n",
       "10   58537   63454  \n",
       "11    1795    2468  \n",
       "12   29046   26735  \n",
       "13     320     318  \n",
       "14       0       0  \n",
       "15       0       0  \n",
       "16  145893  161149  \n",
       "17     490     493  \n",
       "18     129     155  \n",
       "19    8542   12479  \n",
       "20   37443   37614  \n",
       "21    6063    6588  \n",
       "22   48143   49934  \n",
       "23    2926    2933  \n",
       "24     181      97  \n",
       "25    3584    2971  \n",
       "26   61415   71622  \n",
       "27     498     401  \n",
       "28     137     114  \n",
       "29    3654    5579  \n",
       "..     ...     ...  \n",
       "50   27566   26328  \n",
       "51    2315    3355  \n",
       "52   21165   24502  \n",
       "53    5840    6641  \n",
       "54     127      79  \n",
       "55   29580   23499  \n",
       "56    8795   10186  \n",
       "57     128     118  \n",
       "58     353     349  \n",
       "59    3148    3252  \n",
       "60   73714   79566  \n",
       "61   29075   41341  \n",
       "62   38595   49788  \n",
       "63   25652   32307  \n",
       "64    7332    6740  \n",
       "65  515813  561704  \n",
       "66   25818   33351  \n",
       "67  127831  134521  \n",
       "68   59278   65608  \n",
       "69   36067   52639  \n",
       "70   96796   95514  \n",
       "71   10728   15496  \n",
       "72   53081   61648  \n",
       "73   27097   30826  \n",
       "74    1111    1250  \n",
       "75  551638  590927  \n",
       "76   43346   43984  \n",
       "77    3187    3101  \n",
       "78   24048   29347  \n",
       "79   28193   41070  \n",
       "\n",
       "[80 rows x 10 columns]"
      ]
     },
     "execution_count": 6,
     "metadata": {},
     "output_type": "execute_result"
    }
   ],
   "source": [
    "# Read in some data about commuting in Ireland\n",
    "irl_trans = pd.read_csv(\"ireland_transport.csv\")\n",
    "irl_trans"
   ]
  },
  {
   "cell_type": "code",
   "execution_count": 7,
   "metadata": {},
   "outputs": [
    {
     "data": {
      "text/html": [
       "<div>\n",
       "<table border=\"1\" class=\"dataframe\">\n",
       "  <thead>\n",
       "    <tr style=\"text-align: right;\">\n",
       "      <th>Sex</th>\n",
       "      <th>Female</th>\n",
       "      <th>Male</th>\n",
       "    </tr>\n",
       "    <tr>\n",
       "      <th>Group</th>\n",
       "      <th></th>\n",
       "      <th></th>\n",
       "    </tr>\n",
       "  </thead>\n",
       "  <tbody>\n",
       "    <tr>\n",
       "      <th>Children at school aged between 5 and 12 years</th>\n",
       "      <td>267251</td>\n",
       "      <td>279665</td>\n",
       "    </tr>\n",
       "    <tr>\n",
       "      <th>Population aged 15 years and over at work</th>\n",
       "      <td>913163</td>\n",
       "      <td>1057565</td>\n",
       "    </tr>\n",
       "    <tr>\n",
       "      <th>Students at school or college aged 19 years and over</th>\n",
       "      <td>98309</td>\n",
       "      <td>92486</td>\n",
       "    </tr>\n",
       "    <tr>\n",
       "      <th>Students at school or college aged between 13 and 18 years</th>\n",
       "      <td>172315</td>\n",
       "      <td>177853</td>\n",
       "    </tr>\n",
       "  </tbody>\n",
       "</table>\n",
       "</div>"
      ],
      "text/plain": [
       "Sex                                                 Female     Male\n",
       "Group                                                              \n",
       "Children at school aged between 5 and 12 years      267251   279665\n",
       "Population aged 15 years and over at work           913163  1057565\n",
       "Students at school or college aged 19 years and...   98309    92486\n",
       "Students at school or college aged between 13 a...  172315   177853"
      ]
     },
     "execution_count": 7,
     "metadata": {},
     "output_type": "execute_result"
    }
   ],
   "source": [
    "# Create a contingency table\n",
    "grp_vs_gen_tab = pd.crosstab(irl_trans[\"Group\"], irl_trans[\"Sex\"], values=irl_trans[\"2016\"], aggfunc=np.sum )\n",
    "grp_vs_gen_tab"
   ]
  },
  {
   "cell_type": "code",
   "execution_count": 8,
   "metadata": {},
   "outputs": [
    {
     "name": "stdout",
     "output_type": "stream",
     "text": [
      "chi-squared 3125.270216784954\n",
      "p = 0.0\n",
      "degrees of freedom = 3\n",
      "expected value table: \n",
      "[[ 259463.18007119  287452.81992881]\n",
      " [ 934935.81086553 1035792.18913447]\n",
      " [  90515.32125899  100279.67874101]\n",
      " [ 166123.68780428  184044.31219572]]\n"
     ]
    }
   ],
   "source": [
    "\n",
    "# Apply the Chi-squared test to the contingency table\n",
    "chisq, p, dof, evs = ss.chi2_contingency(grp_vs_gen_tab)\n",
    "print(\"chi-squared \" + str(chisq))\n",
    "print(\"p = \" + str(p))\n",
    "print(\"degrees of freedom = \" + str(dof))\n",
    "print(\"expected value table: \")\n",
    "print(evs)"
   ]
  },
  {
   "cell_type": "markdown",
   "metadata": {},
   "source": [
    "**Interpretation:** The Chi-squared statistic is high and the p-value equal to 0, indicating that there is a relationship between the gender and group variables. This means that the sexes are not evenly represented across the groups in the sample."
   ]
  },
  {
   "cell_type": "markdown",
   "metadata": {},
   "source": [
    "### Chi-squared test on data fixed to match expected values"
   ]
  },
  {
   "cell_type": "code",
   "execution_count": 11,
   "metadata": {},
   "outputs": [
    {
     "data": {
      "text/html": [
       "<div>\n",
       "<table border=\"1\" class=\"dataframe\">\n",
       "  <thead>\n",
       "    <tr style=\"text-align: right;\">\n",
       "      <th></th>\n",
       "      <th>one</th>\n",
       "      <th>three</th>\n",
       "      <th>two</th>\n",
       "    </tr>\n",
       "  </thead>\n",
       "  <tbody>\n",
       "    <tr>\n",
       "      <th>0</th>\n",
       "      <td>1111</td>\n",
       "      <td>3333</td>\n",
       "      <td>2222</td>\n",
       "    </tr>\n",
       "    <tr>\n",
       "      <th>1</th>\n",
       "      <td>2222</td>\n",
       "      <td>6666</td>\n",
       "      <td>4444</td>\n",
       "    </tr>\n",
       "    <tr>\n",
       "      <th>2</th>\n",
       "      <td>3333</td>\n",
       "      <td>9999</td>\n",
       "      <td>6666</td>\n",
       "    </tr>\n",
       "    <tr>\n",
       "      <th>3</th>\n",
       "      <td>4444</td>\n",
       "      <td>13332</td>\n",
       "      <td>8888</td>\n",
       "    </tr>\n",
       "  </tbody>\n",
       "</table>\n",
       "</div>"
      ],
      "text/plain": [
       "    one  three   two\n",
       "0  1111   3333  2222\n",
       "1  2222   6666  4444\n",
       "2  3333   9999  6666\n",
       "3  4444  13332  8888"
      ]
     },
     "execution_count": 11,
     "metadata": {},
     "output_type": "execute_result"
    }
   ],
   "source": [
    "# Make some perfectly distributed data\n",
    "col1 = [1111, 2222, 3333, 4444]\n",
    "col2 = [2222, 4444, 6666, 8888]\n",
    "col3 = [3333, 6666, 9999, 13332]\n",
    "tab = pd.DataFrame({'one':col1, 'two':col2, 'three':col3})\n",
    "tab"
   ]
  },
  {
   "cell_type": "code",
   "execution_count": 13,
   "metadata": {},
   "outputs": [
    {
     "name": "stdout",
     "output_type": "stream",
     "text": [
      "chi-squared 0.0\n",
      "p = 1.0\n",
      "degrees of freedom = 6\n",
      "expected value table: \n",
      "[[ 1111.  3333.  2222.]\n",
      " [ 2222.  6666.  4444.]\n",
      " [ 3333.  9999.  6666.]\n",
      " [ 4444. 13332.  8888.]]\n"
     ]
    }
   ],
   "source": [
    "# Apply the Chi-squared test to the 'fixed' data\n",
    "chisq, p, dof, evs = ss.chi2_contingency(tab)\n",
    "print(\"chi-squared \" + str(chisq))\n",
    "print(\"p = \" + str(p))\n",
    "print(\"degrees of freedom = \" + str(dof))\n",
    "print(\"expected value table: \")\n",
    "print(evs)"
   ]
  },
  {
   "cell_type": "markdown",
   "metadata": {},
   "source": [
    "**Interpretation:** The Chi-squared statistic is 0 and the p-value 1. This indicates a perfect randomness and lack of relationship between the column and row variables. However, a result like this in a real scenario would be 'too good to be true' and may indicate data fixing."
   ]
  },
  {
   "cell_type": "markdown",
   "metadata": {},
   "source": [
    "## <a id=\"t\">Student's T-Test</a>\n",
    "\n",
    "The t-test is used to test whether two samples belong to the same population. It uses the t-statistic devised by William Sealy Gosset, which depends on the standard deviations of the samples and their means (making this a **parametric** test).\n",
    "\n",
    "Another way to view the test is as a test for a relationship between a numeric variable and a categorical one (the categorical variable's two values being membership of one or the other group).\n",
    "\n",
    "We will apply the t-test to the *iris* data set portions for two species. "
   ]
  },
  {
   "cell_type": "markdown",
   "metadata": {},
   "source": [
    "### Testing samples that are known to be from different populations"
   ]
  },
  {
   "cell_type": "code",
   "execution_count": 14,
   "metadata": {},
   "outputs": [],
   "source": [
    "# Import the iris dataset, then create subsets for each flower species\n",
    "import pandas as pd\n",
    "irisdf = pd.read_csv(\"iris.csv\", index_col=0)"
   ]
  },
  {
   "cell_type": "code",
   "execution_count": 15,
   "metadata": {},
   "outputs": [
    {
     "name": "stdout",
     "output_type": "stream",
     "text": [
      "   Sepal.Length  Sepal.Width  Petal.Length  Petal.Width Species\n",
      "1           5.1          3.5           1.4          0.2  setosa\n",
      "2           4.9          3.0           1.4          0.2  setosa\n",
      "3           4.7          3.2           1.3          0.2  setosa\n"
     ]
    }
   ],
   "source": [
    "setosadf = irisdf[irisdf[\"Species\"]==\"setosa\"]\n",
    "print(setosadf.head(3))"
   ]
  },
  {
   "cell_type": "code",
   "execution_count": 16,
   "metadata": {},
   "outputs": [
    {
     "name": "stdout",
     "output_type": "stream",
     "text": [
      "     Sepal.Length  Sepal.Width  Petal.Length  Petal.Width    Species\n",
      "101           6.3          3.3           6.0          2.5  virginica\n",
      "102           5.8          2.7           5.1          1.9  virginica\n",
      "103           7.1          3.0           5.9          2.1  virginica\n"
     ]
    }
   ],
   "source": [
    "virginicadf = irisdf[irisdf[\"Species\"]==\"virginica\"]\n",
    "print(virginicadf.head(3))"
   ]
  },
  {
   "cell_type": "code",
   "execution_count": 17,
   "metadata": {},
   "outputs": [
    {
     "name": "stdout",
     "output_type": "stream",
     "text": [
      "    Sepal.Length  Sepal.Width  Petal.Length  Petal.Width     Species\n",
      "51           7.0          3.2           4.7          1.4  versicolor\n",
      "52           6.4          3.2           4.5          1.5  versicolor\n",
      "53           6.9          3.1           4.9          1.5  versicolor\n"
     ]
    }
   ],
   "source": [
    "versicolordf = irisdf[irisdf[\"Species\"]==\"versicolor\"]\n",
    "print(versicolordf.head(3))"
   ]
  },
  {
   "cell_type": "code",
   "execution_count": 18,
   "metadata": {},
   "outputs": [
    {
     "name": "stdout",
     "output_type": "stream",
     "text": [
      "setosa, versicolor\n",
      "t-statistic: -39.492719391538095\n",
      "p-value: 5.404910513441677e-62\n",
      "\n",
      "\n",
      "setosa, virginica\n",
      "t-statistic: -49.98618625709594\n",
      "p-value: 1.5048006992427275e-71\n",
      "\n",
      "\n",
      "versicolor, virginica\n",
      "t-statistic: -12.603779441384985\n",
      "p-value: 3.1788195478061495e-22\n",
      "\n",
      "\n"
     ]
    }
   ],
   "source": [
    "import scipy.stats as sps\n",
    "# Define a function that runs the t-test between sections of the iris dataset and prints results\n",
    "def runtt(d1, d2, attrib, title) :\n",
    "    t, p = sps.ttest_ind(d1[attrib], d2[attrib])\n",
    "    print(title + \"\\nt-statistic: \" + str(t) + \"\\np-value: \" + str(p) + \"\\n\\n\")\n",
    "\n",
    "# Run the t-test for the petal length between pairs of samples\n",
    "runtt(setosadf, versicolordf, \"Petal.Length\", \"setosa, versicolor\")\n",
    "runtt(setosadf, virginicadf, \"Petal.Length\", \"setosa, virginica\")\n",
    "runtt(versicolordf, virginicadf, \"Petal.Length\", \"versicolor, virginica\")"
   ]
  },
  {
   "cell_type": "markdown",
   "metadata": {},
   "source": [
    "**What do these results tell us?** The p-values are very low in all cases, which means that in all cases the calculated t-statistic has a value that is extremely unlikely in the case of two unbiased samples from the same population. The conclusion is that each pair of samples, given their size and distribution come from different populations (which we know to be true as they come from data for different flower species). It is worth noting that while it is statistically almost certain that the samples are from different populations, it is even 'more certain' when it comes to virginica as opposed to the other two species."
   ]
  },
  {
   "cell_type": "markdown",
   "metadata": {},
   "source": [
    "### Testing two samples known to be from the same population"
   ]
  },
  {
   "cell_type": "code",
   "execution_count": 19,
   "metadata": {},
   "outputs": [
    {
     "name": "stdout",
     "output_type": "stream",
     "text": [
      "[1, 3, 4, 5, 8, 9, 10, 11, 14, 18, 20, 23, 24, 27, 28, 30, 31, 33, 35, 36, 39, 40, 41, 46, 48]\n",
      "[0, 2, 6, 7, 12, 13, 15, 16, 17, 19, 21, 22, 25, 26, 29, 32, 34, 37, 38, 42, 43, 44, 45, 47, 49]\n"
     ]
    }
   ],
   "source": [
    "# Let's create a list of 25 random indices between 0 and 49 (inclusive), to use for sampling our setosa set; the complement of the list is also created\n",
    "import random\n",
    "inds1_25of50 = random.sample(range(50), 25)\n",
    "inds1_25of50.sort()\n",
    "inds2_25of50 = []\n",
    "for i in range(50):\n",
    "    if i not in inds1_25of50:\n",
    "        inds2_25of50 += [i]\n",
    "print(inds1_25of50)\n",
    "print(inds2_25of50)"
   ]
  },
  {
   "cell_type": "code",
   "execution_count": 21,
   "metadata": {},
   "outputs": [
    {
     "name": "stdout",
     "output_type": "stream",
     "text": [
      "   Sepal.Length  Sepal.Width  Petal.Length  Petal.Width Species\n",
      "2           4.9          3.0           1.4          0.2  setosa\n",
      "4           4.6          3.1           1.5          0.2  setosa\n",
      "5           5.0          3.6           1.4          0.2  setosa\n",
      "6           5.4          3.9           1.7          0.4  setosa\n",
      "9           4.4          2.9           1.4          0.2  setosa\n",
      "    Sepal.Length  Sepal.Width  Petal.Length  Petal.Width Species\n",
      "1            5.1          3.5           1.4          0.2  setosa\n",
      "3            4.7          3.2           1.3          0.2  setosa\n",
      "7            4.6          3.4           1.4          0.3  setosa\n",
      "8            5.0          3.4           1.5          0.2  setosa\n",
      "13           4.8          3.0           1.4          0.1  setosa\n"
     ]
    }
   ],
   "source": [
    "# Now let's subset our setosa dataframe with the two index lists (note that the index lists are 0-based, while the line numbers in the set are labelled starting with 1)\n",
    "setosadf_ss1 = setosadf.iloc[inds1_25of50]\n",
    "setosadf_ss2 = setosadf.iloc[inds2_25of50]\n",
    "print(setosadf_ss1.head(5))\n",
    "print(setosadf_ss2.head(5))"
   ]
  },
  {
   "cell_type": "code",
   "execution_count": 22,
   "metadata": {},
   "outputs": [
    {
     "name": "stdout",
     "output_type": "stream",
     "text": [
      "setosa, two subsets\n",
      "t-statistic: 1.2278182636050883\n",
      "p-value: 0.2255023427664587\n",
      "\n",
      "\n"
     ]
    }
   ],
   "source": [
    "# We can now run the t-test by calling our function\n",
    "runtt(setosadf_ss1, setosadf_ss2, \"Petal.Length\", \"setosa, two subsets\")"
   ]
  },
  {
   "cell_type": "markdown",
   "metadata": {},
   "source": [
    "**What do these results tell us?** For two unbiased samples from the same population, in about 80% of cases (p-value of 0.8) the absolute value of the t-statistic will be greater than the one we got i.e. indicating that there is nothing special about this value and that the two samples easily come from the same population. In formal terms, if the null hypothesis is that the mean of the two sets is the same, then the null hypothesis is accepted at any usual significance level (1%, 5% and even 79%!)."
   ]
  },
  {
   "cell_type": "markdown",
   "metadata": {},
   "source": [
    "## <a id=\"z\">z-test</a>\n",
    "\n",
    "The t-test can be performed on samples of any size, but the t-distribution and the associated p-values depend on the size of the sample. As the sample gets bigger, the t-distribution curve approaches that of the normal (Gaussian) distribution. The sample size of 30 is considered to be sufficiently large for the t-distribution curve to be interchangeable with the normal distribution curve. Hence, with sample sizes greater than 30 we can perform the hypothesis test for the mean of a population using a normal distribution curve, or the z-test, after the z-distribution (the normal distribution with mean of 0 and standard deviation of 1). \n",
    "\n",
    "We will use the setosa set from the previous section to apply the z-test twice."
   ]
  },
  {
   "cell_type": "code",
   "execution_count": 23,
   "metadata": {},
   "outputs": [
    {
     "name": "stdout",
     "output_type": "stream",
     "text": [
      "Setosa petal length mean: 1.4620000000000002; standard deviation: 0.17191858538273286\n"
     ]
    }
   ],
   "source": [
    "# We start by calculating the distribution parameters for the petal length iris species\n",
    "st_pl = setosadf[\"Petal.Length\"]\n",
    "st_xm, st_sd = np.mean(st_pl), np.std(st_pl)\n",
    "st_n = 50\n",
    "print(\"Setosa petal length mean: \" + str(st_xm) + \"; standard deviation: \" + str(st_sd))"
   ]
  },
  {
   "cell_type": "markdown",
   "metadata": {},
   "source": [
    "#### Test that mean == 1.5"
   ]
  },
  {
   "cell_type": "code",
   "execution_count": 24,
   "metadata": {},
   "outputs": [
    {
     "data": {
      "text/plain": [
       "-1.5629524652770581"
      ]
     },
     "execution_count": 24,
     "metadata": {},
     "output_type": "execute_result"
    }
   ],
   "source": [
    "# Now let's hypothesise that the real mean for setosa is 1.5 and calculate the z-score for this case\n",
    "import math\n",
    "zscore_st_1p5 = (st_xm - 1.5)/(st_sd/math.sqrt(st_n))\n",
    "zscore_st_1p5"
   ]
  },
  {
   "cell_type": "code",
   "execution_count": 25,
   "metadata": {},
   "outputs": [
    {
     "name": "stdout",
     "output_type": "stream",
     "text": [
      "Setosa z-test for mean == 1.5 p-value: 0.05903188794386527\n"
     ]
    }
   ],
   "source": [
    "# Now we can look up the p-value for the z-score using a stats function\n",
    "import scipy.stats as sps\n",
    "print(\"Setosa z-test for mean == 1.5 p-value: \" + str(sps.norm.cdf(zscore_st_1p5)))"
   ]
  },
  {
   "cell_type": "markdown",
   "metadata": {},
   "source": [
    "**What does this value tell us?** The p-value is a bit above 0.05, which means that at a significance level of 5% the test would accept the null hypothesis that 1.5 is the mean. At a significance level of 10% the hypothesis would be rejected. At the significance levels that are normally used this result could be considered 'borderline'."
   ]
  },
  {
   "cell_type": "markdown",
   "metadata": {},
   "source": [
    "#### Test that mean == 3"
   ]
  },
  {
   "cell_type": "code",
   "execution_count": 26,
   "metadata": {},
   "outputs": [
    {
     "data": {
      "text/plain": [
       "-22.128116482080557"
      ]
     },
     "execution_count": 26,
     "metadata": {},
     "output_type": "execute_result"
    }
   ],
   "source": [
    "# Now let's hypothesise that the real mean for setosa is 2 and calculate the z-score for this case\n",
    "zscore_st_2 = (st_xm - 2)/(st_sd/math.sqrt(st_n))\n",
    "zscore_st_2"
   ]
  },
  {
   "cell_type": "code",
   "execution_count": 27,
   "metadata": {},
   "outputs": [
    {
     "name": "stdout",
     "output_type": "stream",
     "text": [
      "Setosa z-test for mean == 2 p-value: 8.47555472285926e-109\n"
     ]
    }
   ],
   "source": [
    "# Now we can look up the p-value for the z-score using a stats function\n",
    "import scipy.stats as sps\n",
    "print(\"Setosa z-test for mean == 2 p-value: \" + str(sps.norm.cdf(zscore_st_2)))"
   ]
  },
  {
   "cell_type": "markdown",
   "metadata": {},
   "source": [
    "**What does this value tell us?** The p-value is well below any usual significance level. The null hypothesis is rejected and we can say that it is statistically unlikely that the mean is 2."
   ]
  },
  {
   "cell_type": "markdown",
   "metadata": {},
   "source": [
    "## <a id=\"a\">One-Way ANOVA</a>\n",
    "\n",
    "One-way ANOVA is similar to a t-test in that it checks for statistical differences between group means. ANOVA, however, works on any number of groups, not only two. There are certain conditions that need to be met by the data for ANOVA to be aplicable: \n",
    "- the standard deviation within the sets needs to be the same or the set sizes need to be the same, with similar distributions\n",
    "- the data should be normally distributed (or closely normal) and if not the sets should be larger than 30 instances\n",
    "- the variables should be independent\n",
    "\n",
    "Let's investigate these conditions in case of the three species iris subsets. Let's just assume independence i.e. that the collection of data was really completely random for each species (in the case that one species data were collected at one time of the year and those for another later on, the data would not be independent). The set sizes are the same. We can draw histograms to get a rough idea of the distributions. From these we see that the distributions are roughly normal."
   ]
  },
  {
   "cell_type": "code",
   "execution_count": 30,
   "metadata": {},
   "outputs": [
    {
     "data": {
      "image/png": "[encoded data removed]",
      "text/plain": [
       "<matplotlib.figure.Figure at 0x7f1744a71518>"
      ]
     },
     "metadata": {},
     "output_type": "display_data"
    }
   ],
   "source": [
    "import matplotlib.pyplot as plt\n",
    "plt.figure(figsize=(12, 3))\n",
    "plt.subplot(1, 3, 1)\n",
    "plt.hist(setosadf[\"Petal.Length\"], bins=5)\n",
    "plt.subplot(1, 3, 2)\n",
    "plt.hist(versicolordf[\"Petal.Length\"], bins=5)\n",
    "plt.subplot(1, 3, 3)\n",
    "plt.hist(virginicadf[\"Petal.Length\"], bins=5)\n",
    "plt.subplots_adjust(wspace=0.4)\n",
    "plt.show()"
   ]
  },
  {
   "cell_type": "markdown",
   "metadata": {},
   "source": [
    "Now let's run the ANOVA test on the data. The statistic calculated for ANOVA is called the F-statistic."
   ]
  },
  {
   "cell_type": "code",
   "execution_count": 31,
   "metadata": {},
   "outputs": [
    {
     "name": "stdout",
     "output_type": "stream",
     "text": [
      "f-statistic: 1180.161182252981\n",
      "p-value: 2.8567766109615584e-91\n"
     ]
    }
   ],
   "source": [
    "f, p = sps.f_oneway(setosadf[\"Petal.Length\"], versicolordf[\"Petal.Length\"], virginicadf[\"Petal.Length\"])\n",
    "print(\"f-statistic: \" + str(f) + \"\\np-value: \" + str(p))"
   ]
  },
  {
   "cell_type": "markdown",
   "metadata": {},
   "source": [
    "**Interpretation of the results:** Once again, the p-value is such that at any usual level of significance the hypothesis, which states that all the groups have been drawn from the same population, is rejected."
   ]
  },
  {
   "cell_type": "markdown",
   "metadata": {},
   "source": [
    "## Further information and reading\n",
    "\n",
    "[15 Statistical Hypothesis Tests in Python (Cheat Sheet)](https://machinelearningmastery.com/statistical-hypothesis-tests-in-python-cheat-sheet/)"
   ]
  }
 ],
 "metadata": {
  "kernelspec": {
   "display_name": "Python 3",
   "language": "python",
   "name": "python3"
  },
  "language_info": {
   "codemirror_mode": {
    "name": "ipython",
    "version": 3
   },
   "file_extension": ".py",
   "mimetype": "text/x-python",
   "name": "python",
   "nbconvert_exporter": "python",
   "pygments_lexer": "ipython3",
   "version": "3.6.9"
  }
 },
 "nbformat": 4,
 "nbformat_minor": 2
}
