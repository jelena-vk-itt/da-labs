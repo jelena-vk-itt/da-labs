{
 "cells": [
  {
   "cell_type": "heading",
   "level": 1,
   "metadata": {},
   "source": [
    "# Lists intro\n",
    "\n",
    "## Syntax"
   ]
  },
  {
   "cell_type": "code",
   "execution_count": null,
   "metadata": {
    "collapsed": true
   },
   "outputs": [],
   "source": [
    "# Syntax\n",
    "ages = [12, 17, 45, 50, 80]"
   ]
  },
  {
   "cell_type": "code",
   "execution_count": 2,
   "metadata": {
    "collapsed": true
   },
   "outputs": [],
   "source": [
    "# Lists can contain different types\n",
    "family = [\"Anne\", 12, \"Ben\", 17, \"Dad\", 45, \"Mum\", 50, \"Grandad\", 80]"
   ]
  },
  {
   "cell_type": "code",
   "execution_count": 3,
   "metadata": {
    "collapsed": true
   },
   "outputs": [],
   "source": [
    "# Lists of lists\n",
    "family2 = [[\"Anne\", 12], [\"Ben\", 17], [\"Dad\", 45], [\"Mum\", 50], [\"Grandad\", 80]]"
   ]
  },
  {
   "cell_type": "heading",
   "level": 2,
   "metadata": {},
   "source": [
    "## Subsetting"
   ]
  },
  {
   "cell_type": "code",
   "execution_count": 4,
   "metadata": {
    "collapsed": false
   },
   "outputs": [
    {
     "data": {
      "text/plain": [
       "[17, 12, 80, 45]"
      ]
     },
     "execution_count": 4,
     "metadata": {},
     "output_type": "execute_result"
    }
   ],
   "source": [
    "# Single element\n",
    "[ages[1], ages[0], ages[-1], ages[-3]]"
   ]
  },
  {
   "cell_type": "code",
   "execution_count": null,
   "metadata": {
    "collapsed": true
   },
   "outputs": [],
   "source": [
    "# Using subsets\n",
    "print(\"The age of \" + family[0] + \" is \" + str(family[1]))"
   ]
  },
  {
   "cell_type": "code",
   "execution_count": 6,
   "metadata": {
    "collapsed": false
   },
   "outputs": [
    {
     "data": {
      "text/plain": [
       "[[12, 17, 45], [12, 17, 45], [50, 80]]"
      ]
     },
     "execution_count": 6,
     "metadata": {},
     "output_type": "execute_result"
    }
   ],
   "source": [
    "# Slicing\n",
    "[ages[0:3], ages[:3], ages[3:]]"
   ]
  },
  {
   "cell_type": "markdown",
   "metadata": {},
   "source": [
    "## Manipulation"
   ]
  },
  {
   "cell_type": "code",
   "execution_count": 7,
   "metadata": {
    "collapsed": false
   },
   "outputs": [
    {
     "name": "stdout",
     "output_type": "stream",
     "text": [
      "[12, 18, 45, 50, 80]\n"
     ]
    }
   ],
   "source": [
    "# Value setting\n",
    "ages[1] = 18\n",
    "print(ages)"
   ]
  },
  {
   "cell_type": "code",
   "execution_count": 8,
   "metadata": {
    "collapsed": false
   },
   "outputs": [
    {
     "name": "stdout",
     "output_type": "stream",
     "text": [
      "[12, '18', 45, 50, 80]\n"
     ]
    }
   ],
   "source": [
    "# be careful as the following will work...\n",
    "ages[1] = \"18\"\n",
    "print(ages)"
   ]
  },
  {
   "cell_type": "code",
   "execution_count": 9,
   "metadata": {
    "collapsed": true
   },
   "outputs": [],
   "source": [
    "# but let's set the 18 back to a number\n",
    "ages[1] = 18"
   ]
  },
  {
   "cell_type": "code",
   "execution_count": 10,
   "metadata": {
    "collapsed": false
   },
   "outputs": [
    {
     "data": {
      "text/plain": [
       "[12, 18, 45, 50, 80, 10]"
      ]
     },
     "execution_count": 10,
     "metadata": {},
     "output_type": "execute_result"
    }
   ],
   "source": [
    "# Appending (cat's age?)\n",
    "ages + [10]"
   ]
  },
  {
   "cell_type": "code",
   "execution_count": 11,
   "metadata": {
    "collapsed": false
   },
   "outputs": [
    {
     "name": "stdout",
     "output_type": "stream",
     "text": [
      "[12, 18, 5, 45, 50, 80]\n",
      "5\n",
      "[12, 18, 45, 50, 80]\n",
      "45\n"
     ]
    }
   ],
   "source": [
    "# Inserting\n",
    "ages = ages[:2] + [5] + ages[2:]\n",
    "print(ages)\n",
    "print(ages[2])\n",
    "del(ages[2])\n",
    "# the indices get shifted after deletion\n",
    "print(ages)\n",
    "print(ages[2])\n"
   ]
  },
  {
   "cell_type": "markdown",
   "metadata": {},
   "source": [
    "## Understanding how lists are referred to and copied"
   ]
  },
  {
   "cell_type": "code",
   "execution_count": 12,
   "metadata": {
    "collapsed": false
   },
   "outputs": [
    {
     "name": "stdout",
     "output_type": "stream",
     "text": [
      "[12, 18, 45, 50, 80]\n",
      "[12, 18, 45, 50, 80]\n",
      "[12, 18, 45, 50, 80]\n"
     ]
    }
   ],
   "source": [
    "ages = [12, 18, 45, 50, 80]\n",
    "ref_ages = ages\n",
    "copy_ages = ages[:]\n",
    "print(ages)\n",
    "print(ref_ages)\n",
    "print(copy_ages)"
   ]
  },
  {
   "cell_type": "code",
   "execution_count": 13,
   "metadata": {
    "collapsed": true
   },
   "outputs": [],
   "source": [
    "# Anne turns 13\n",
    "ages[0] = 13"
   ]
  },
  {
   "cell_type": "code",
   "execution_count": 14,
   "metadata": {
    "collapsed": false
   },
   "outputs": [
    {
     "name": "stdout",
     "output_type": "stream",
     "text": [
      "[13, 18, 45, 50, 80]\n",
      "[13, 18, 45, 50, 80]\n",
      "[12, 18, 45, 50, 80]\n"
     ]
    }
   ],
   "source": [
    "# What do our lists look like now?\n",
    "print(ages)\n",
    "print(ref_ages)\n",
    "print(copy_ages)"
   ]
  },
  {
   "cell_type": "markdown",
   "metadata": {},
   "source": [
    "The list \\texttt{copy_ages} is a 'deep copy' of list \\texttt{ages} and when it was created it got newly allocated elements for each member of the list. For this reason, changes made to \\texttt{ages} are not reflected in \\texttt{copy_ages}. On the other hand, \\texttt{ref_ages} just contains a copy of the reference (i.e. the pointer) to where the elements of \\texttt{ages} are stored and printing it out is the same as printing out \\texttt{ages}."
   ]
  },
  {
   "cell_type": "code",
   "execution_count": 15,
   "metadata": {
    "collapsed": false
   },
   "outputs": [
    {
     "name": "stdout",
     "output_type": "stream",
     "text": [
      "[13, 18, 45, 50, 80, 10]\n",
      "[13, 18, 45, 50, 80]\n"
     ]
    }
   ],
   "source": [
    "ages = ages + [10]\n",
    "print(ages)\n",
    "print(ref_ages)"
   ]
  },
  {
   "cell_type": "markdown",
   "metadata": {},
   "source": [
    "In the code above, \\texttt{ages} has been assigned a new copy of itself, with a \\texttt{10} appended. The change is not reflected in \\texttt{ref_ages}."
   ]
  }
 ],
 "metadata": {
  "kernelspec": {
   "display_name": "Python 3",
   "language": "python",
   "name": "python3"
  },
  "language_info": {
   "codemirror_mode": {
    "name": "ipython",
    "version": 3
   },
   "file_extension": ".py",
   "mimetype": "text/x-python",
   "name": "python",
   "nbconvert_exporter": "python",
   "pygments_lexer": "ipython3",
   "version": "3.6.0"
  }
 },
 "nbformat": 4,
 "nbformat_minor": 1
}
