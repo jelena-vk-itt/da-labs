{
 "cells": [
  {
   "cell_type": "markdown",
   "metadata": {},
   "source": [
    "## 1)"
   ]
  },
  {
   "cell_type": "code",
   "execution_count": 31,
   "metadata": {},
   "outputs": [
    {
     "data": {
      "text/html": [
       "<div>\n",
       "<style scoped>\n",
       "    .dataframe tbody tr th:only-of-type {\n",
       "        vertical-align: middle;\n",
       "    }\n",
       "\n",
       "    .dataframe tbody tr th {\n",
       "        vertical-align: top;\n",
       "    }\n",
       "\n",
       "    .dataframe thead th {\n",
       "        text-align: right;\n",
       "    }\n",
       "</style>\n",
       "<table border=\"1\" class=\"dataframe\">\n",
       "  <thead>\n",
       "    <tr style=\"text-align: right;\">\n",
       "      <th></th>\n",
       "      <th>Name</th>\n",
       "      <th>Age</th>\n",
       "      <th>Gender</th>\n",
       "      <th>BloodGroup</th>\n",
       "      <th>Weight(kg)</th>\n",
       "      <th>Height(m)</th>\n",
       "      <th>SystolicBloodPressure(mmHg)</th>\n",
       "      <th>DiastolicBloodPressure(mmHg)</th>\n",
       "      <th>Temperature(F)</th>\n",
       "      <th>Diabetes</th>\n",
       "    </tr>\n",
       "  </thead>\n",
       "  <tbody>\n",
       "    <tr>\n",
       "      <th>0</th>\n",
       "      <td>P.Lee</td>\n",
       "      <td>35</td>\n",
       "      <td>Female</td>\n",
       "      <td>ARh+</td>\n",
       "      <td>50</td>\n",
       "      <td>1.52</td>\n",
       "      <td>68</td>\n",
       "      <td>112</td>\n",
       "      <td>98.7</td>\n",
       "      <td>0</td>\n",
       "    </tr>\n",
       "    <tr>\n",
       "      <th>1</th>\n",
       "      <td>R.Jones</td>\n",
       "      <td>52</td>\n",
       "      <td>Male</td>\n",
       "      <td>ORh-</td>\n",
       "      <td>115</td>\n",
       "      <td>1.77</td>\n",
       "      <td>110</td>\n",
       "      <td>154</td>\n",
       "      <td>98.5</td>\n",
       "      <td>1</td>\n",
       "    </tr>\n",
       "    <tr>\n",
       "      <th>2</th>\n",
       "      <td>J.Smith</td>\n",
       "      <td>45</td>\n",
       "      <td>Male</td>\n",
       "      <td>ORh+</td>\n",
       "      <td>96</td>\n",
       "      <td>1.83</td>\n",
       "      <td>88</td>\n",
       "      <td>136</td>\n",
       "      <td>98.8</td>\n",
       "      <td>0</td>\n",
       "    </tr>\n",
       "    <tr>\n",
       "      <th>3</th>\n",
       "      <td>A.Patel</td>\n",
       "      <td>70</td>\n",
       "      <td>NaN</td>\n",
       "      <td>ORh-</td>\n",
       "      <td>41</td>\n",
       "      <td>1.55</td>\n",
       "      <td>76</td>\n",
       "      <td>125</td>\n",
       "      <td>98.6</td>\n",
       "      <td>0</td>\n",
       "    </tr>\n",
       "    <tr>\n",
       "      <th>4</th>\n",
       "      <td>M.Owen</td>\n",
       "      <td>24</td>\n",
       "      <td>Male</td>\n",
       "      <td>ARh-</td>\n",
       "      <td>79</td>\n",
       "      <td>1.82</td>\n",
       "      <td>65</td>\n",
       "      <td>105</td>\n",
       "      <td>98.7</td>\n",
       "      <td>0</td>\n",
       "    </tr>\n",
       "    <tr>\n",
       "      <th>5</th>\n",
       "      <td>S.Green</td>\n",
       "      <td>43</td>\n",
       "      <td>Male</td>\n",
       "      <td>ORh-</td>\n",
       "      <td>109</td>\n",
       "      <td>1.89</td>\n",
       "      <td>114</td>\n",
       "      <td>159</td>\n",
       "      <td>98.9</td>\n",
       "      <td>1</td>\n",
       "    </tr>\n",
       "    <tr>\n",
       "      <th>6</th>\n",
       "      <td>N.Cook</td>\n",
       "      <td>68</td>\n",
       "      <td>Male</td>\n",
       "      <td>ARh+</td>\n",
       "      <td>73</td>\n",
       "      <td>1.76</td>\n",
       "      <td>108</td>\n",
       "      <td>136</td>\n",
       "      <td>99.0</td>\n",
       "      <td>0</td>\n",
       "    </tr>\n",
       "    <tr>\n",
       "      <th>7</th>\n",
       "      <td>W.Hands</td>\n",
       "      <td>77</td>\n",
       "      <td>Female</td>\n",
       "      <td>ORh-</td>\n",
       "      <td>104</td>\n",
       "      <td>1.71</td>\n",
       "      <td>107</td>\n",
       "      <td>145</td>\n",
       "      <td>98.3</td>\n",
       "      <td>1</td>\n",
       "    </tr>\n",
       "    <tr>\n",
       "      <th>8</th>\n",
       "      <td>P.Rice</td>\n",
       "      <td>45</td>\n",
       "      <td>Female</td>\n",
       "      <td>ORh+</td>\n",
       "      <td>64</td>\n",
       "      <td>NaN</td>\n",
       "      <td>101</td>\n",
       "      <td>132</td>\n",
       "      <td>98.6</td>\n",
       "      <td>0</td>\n",
       "    </tr>\n",
       "    <tr>\n",
       "      <th>9</th>\n",
       "      <td>F.Marsh</td>\n",
       "      <td>28</td>\n",
       "      <td>Male</td>\n",
       "      <td>ORh+</td>\n",
       "      <td>136</td>\n",
       "      <td>1.78</td>\n",
       "      <td>121</td>\n",
       "      <td>165</td>\n",
       "      <td>98.7</td>\n",
       "      <td>1</td>\n",
       "    </tr>\n",
       "  </tbody>\n",
       "</table>\n",
       "</div>"
      ],
      "text/plain": [
       "      Name  Age  Gender BloodGroup  Weight(kg)  Height(m)  \\\n",
       "0    P.Lee   35  Female       ARh+          50       1.52   \n",
       "1  R.Jones   52    Male       ORh-         115       1.77   \n",
       "2  J.Smith   45    Male       ORh+          96       1.83   \n",
       "3  A.Patel   70     NaN       ORh-          41       1.55   \n",
       "4   M.Owen   24    Male       ARh-          79       1.82   \n",
       "5  S.Green   43    Male       ORh-         109       1.89   \n",
       "6   N.Cook   68    Male       ARh+          73       1.76   \n",
       "7  W.Hands   77  Female       ORh-         104       1.71   \n",
       "8   P.Rice   45  Female       ORh+          64        NaN   \n",
       "9  F.Marsh   28    Male       ORh+         136       1.78   \n",
       "\n",
       "   SystolicBloodPressure(mmHg)  DiastolicBloodPressure(mmHg)  Temperature(F)  \\\n",
       "0                           68                           112            98.7   \n",
       "1                          110                           154            98.5   \n",
       "2                           88                           136            98.8   \n",
       "3                           76                           125            98.6   \n",
       "4                           65                           105            98.7   \n",
       "5                          114                           159            98.9   \n",
       "6                          108                           136            99.0   \n",
       "7                          107                           145            98.3   \n",
       "8                          101                           132            98.6   \n",
       "9                          121                           165            98.7   \n",
       "\n",
       "   Diabetes  \n",
       "0         0  \n",
       "1         1  \n",
       "2         0  \n",
       "3         0  \n",
       "4         0  \n",
       "5         1  \n",
       "6         0  \n",
       "7         1  \n",
       "8         0  \n",
       "9         1  "
      ]
     },
     "execution_count": 31,
     "metadata": {},
     "output_type": "execute_result"
    }
   ],
   "source": [
    "import pandas as pd\n",
    "patients = pd.read_csv(\"patients.csv\")\n",
    "patients"
   ]
  },
  {
   "cell_type": "markdown",
   "metadata": {},
   "source": [
    "## 2)\n",
    "\n",
    "The person in row 3 is short and light and we can assume that it is a woman (although we cannot be sure!)."
   ]
  },
  {
   "cell_type": "code",
   "execution_count": 43,
   "metadata": {},
   "outputs": [
    {
     "name": "stderr",
     "output_type": "stream",
     "text": [
      "/usr/local/lib/python3.6/dist-packages/ipykernel_launcher.py:1: SettingWithCopyWarning: \n",
      "A value is trying to be set on a copy of a slice from a DataFrame\n",
      "\n",
      "See the caveats in the documentation: http://pandas.pydata.org/pandas-docs/stable/indexing.html#indexing-view-versus-copy\n",
      "  \"\"\"Entry point for launching an IPython kernel.\n"
     ]
    },
    {
     "data": {
      "text/html": [
       "<div>\n",
       "<style scoped>\n",
       "    .dataframe tbody tr th:only-of-type {\n",
       "        vertical-align: middle;\n",
       "    }\n",
       "\n",
       "    .dataframe tbody tr th {\n",
       "        vertical-align: top;\n",
       "    }\n",
       "\n",
       "    .dataframe thead th {\n",
       "        text-align: right;\n",
       "    }\n",
       "</style>\n",
       "<table border=\"1\" class=\"dataframe\">\n",
       "  <thead>\n",
       "    <tr style=\"text-align: right;\">\n",
       "      <th></th>\n",
       "      <th>Name</th>\n",
       "      <th>Age</th>\n",
       "      <th>Gender</th>\n",
       "      <th>BloodGroup</th>\n",
       "      <th>Weight(kg)</th>\n",
       "      <th>Height(m)</th>\n",
       "      <th>SystolicBloodPressure(mmHg)</th>\n",
       "      <th>DiastolicBloodPressure(mmHg)</th>\n",
       "      <th>Temperature(F)</th>\n",
       "      <th>Diabetes</th>\n",
       "    </tr>\n",
       "  </thead>\n",
       "  <tbody>\n",
       "    <tr>\n",
       "      <th>3</th>\n",
       "      <td>A.Patel</td>\n",
       "      <td>70</td>\n",
       "      <td>bla</td>\n",
       "      <td>ORh-</td>\n",
       "      <td>41</td>\n",
       "      <td>1.55</td>\n",
       "      <td>76</td>\n",
       "      <td>125</td>\n",
       "      <td>98.6</td>\n",
       "      <td>0</td>\n",
       "    </tr>\n",
       "  </tbody>\n",
       "</table>\n",
       "</div>"
      ],
      "text/plain": [
       "      Name  Age Gender BloodGroup  Weight(kg)  Height(m)  \\\n",
       "3  A.Patel   70    bla       ORh-          41       1.55   \n",
       "\n",
       "   SystolicBloodPressure(mmHg)  DiastolicBloodPressure(mmHg)  Temperature(F)  \\\n",
       "3                           76                           125            98.6   \n",
       "\n",
       "   Diabetes  \n",
       "3         0  "
      ]
     },
     "execution_count": 43,
     "metadata": {},
     "output_type": "execute_result"
    }
   ],
   "source": [
    "patients.iloc[[3],[2]] = \"Female\"\n",
    "patients[3:4]"
   ]
  },
  {
   "cell_type": "markdown",
   "metadata": {},
   "source": [
    "There is a woman's height missing (row 8). We'll set the mean of all women's heights in the sample as the value. This is a very rough way of imputing the value, but it is better than using the mean of all heights. "
   ]
  },
  {
   "cell_type": "code",
   "execution_count": 42,
   "metadata": {},
   "outputs": [
    {
     "data": {
      "text/plain": [
       "3    Female\n",
       "Name: Gender, dtype: object"
      ]
     },
     "execution_count": 42,
     "metadata": {},
     "output_type": "execute_result"
    }
   ],
   "source": [
    "patients[\"Gender\"][3:4]"
   ]
  },
  {
   "cell_type": "code",
   "execution_count": 36,
   "metadata": {},
   "outputs": [
    {
     "data": {
      "text/plain": [
       "nan"
      ]
     },
     "execution_count": 36,
     "metadata": {},
     "output_type": "execute_result"
    }
   ],
   "source": [
    "patients['Height(m)'][8]"
   ]
  },
  {
   "cell_type": "code",
   "execution_count": 34,
   "metadata": {},
   "outputs": [
    {
     "data": {
      "text/plain": [
       "0    Female\n",
       "1      Male\n",
       "2      Male\n",
       "3    Female\n",
       "4      Male\n",
       "5      Male\n",
       "6      Male\n",
       "7    Female\n",
       "8    Female\n",
       "9      Male\n",
       "Name: Gender, dtype: object"
      ]
     },
     "execution_count": 34,
     "metadata": {},
     "output_type": "execute_result"
    }
   ],
   "source": [
    "patients['Gender']"
   ]
  },
  {
   "cell_type": "code",
   "execution_count": null,
   "metadata": {},
   "outputs": [],
   "source": []
  }
 ],
 "metadata": {
  "kernelspec": {
   "display_name": "Python 3",
   "language": "python",
   "name": "python3"
  },
  "language_info": {
   "codemirror_mode": {
    "name": "ipython",
    "version": 3
   },
   "file_extension": ".py",
   "mimetype": "text/x-python",
   "name": "python",
   "nbconvert_exporter": "python",
   "pygments_lexer": "ipython3",
   "version": "3.6.7"
  }
 },
 "nbformat": 4,
 "nbformat_minor": 2
}
