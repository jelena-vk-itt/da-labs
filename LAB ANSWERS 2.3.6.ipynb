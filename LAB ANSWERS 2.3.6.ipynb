{
 "cells": [
  {
   "cell_type": "markdown",
   "metadata": {},
   "source": [
    "# 1\n",
    "\n",
    "Read the documentation at https://vincentarelbundock.github.io/Rdatasets/doc/DAAG/cuckoos.html.\n",
    "    "
   ]
  },
  {
   "cell_type": "markdown",
   "metadata": {},
   "source": [
    "# 2"
   ]
  },
  {
   "cell_type": "code",
   "execution_count": 3,
   "metadata": {},
   "outputs": [
    {
     "data": {
      "text/html": [
       "<div>\n",
       "<style scoped>\n",
       "    .dataframe tbody tr th:only-of-type {\n",
       "        vertical-align: middle;\n",
       "    }\n",
       "\n",
       "    .dataframe tbody tr th {\n",
       "        vertical-align: top;\n",
       "    }\n",
       "\n",
       "    .dataframe thead th {\n",
       "        text-align: right;\n",
       "    }\n",
       "</style>\n",
       "<table border=\"1\" class=\"dataframe\">\n",
       "  <thead>\n",
       "    <tr style=\"text-align: right;\">\n",
       "      <th></th>\n",
       "      <th>length</th>\n",
       "      <th>breadth</th>\n",
       "      <th>species</th>\n",
       "      <th>id</th>\n",
       "    </tr>\n",
       "  </thead>\n",
       "  <tbody>\n",
       "    <tr>\n",
       "      <th>1</th>\n",
       "      <td>21.7</td>\n",
       "      <td>16.1</td>\n",
       "      <td>meadow.pipit</td>\n",
       "      <td>21</td>\n",
       "    </tr>\n",
       "    <tr>\n",
       "      <th>2</th>\n",
       "      <td>22.6</td>\n",
       "      <td>17.0</td>\n",
       "      <td>meadow.pipit</td>\n",
       "      <td>22</td>\n",
       "    </tr>\n",
       "    <tr>\n",
       "      <th>3</th>\n",
       "      <td>20.9</td>\n",
       "      <td>16.2</td>\n",
       "      <td>meadow.pipit</td>\n",
       "      <td>23</td>\n",
       "    </tr>\n",
       "    <tr>\n",
       "      <th>4</th>\n",
       "      <td>21.6</td>\n",
       "      <td>16.2</td>\n",
       "      <td>meadow.pipit</td>\n",
       "      <td>24</td>\n",
       "    </tr>\n",
       "    <tr>\n",
       "      <th>5</th>\n",
       "      <td>22.2</td>\n",
       "      <td>16.9</td>\n",
       "      <td>meadow.pipit</td>\n",
       "      <td>25</td>\n",
       "    </tr>\n",
       "    <tr>\n",
       "      <th>6</th>\n",
       "      <td>22.5</td>\n",
       "      <td>16.9</td>\n",
       "      <td>meadow.pipit</td>\n",
       "      <td>26</td>\n",
       "    </tr>\n",
       "    <tr>\n",
       "      <th>7</th>\n",
       "      <td>22.2</td>\n",
       "      <td>17.3</td>\n",
       "      <td>meadow.pipit</td>\n",
       "      <td>27</td>\n",
       "    </tr>\n",
       "    <tr>\n",
       "      <th>8</th>\n",
       "      <td>24.3</td>\n",
       "      <td>16.8</td>\n",
       "      <td>meadow.pipit</td>\n",
       "      <td>28</td>\n",
       "    </tr>\n",
       "    <tr>\n",
       "      <th>9</th>\n",
       "      <td>22.3</td>\n",
       "      <td>16.8</td>\n",
       "      <td>meadow.pipit</td>\n",
       "      <td>29</td>\n",
       "    </tr>\n",
       "    <tr>\n",
       "      <th>10</th>\n",
       "      <td>22.6</td>\n",
       "      <td>17.0</td>\n",
       "      <td>meadow.pipit</td>\n",
       "      <td>30</td>\n",
       "    </tr>\n",
       "  </tbody>\n",
       "</table>\n",
       "</div>"
      ],
      "text/plain": [
       "    length  breadth       species  id\n",
       "1     21.7     16.1  meadow.pipit  21\n",
       "2     22.6     17.0  meadow.pipit  22\n",
       "3     20.9     16.2  meadow.pipit  23\n",
       "4     21.6     16.2  meadow.pipit  24\n",
       "5     22.2     16.9  meadow.pipit  25\n",
       "6     22.5     16.9  meadow.pipit  26\n",
       "7     22.2     17.3  meadow.pipit  27\n",
       "8     24.3     16.8  meadow.pipit  28\n",
       "9     22.3     16.8  meadow.pipit  29\n",
       "10    22.6     17.0  meadow.pipit  30"
      ]
     },
     "execution_count": 3,
     "metadata": {},
     "output_type": "execute_result"
    }
   ],
   "source": [
    "import pandas as pd\n",
    "cuckoo_df = pd.read_csv(\"https://vincentarelbundock.github.io/Rdatasets/csv/DAAG/cuckoos.csv\", index_col=0)\n",
    "cuckoo_df.head(10)"
   ]
  },
  {
   "cell_type": "markdown",
   "metadata": {},
   "source": [
    "# 3"
   ]
  },
  {
   "cell_type": "code",
   "execution_count": 6,
   "metadata": {},
   "outputs": [
    {
     "data": {
      "image/png": "[encoded data removed]",
      "text/plain": [
       "<Figure size 432x288 with 1 Axes>"
      ]
     },
     "metadata": {
      "needs_background": "light"
     },
     "output_type": "display_data"
    }
   ],
   "source": [
    "import matplotlib.pyplot as plt\n",
    "cuckoo_hist = plt.hist(cuckoo_df['breadth'], bins=7)\n",
    "plt.show()"
   ]
  },
  {
   "cell_type": "markdown",
   "metadata": {},
   "source": [
    "# 4"
   ]
  },
  {
   "cell_type": "code",
   "execution_count": 15,
   "metadata": {},
   "outputs": [
    {
     "data": {
      "text/html": [
       "<div>\n",
       "<style scoped>\n",
       "    .dataframe tbody tr th:only-of-type {\n",
       "        vertical-align: middle;\n",
       "    }\n",
       "\n",
       "    .dataframe tbody tr th {\n",
       "        vertical-align: top;\n",
       "    }\n",
       "\n",
       "    .dataframe thead th {\n",
       "        text-align: right;\n",
       "    }\n",
       "</style>\n",
       "<table border=\"1\" class=\"dataframe\">\n",
       "  <thead>\n",
       "    <tr style=\"text-align: right;\">\n",
       "      <th></th>\n",
       "      <th>length</th>\n",
       "    </tr>\n",
       "    <tr>\n",
       "      <th>species</th>\n",
       "      <th></th>\n",
       "    </tr>\n",
       "  </thead>\n",
       "  <tbody>\n",
       "    <tr>\n",
       "      <th>hedge.sparrow</th>\n",
       "      <td>23.114286</td>\n",
       "    </tr>\n",
       "    <tr>\n",
       "      <th>meadow.pipit</th>\n",
       "      <td>22.293333</td>\n",
       "    </tr>\n",
       "    <tr>\n",
       "      <th>pied.wagtail</th>\n",
       "      <td>22.886667</td>\n",
       "    </tr>\n",
       "    <tr>\n",
       "      <th>robin</th>\n",
       "      <td>22.556250</td>\n",
       "    </tr>\n",
       "    <tr>\n",
       "      <th>tree.pipit</th>\n",
       "      <td>23.080000</td>\n",
       "    </tr>\n",
       "    <tr>\n",
       "      <th>wren</th>\n",
       "      <td>21.120000</td>\n",
       "    </tr>\n",
       "  </tbody>\n",
       "</table>\n",
       "</div>"
      ],
      "text/plain": [
       "                  length\n",
       "species                 \n",
       "hedge.sparrow  23.114286\n",
       "meadow.pipit   22.293333\n",
       "pied.wagtail   22.886667\n",
       "robin          22.556250\n",
       "tree.pipit     23.080000\n",
       "wren           21.120000"
      ]
     },
     "execution_count": 15,
     "metadata": {},
     "output_type": "execute_result"
    }
   ],
   "source": [
    "# Get the average lengths, grouping by species\n",
    "avglen_df = apl_df.groupby(['species'])[['length']].mean()\n",
    "avglen_df"
   ]
  },
  {
   "cell_type": "code",
   "execution_count": 21,
   "metadata": {},
   "outputs": [
    {
     "data": {
      "image/png": "[encoded data removed]",
      "text/plain": [
       "<Figure size 432x288 with 1 Axes>"
      ]
     },
     "metadata": {
      "needs_background": "light"
     },
     "output_type": "display_data"
    }
   ],
   "source": [
    "# Plot the barchart\n",
    "plt.xticks(rotation='vertical')\n",
    "plt.bar(avglen_df.index, height=avglen_df['length'])\n",
    "# Function savefig() must be called before show(); \n",
    "# the bbox_inches value 'tight' forces the function to fit exactly everything into the png\n",
    "plt.savefig('barchart.png', format='png', bbox_inches='tight')\n",
    "plt.show()"
   ]
  },
  {
   "cell_type": "markdown",
   "metadata": {},
   "source": [
    "# 5"
   ]
  },
  {
   "cell_type": "code",
   "execution_count": 24,
   "metadata": {},
   "outputs": [],
   "source": [
    "# Import stats functions\n",
    "import scipy.stats as ss"
   ]
  },
  {
   "cell_type": "code",
   "execution_count": 26,
   "metadata": {},
   "outputs": [
    {
     "name": "stdout",
     "output_type": "stream",
     "text": [
      "r = 0.5017711443050947\n",
      "p = 5.276304147530271e-09\n"
     ]
    }
   ],
   "source": [
    "# We will use Pearson's correlation coefficient\n",
    "r, p = ss.pearsonr(cuckoo_df[\"length\"], cuckoo_df[\"breadth\"])\n",
    "print(\"r = \" + str(r))\n",
    "print(\"p = \" + str(p))"
   ]
  },
  {
   "cell_type": "markdown",
   "metadata": {},
   "source": [
    "Interpretation: The p value is very low. At any usual significace levels (e.g. 5% or 1%) the value of the Pearson Correlation Coefficient indicates that there is a relationship between the length and the breadth of the cuckoos' eggs."
   ]
  },
  {
   "cell_type": "markdown",
   "metadata": {},
   "source": [
    "# 6"
   ]
  },
  {
   "cell_type": "code",
   "execution_count": 30,
   "metadata": {},
   "outputs": [
    {
     "data": {
      "text/plain": [
       "F_onewayResult(statistic=10.449341053619628, pvalue=2.8521433703109778e-08)"
      ]
     },
     "execution_count": 30,
     "metadata": {},
     "output_type": "execute_result"
    }
   ],
   "source": [
    "ss.f_oneway(*(cuckoo_df['length'][cuckoo_df['species'] == species] for species in cuckoo_df['species'].unique()))"
   ]
  },
  {
   "cell_type": "markdown",
   "metadata": {},
   "source": [
    "Interpretation: The p value is very low. At any usual significance levels (e.g. 5% or 1%) the F-statistic \n",
    "value indicates a relationship between host bird type and the length of the egg laid in the host bird's nest. In other words, the statistic indicates that there is a significant difference between the average egg lengths laid in nests of different host species."
   ]
  }
 ],
 "metadata": {
  "kernelspec": {
   "display_name": "Python 3",
   "language": "python",
   "name": "python3"
  },
  "language_info": {
   "codemirror_mode": {
    "name": "ipython",
    "version": 3
   },
   "file_extension": ".py",
   "mimetype": "text/x-python",
   "name": "python",
   "nbconvert_exporter": "python",
   "pygments_lexer": "ipython3",
   "version": "3.6.9"
  }
 },
 "nbformat": 4,
 "nbformat_minor": 2
}
