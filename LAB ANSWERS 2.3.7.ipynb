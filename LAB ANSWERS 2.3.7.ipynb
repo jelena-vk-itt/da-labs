{
 "cells": [
  {
   "cell_type": "markdown",
   "metadata": {},
   "source": [
    "# 1\n",
    "\n",
    "Read the documentation at https://vincentarelbundock.github.io/Rdatasets/doc/carData/WVS.html.\n",
    "    "
   ]
  },
  {
   "cell_type": "markdown",
   "metadata": {},
   "source": [
    "# 2"
   ]
  },
  {
   "cell_type": "code",
   "execution_count": 3,
   "metadata": {},
   "outputs": [
    {
     "data": {
      "text/html": [
       "<div>\n",
       "<style scoped>\n",
       "    .dataframe tbody tr th:only-of-type {\n",
       "        vertical-align: middle;\n",
       "    }\n",
       "\n",
       "    .dataframe tbody tr th {\n",
       "        vertical-align: top;\n",
       "    }\n",
       "\n",
       "    .dataframe thead th {\n",
       "        text-align: right;\n",
       "    }\n",
       "</style>\n",
       "<table border=\"1\" class=\"dataframe\">\n",
       "  <thead>\n",
       "    <tr style=\"text-align: right;\">\n",
       "      <th></th>\n",
       "      <th>poverty</th>\n",
       "      <th>religion</th>\n",
       "      <th>degree</th>\n",
       "      <th>country</th>\n",
       "      <th>age</th>\n",
       "      <th>gender</th>\n",
       "    </tr>\n",
       "  </thead>\n",
       "  <tbody>\n",
       "    <tr>\n",
       "      <th>1</th>\n",
       "      <td>Too Little</td>\n",
       "      <td>yes</td>\n",
       "      <td>no</td>\n",
       "      <td>USA</td>\n",
       "      <td>44</td>\n",
       "      <td>male</td>\n",
       "    </tr>\n",
       "    <tr>\n",
       "      <th>2</th>\n",
       "      <td>About Right</td>\n",
       "      <td>yes</td>\n",
       "      <td>no</td>\n",
       "      <td>USA</td>\n",
       "      <td>40</td>\n",
       "      <td>female</td>\n",
       "    </tr>\n",
       "    <tr>\n",
       "      <th>3</th>\n",
       "      <td>Too Little</td>\n",
       "      <td>yes</td>\n",
       "      <td>no</td>\n",
       "      <td>USA</td>\n",
       "      <td>36</td>\n",
       "      <td>female</td>\n",
       "    </tr>\n",
       "    <tr>\n",
       "      <th>4</th>\n",
       "      <td>Too Much</td>\n",
       "      <td>yes</td>\n",
       "      <td>yes</td>\n",
       "      <td>USA</td>\n",
       "      <td>25</td>\n",
       "      <td>female</td>\n",
       "    </tr>\n",
       "    <tr>\n",
       "      <th>5</th>\n",
       "      <td>Too Little</td>\n",
       "      <td>yes</td>\n",
       "      <td>yes</td>\n",
       "      <td>USA</td>\n",
       "      <td>39</td>\n",
       "      <td>male</td>\n",
       "    </tr>\n",
       "    <tr>\n",
       "      <th>6</th>\n",
       "      <td>About Right</td>\n",
       "      <td>yes</td>\n",
       "      <td>no</td>\n",
       "      <td>USA</td>\n",
       "      <td>80</td>\n",
       "      <td>female</td>\n",
       "    </tr>\n",
       "    <tr>\n",
       "      <th>7</th>\n",
       "      <td>Too Much</td>\n",
       "      <td>yes</td>\n",
       "      <td>no</td>\n",
       "      <td>USA</td>\n",
       "      <td>48</td>\n",
       "      <td>female</td>\n",
       "    </tr>\n",
       "  </tbody>\n",
       "</table>\n",
       "</div>"
      ],
      "text/plain": [
       "       poverty religion degree country  age  gender\n",
       "1   Too Little      yes     no     USA   44    male\n",
       "2  About Right      yes     no     USA   40  female\n",
       "3   Too Little      yes     no     USA   36  female\n",
       "4     Too Much      yes    yes     USA   25  female\n",
       "5   Too Little      yes    yes     USA   39    male\n",
       "6  About Right      yes     no     USA   80  female\n",
       "7     Too Much      yes     no     USA   48  female"
      ]
     },
     "execution_count": 3,
     "metadata": {},
     "output_type": "execute_result"
    }
   ],
   "source": [
    "import pandas as pd\n",
    "wvs_df = pd.read_csv(\"https://vincentarelbundock.github.io/Rdatasets/csv/carData/WVS.csv\", index_col=0)\n",
    "wvs_df.head(7)"
   ]
  },
  {
   "cell_type": "markdown",
   "metadata": {},
   "source": [
    "# 3"
   ]
  },
  {
   "cell_type": "code",
   "execution_count": 4,
   "metadata": {},
   "outputs": [
    {
     "data": {
      "image/png": "[encoded data removed]",
      "text/plain": [
       "<Figure size 432x288 with 1 Axes>"
      ]
     },
     "metadata": {
      "needs_background": "light"
     },
     "output_type": "display_data"
    }
   ],
   "source": [
    "import matplotlib.pyplot as plt\n",
    "plt.hist(wvs_df['age'], bins=6)\n",
    "plt.show()"
   ]
  },
  {
   "cell_type": "markdown",
   "metadata": {},
   "source": [
    "# 4"
   ]
  },
  {
   "cell_type": "code",
   "execution_count": 28,
   "metadata": {},
   "outputs": [
    {
     "data": {
      "text/html": [
       "<div>\n",
       "<style scoped>\n",
       "    .dataframe tbody tr th:only-of-type {\n",
       "        vertical-align: middle;\n",
       "    }\n",
       "\n",
       "    .dataframe tbody tr th {\n",
       "        vertical-align: top;\n",
       "    }\n",
       "\n",
       "    .dataframe thead th {\n",
       "        text-align: right;\n",
       "    }\n",
       "</style>\n",
       "<table border=\"1\" class=\"dataframe\">\n",
       "  <thead>\n",
       "    <tr style=\"text-align: right;\">\n",
       "      <th></th>\n",
       "      <th>poverty</th>\n",
       "    </tr>\n",
       "    <tr>\n",
       "      <th>poverty</th>\n",
       "      <th></th>\n",
       "    </tr>\n",
       "  </thead>\n",
       "  <tbody>\n",
       "    <tr>\n",
       "      <th>About Right</th>\n",
       "      <td>374</td>\n",
       "    </tr>\n",
       "    <tr>\n",
       "      <th>Too Little</th>\n",
       "      <td>604</td>\n",
       "    </tr>\n",
       "    <tr>\n",
       "      <th>Too Much</th>\n",
       "      <td>25</td>\n",
       "    </tr>\n",
       "  </tbody>\n",
       "</table>\n",
       "</div>"
      ],
      "text/plain": [
       "             poverty\n",
       "poverty             \n",
       "About Right      374\n",
       "Too Little       604\n",
       "Too Much          25"
      ]
     },
     "execution_count": 28,
     "metadata": {},
     "output_type": "execute_result"
    }
   ],
   "source": [
    "# Prepare the data, i.e. the counts of the different 'poverty' values for Swedish respondents \n",
    "pov_swe_pa = wvs_df[wvs_df['country']=='Sweden'].groupby(['poverty'])[['poverty']].count()\n",
    "pov_swe_pa"
   ]
  },
  {
   "cell_type": "code",
   "execution_count": 30,
   "metadata": {},
   "outputs": [
    {
     "data": {
      "image/png": "[encoded data removed]",
      "text/plain": [
       "<Figure size 432x288 with 1 Axes>"
      ]
     },
     "metadata": {
      "needs_background": "light"
     },
     "output_type": "display_data"
    }
   ],
   "source": [
    "# Plot the barchart\n",
    "plt.bar(range(0, len(pov_swe_pa)), height=pov_swe_pa['poverty'], tick_label=pov_swe_pa.index)\n",
    "# Function savefig() must be called before show(); \n",
    "# the bbox_inches value 'tight' forces the function to fit exactly everything into the png\n",
    "plt.savefig('poverty.png', format='png', bbox_inches='tight')\n",
    "plt.show()"
   ]
  },
  {
   "cell_type": "markdown",
   "metadata": {},
   "source": [
    "# 5"
   ]
  },
  {
   "cell_type": "markdown",
   "metadata": {},
   "source": [
    "We will apply the Chi-Squared test as there are looking at two categorical variables"
   ]
  },
  {
   "cell_type": "code",
   "execution_count": 37,
   "metadata": {},
   "outputs": [
    {
     "data": {
      "text/html": [
       "<div>\n",
       "<style scoped>\n",
       "    .dataframe tbody tr th:only-of-type {\n",
       "        vertical-align: middle;\n",
       "    }\n",
       "\n",
       "    .dataframe tbody tr th {\n",
       "        vertical-align: top;\n",
       "    }\n",
       "\n",
       "    .dataframe thead th {\n",
       "        text-align: right;\n",
       "    }\n",
       "</style>\n",
       "<table border=\"1\" class=\"dataframe\">\n",
       "  <thead>\n",
       "    <tr style=\"text-align: right;\">\n",
       "      <th>gender</th>\n",
       "      <th>female</th>\n",
       "      <th>male</th>\n",
       "    </tr>\n",
       "    <tr>\n",
       "      <th>poverty</th>\n",
       "      <th></th>\n",
       "      <th></th>\n",
       "    </tr>\n",
       "  </thead>\n",
       "  <tbody>\n",
       "    <tr>\n",
       "      <th>About Right</th>\n",
       "      <td>892</td>\n",
       "      <td>970</td>\n",
       "    </tr>\n",
       "    <tr>\n",
       "      <th>Too Little</th>\n",
       "      <td>1435</td>\n",
       "      <td>1273</td>\n",
       "    </tr>\n",
       "    <tr>\n",
       "      <th>Too Much</th>\n",
       "      <td>398</td>\n",
       "      <td>413</td>\n",
       "    </tr>\n",
       "  </tbody>\n",
       "</table>\n",
       "</div>"
      ],
      "text/plain": [
       "gender       female  male\n",
       "poverty                  \n",
       "About Right     892   970\n",
       "Too Little     1435  1273\n",
       "Too Much        398   413"
      ]
     },
     "execution_count": 37,
     "metadata": {},
     "output_type": "execute_result"
    }
   ],
   "source": [
    "# Import the stats package and prepare the contingency table\n",
    "import scipy.stats as ss\n",
    "gen_pov_xtabl = pd.crosstab(index=wvs_df['poverty'], columns=wvs_df['gender'])\n",
    "gen_pov_xtabl"
   ]
  },
  {
   "cell_type": "code",
   "execution_count": 38,
   "metadata": {},
   "outputs": [
    {
     "name": "stdout",
     "output_type": "stream",
     "text": [
      "chi-squared 12.35342614822168\n",
      "p = 0.0020772443941503215\n",
      "degrees of freedom = 2\n",
      "expected value table: \n",
      "[[ 942.93811559  919.06188441]\n",
      " [1371.36220033 1336.63779967]\n",
      " [ 410.69968407  400.30031593]]\n"
     ]
    }
   ],
   "source": [
    "# Apply the test\n",
    "# Apply the Chi-squared test to the data\n",
    "chisq, p, dof, evs = ss.chi2_contingency(gen_pov_xtabl)\n",
    "print(\"chi-squared \" + str(chisq))\n",
    "print(\"p = \" + str(p))\n",
    "print(\"degrees of freedom = \" + str(dof))\n",
    "print(\"expected value table: \")\n",
    "print(evs)"
   ]
  },
  {
   "cell_type": "markdown",
   "metadata": {},
   "source": [
    "Interpretation: The p value is low. At any usual confidence levels (e.g. 5% or 1%) the Chi-squared statistic value is significant, indicating a significant correlation between gender and opinions on poverty."
   ]
  },
  {
   "cell_type": "markdown",
   "metadata": {},
   "source": [
    "# 6"
   ]
  },
  {
   "cell_type": "markdown",
   "metadata": {},
   "source": [
    "Here we apply the one-way ANOVA test as we are dealing with one categorical and one numeric variable."
   ]
  },
  {
   "cell_type": "markdown",
   "metadata": {},
   "source": [
    "**Some notes on the code below**\n",
    "- the star (\\*) operator placed at the beginning of the argument list to f_oneway() allows us to pass in a list comprehension that creates a list of value series\n",
    "- the test function evaluates to an object containing the F-statistic and the pvalue, which is what is printed out when the function is called "
   ]
  },
  {
   "cell_type": "code",
   "execution_count": 44,
   "metadata": {},
   "outputs": [
    {
     "data": {
      "text/plain": [
       "F_onewayResult(statistic=42.592074613323476, pvalue=4.440814948955822e-19)"
      ]
     },
     "execution_count": 44,
     "metadata": {},
     "output_type": "execute_result"
    }
   ],
   "source": [
    "ss.f_oneway(*(wvs_df['age'][wvs_df['poverty'] == poverty] for poverty in wvs_df['poverty'].unique()))"
   ]
  },
  {
   "cell_type": "markdown",
   "metadata": {},
   "source": [
    "Interpretation: The p value is extremely low. At any usual or higher confidence levels (5%, 1% and higher) the f-statistic value is significant, indicating a likely difference between the opinions about poverty in different age groups."
   ]
  }
 ],
 "metadata": {
  "kernelspec": {
   "display_name": "Python 3",
   "language": "python",
   "name": "python3"
  },
  "language_info": {
   "codemirror_mode": {
    "name": "ipython",
    "version": 3
   },
   "file_extension": ".py",
   "mimetype": "text/x-python",
   "name": "python",
   "nbconvert_exporter": "python",
   "pygments_lexer": "ipython3",
   "version": "3.6.9"
  }
 },
 "nbformat": 4,
 "nbformat_minor": 2
}
