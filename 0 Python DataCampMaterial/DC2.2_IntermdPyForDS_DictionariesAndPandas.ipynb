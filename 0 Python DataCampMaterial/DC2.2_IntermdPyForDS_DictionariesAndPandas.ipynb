{
 "cells": [
  {
   "cell_type": "markdown",
   "metadata": {},
   "source": [
    "# Dictionaries"
   ]
  },
  {
   "cell_type": "markdown",
   "metadata": {},
   "source": [
    "## Without dictionaries..."
   ]
  },
  {
   "cell_type": "code",
   "execution_count": null,
   "metadata": {},
   "outputs": [
    {
     "name": "stdout",
     "output_type": "stream",
     "text": [
      "berlin\n"
     ]
    }
   ],
   "source": [
    "# Definition of countries and capitals\n",
    "countries = ['spain', 'france', 'germany', 'norway']\n",
    "capitals = ['madrid', 'paris', 'berlin', 'oslo']\n",
    "\n",
    "# Get index of 'germany': ind_ger\n",
    "ind_ger = countries.index(\"germany\")\n",
    "\n",
    "# Use ind_ger to print out capital of Germany\n",
    "print(capitals[ind_ger])"
   ]
  },
  {
   "cell_type": "markdown",
   "metadata": {},
   "source": [
    "## Create a dictionary"
   ]
  },
  {
   "cell_type": "code",
   "execution_count": 14,
   "metadata": {},
   "outputs": [
    {
     "name": "stdout",
     "output_type": "stream",
     "text": [
      "{'spain': 'madrid', 'france': 'paris', 'germany': 'berlin', 'norway': 'oslo'}\n"
     ]
    }
   ],
   "source": [
    "# From strings in countries and capitals above create dictionary europe\n",
    "europe = { 'spain':'madrid', 'france':'paris', 'germany':'berlin', 'norway':'oslo' }\n",
    "\n",
    "# Print europe\n",
    "print(europe)"
   ]
  },
  {
   "cell_type": "markdown",
   "metadata": {},
   "source": [
    "## Access the dictionary"
   ]
  },
  {
   "cell_type": "code",
   "execution_count": 15,
   "metadata": {},
   "outputs": [
    {
     "name": "stdout",
     "output_type": "stream",
     "text": [
      "dict_keys(['spain', 'france', 'germany', 'norway'])\n",
      "oslo\n"
     ]
    }
   ],
   "source": [
    "# Print out the keys in europe\n",
    "print(europe.keys())\n",
    "\n",
    "# Print out value that belongs to key 'norway'\n",
    "print(europe['norway'])"
   ]
  },
  {
   "cell_type": "markdown",
   "metadata": {},
   "source": [
    "## Dictionary manipulation "
   ]
  },
  {
   "cell_type": "code",
   "execution_count": 17,
   "metadata": {},
   "outputs": [
    {
     "name": "stdout",
     "output_type": "stream",
     "text": [
      "True\n",
      "{'spain': 'madrid', 'france': 'paris', 'germany': 'bonn', 'norway': 'oslo', 'australia': 'canberra', 'italy': 'rome'}\n",
      "{'spain': 'madrid', 'france': 'paris', 'germany': 'berlin', 'norway': 'oslo', 'italy': 'rome', 'poland': 'warsaw'}\n"
     ]
    }
   ],
   "source": [
    "# From strings in countries and capitals above create dictionary europe\n",
    "europe = { 'spain':'madrid', 'france':'paris', 'germany':'bonn', 'norway':'oslo', 'australia':'canberra' }\n",
    "\n",
    "# Add italy to europe\n",
    "europe['italy'] = 'rome'\n",
    "\n",
    "# Print out italy in europe\n",
    "print('italy' in europe)\n",
    "\n",
    "# Print europe\n",
    "print(europe)\n",
    "\n",
    "# Add poland to europe\n",
    "europe['poland'] = 'warsaw'\n",
    "\n",
    "# Update capital of germany\n",
    "europe['germany'] = 'berlin'\n",
    "\n",
    "# Remove australia\n",
    "del(europe['australia'])\n",
    "\n",
    "# Print europe\n",
    "print(europe)"
   ]
  },
  {
   "cell_type": "markdown",
   "metadata": {},
   "source": [
    "## Dictionary of dictionaries"
   ]
  },
  {
   "cell_type": "code",
   "execution_count": 19,
   "metadata": {},
   "outputs": [
    {
     "name": "stdout",
     "output_type": "stream",
     "text": [
      "{'spain': {'capital': 'madrid', 'population': 46.77}, 'france': {'capital': 'paris', 'population': 66.03}, 'germany': {'capital': 'berlin', 'population': 80.62}, 'norway': {'capital': 'oslo', 'population': 5.084}}\n",
      "paris\n",
      "{'spain': {'capital': 'madrid', 'population': 46.77}, 'france': {'capital': 'paris', 'population': 66.03}, 'germany': {'capital': 'berlin', 'population': 80.62}, 'norway': {'capital': 'oslo', 'population': 5.084}, 'italy': {'capital': 'rome', 'population': 59.83}}\n"
     ]
    }
   ],
   "source": [
    "# Dictionary of dictionaries\n",
    "europe = { 'spain': { 'capital':'madrid', 'population':46.77 },\n",
    "           'france': { 'capital':'paris', 'population':66.03 },\n",
    "           'germany': { 'capital':'berlin', 'population':80.62 },\n",
    "           'norway': { 'capital':'oslo', 'population':5.084 } }\n",
    "\n",
    "# Print the dictionary of dictionaries\n",
    "print(europe)\n",
    "\n",
    "# Print out the capital of France\n",
    "print(europe['france']['capital'])\n",
    "\n",
    "# Create sub-dictionary data\n",
    "data = {'capital':'rome', 'population':59.83}\n",
    "\n",
    "# Add data to europe under key 'italy'\n",
    "europe['italy'] = data\n",
    "\n",
    "# Print europe\n",
    "print(europe)"
   ]
  },
  {
   "cell_type": "markdown",
   "metadata": {},
   "source": [
    "# Pandas (library)"
   ]
  },
  {
   "cell_type": "markdown",
   "metadata": {},
   "source": [
    "## The data frame"
   ]
  },
  {
   "cell_type": "code",
   "execution_count": 1,
   "metadata": {},
   "outputs": [
    {
     "name": "stdout",
     "output_type": "stream",
     "text": [
      "         country  drives_right  cars_per_cap\n",
      "0  United States          True           809\n",
      "1      Australia         False           731\n",
      "2          Japan         False           588\n",
      "3          India         False            18\n",
      "4         Russia          True           200\n",
      "5        Morocco          True            70\n",
      "6          Egypt          True            45\n"
     ]
    }
   ],
   "source": [
    "# Pre-defined lists\n",
    "names = ['United States', 'Australia', 'Japan', 'India', 'Russia', 'Morocco', 'Egypt']\n",
    "dr =  [True, False, False, False, True, True, True]\n",
    "cpc = [809, 731, 588, 18, 200, 70, 45]\n",
    "\n",
    "# Import pandas as pd\n",
    "import pandas as pd\n",
    "\n",
    "# Create dictionary my_dict with three key:value pairs, where the keys are names and the values are lists\n",
    "my_dict = {'country':names, 'drives_right':dr, 'cars_per_cap':cpc }\n",
    "\n",
    "# Build a DataFrame cars from my_dict: cars\n",
    "cars = pd.DataFrame(my_dict)\n",
    "\n",
    "# Print cars\n",
    "print(cars)"
   ]
  },
  {
   "cell_type": "markdown",
   "metadata": {},
   "source": [
    "## Row labels"
   ]
  },
  {
   "cell_type": "code",
   "execution_count": 4,
   "metadata": {},
   "outputs": [
    {
     "name": "stdout",
     "output_type": "stream",
     "text": [
      "           country  drives_right  cars_per_cap\n",
      "US   United States          True           809\n",
      "AUS      Australia         False           731\n",
      "JAP          Japan         False           588\n",
      "IN           India         False            18\n",
      "RU          Russia          True           200\n",
      "MOR        Morocco          True            70\n",
      "EG           Egypt          True            45\n"
     ]
    }
   ],
   "source": [
    "# Definition of row_labels\n",
    "row_labels = ['US', 'AUS', 'JAP', 'IN', 'RU', 'MOR', 'EG']\n",
    "\n",
    "# Specify row labels of cars\n",
    "cars.index = row_labels\n",
    "\n",
    "# Print cars again\n",
    "print(cars)\n",
    "\n",
    "# Write cars to a csv file\n",
    "cars.to_csv(\"cars.csv\")"
   ]
  },
  {
   "cell_type": "markdown",
   "metadata": {},
   "source": [
    "## Reading data from a comma-separated value (CSV) file"
   ]
  },
  {
   "cell_type": "code",
   "execution_count": 29,
   "metadata": {},
   "outputs": [
    {
     "name": "stdout",
     "output_type": "stream",
     "text": [
      "     Unnamed: 0  Sepal.Length  Sepal.Width  Petal.Length  Petal.Width  \\\n",
      "0             1           5.1          3.5           1.4          0.2   \n",
      "1             2           4.9          3.0           1.4          0.2   \n",
      "2             3           4.7          3.2           1.3          0.2   \n",
      "3             4           4.6          3.1           1.5          0.2   \n",
      "4             5           5.0          3.6           1.4          0.2   \n",
      "5             6           5.4          3.9           1.7          0.4   \n",
      "6             7           4.6          3.4           1.4          0.3   \n",
      "7             8           5.0          3.4           1.5          0.2   \n",
      "8             9           4.4          2.9           1.4          0.2   \n",
      "9            10           4.9          3.1           1.5          0.1   \n",
      "10           11           5.4          3.7           1.5          0.2   \n",
      "11           12           4.8          3.4           1.6          0.2   \n",
      "12           13           4.8          3.0           1.4          0.1   \n",
      "13           14           4.3          3.0           1.1          0.1   \n",
      "14           15           5.8          4.0           1.2          0.2   \n",
      "15           16           5.7          4.4           1.5          0.4   \n",
      "16           17           5.4          3.9           1.3          0.4   \n",
      "17           18           5.1          3.5           1.4          0.3   \n",
      "18           19           5.7          3.8           1.7          0.3   \n",
      "19           20           5.1          3.8           1.5          0.3   \n",
      "20           21           5.4          3.4           1.7          0.2   \n",
      "21           22           5.1          3.7           1.5          0.4   \n",
      "22           23           4.6          3.6           1.0          0.2   \n",
      "23           24           5.1          3.3           1.7          0.5   \n",
      "24           25           4.8          3.4           1.9          0.2   \n",
      "25           26           5.0          3.0           1.6          0.2   \n",
      "26           27           5.0          3.4           1.6          0.4   \n",
      "27           28           5.2          3.5           1.5          0.2   \n",
      "28           29           5.2          3.4           1.4          0.2   \n",
      "29           30           4.7          3.2           1.6          0.2   \n",
      "..          ...           ...          ...           ...          ...   \n",
      "120         121           6.9          3.2           5.7          2.3   \n",
      "121         122           5.6          2.8           4.9          2.0   \n",
      "122         123           7.7          2.8           6.7          2.0   \n",
      "123         124           6.3          2.7           4.9          1.8   \n",
      "124         125           6.7          3.3           5.7          2.1   \n",
      "125         126           7.2          3.2           6.0          1.8   \n",
      "126         127           6.2          2.8           4.8          1.8   \n",
      "127         128           6.1          3.0           4.9          1.8   \n",
      "128         129           6.4          2.8           5.6          2.1   \n",
      "129         130           7.2          3.0           5.8          1.6   \n",
      "130         131           7.4          2.8           6.1          1.9   \n",
      "131         132           7.9          3.8           6.4          2.0   \n",
      "132         133           6.4          2.8           5.6          2.2   \n",
      "133         134           6.3          2.8           5.1          1.5   \n",
      "134         135           6.1          2.6           5.6          1.4   \n",
      "135         136           7.7          3.0           6.1          2.3   \n",
      "136         137           6.3          3.4           5.6          2.4   \n",
      "137         138           6.4          3.1           5.5          1.8   \n",
      "138         139           6.0          3.0           4.8          1.8   \n",
      "139         140           6.9          3.1           5.4          2.1   \n",
      "140         141           6.7          3.1           5.6          2.4   \n",
      "141         142           6.9          3.1           5.1          2.3   \n",
      "142         143           5.8          2.7           5.1          1.9   \n",
      "143         144           6.8          3.2           5.9          2.3   \n",
      "144         145           6.7          3.3           5.7          2.5   \n",
      "145         146           6.7          3.0           5.2          2.3   \n",
      "146         147           6.3          2.5           5.0          1.9   \n",
      "147         148           6.5          3.0           5.2          2.0   \n",
      "148         149           6.2          3.4           5.4          2.3   \n",
      "149         150           5.9          3.0           5.1          1.8   \n",
      "\n",
      "       Species  \n",
      "0       setosa  \n",
      "1       setosa  \n",
      "2       setosa  \n",
      "3       setosa  \n",
      "4       setosa  \n",
      "5       setosa  \n",
      "6       setosa  \n",
      "7       setosa  \n",
      "8       setosa  \n",
      "9       setosa  \n",
      "10      setosa  \n",
      "11      setosa  \n",
      "12      setosa  \n",
      "13      setosa  \n",
      "14      setosa  \n",
      "15      setosa  \n",
      "16      setosa  \n",
      "17      setosa  \n",
      "18      setosa  \n",
      "19      setosa  \n",
      "20      setosa  \n",
      "21      setosa  \n",
      "22      setosa  \n",
      "23      setosa  \n",
      "24      setosa  \n",
      "25      setosa  \n",
      "26      setosa  \n",
      "27      setosa  \n",
      "28      setosa  \n",
      "29      setosa  \n",
      "..         ...  \n",
      "120  virginica  \n",
      "121  virginica  \n",
      "122  virginica  \n",
      "123  virginica  \n",
      "124  virginica  \n",
      "125  virginica  \n",
      "126  virginica  \n",
      "127  virginica  \n",
      "128  virginica  \n",
      "129  virginica  \n",
      "130  virginica  \n",
      "131  virginica  \n",
      "132  virginica  \n",
      "133  virginica  \n",
      "134  virginica  \n",
      "135  virginica  \n",
      "136  virginica  \n",
      "137  virginica  \n",
      "138  virginica  \n",
      "139  virginica  \n",
      "140  virginica  \n",
      "141  virginica  \n",
      "142  virginica  \n",
      "143  virginica  \n",
      "144  virginica  \n",
      "145  virginica  \n",
      "146  virginica  \n",
      "147  virginica  \n",
      "148  virginica  \n",
      "149  virginica  \n",
      "\n",
      "[150 rows x 6 columns]\n"
     ]
    }
   ],
   "source": [
    "# Import the iris.csv data: \n",
    "iris = pd.read_csv(\"iris.csv\")\n",
    "\n",
    "# Print out iris\n",
    "print(iris)"
   ]
  },
  {
   "cell_type": "code",
   "execution_count": 30,
   "metadata": {},
   "outputs": [
    {
     "name": "stdout",
     "output_type": "stream",
     "text": [
      "     Sepal.Length  Sepal.Width  Petal.Length  Petal.Width    Species\n",
      "1             5.1          3.5           1.4          0.2     setosa\n",
      "2             4.9          3.0           1.4          0.2     setosa\n",
      "3             4.7          3.2           1.3          0.2     setosa\n",
      "4             4.6          3.1           1.5          0.2     setosa\n",
      "5             5.0          3.6           1.4          0.2     setosa\n",
      "6             5.4          3.9           1.7          0.4     setosa\n",
      "7             4.6          3.4           1.4          0.3     setosa\n",
      "8             5.0          3.4           1.5          0.2     setosa\n",
      "9             4.4          2.9           1.4          0.2     setosa\n",
      "10            4.9          3.1           1.5          0.1     setosa\n",
      "11            5.4          3.7           1.5          0.2     setosa\n",
      "12            4.8          3.4           1.6          0.2     setosa\n",
      "13            4.8          3.0           1.4          0.1     setosa\n",
      "14            4.3          3.0           1.1          0.1     setosa\n",
      "15            5.8          4.0           1.2          0.2     setosa\n",
      "16            5.7          4.4           1.5          0.4     setosa\n",
      "17            5.4          3.9           1.3          0.4     setosa\n",
      "18            5.1          3.5           1.4          0.3     setosa\n",
      "19            5.7          3.8           1.7          0.3     setosa\n",
      "20            5.1          3.8           1.5          0.3     setosa\n",
      "21            5.4          3.4           1.7          0.2     setosa\n",
      "22            5.1          3.7           1.5          0.4     setosa\n",
      "23            4.6          3.6           1.0          0.2     setosa\n",
      "24            5.1          3.3           1.7          0.5     setosa\n",
      "25            4.8          3.4           1.9          0.2     setosa\n",
      "26            5.0          3.0           1.6          0.2     setosa\n",
      "27            5.0          3.4           1.6          0.4     setosa\n",
      "28            5.2          3.5           1.5          0.2     setosa\n",
      "29            5.2          3.4           1.4          0.2     setosa\n",
      "30            4.7          3.2           1.6          0.2     setosa\n",
      "..            ...          ...           ...          ...        ...\n",
      "121           6.9          3.2           5.7          2.3  virginica\n",
      "122           5.6          2.8           4.9          2.0  virginica\n",
      "123           7.7          2.8           6.7          2.0  virginica\n",
      "124           6.3          2.7           4.9          1.8  virginica\n",
      "125           6.7          3.3           5.7          2.1  virginica\n",
      "126           7.2          3.2           6.0          1.8  virginica\n",
      "127           6.2          2.8           4.8          1.8  virginica\n",
      "128           6.1          3.0           4.9          1.8  virginica\n",
      "129           6.4          2.8           5.6          2.1  virginica\n",
      "130           7.2          3.0           5.8          1.6  virginica\n",
      "131           7.4          2.8           6.1          1.9  virginica\n",
      "132           7.9          3.8           6.4          2.0  virginica\n",
      "133           6.4          2.8           5.6          2.2  virginica\n",
      "134           6.3          2.8           5.1          1.5  virginica\n",
      "135           6.1          2.6           5.6          1.4  virginica\n",
      "136           7.7          3.0           6.1          2.3  virginica\n",
      "137           6.3          3.4           5.6          2.4  virginica\n",
      "138           6.4          3.1           5.5          1.8  virginica\n",
      "139           6.0          3.0           4.8          1.8  virginica\n",
      "140           6.9          3.1           5.4          2.1  virginica\n",
      "141           6.7          3.1           5.6          2.4  virginica\n",
      "142           6.9          3.1           5.1          2.3  virginica\n",
      "143           5.8          2.7           5.1          1.9  virginica\n",
      "144           6.8          3.2           5.9          2.3  virginica\n",
      "145           6.7          3.3           5.7          2.5  virginica\n",
      "146           6.7          3.0           5.2          2.3  virginica\n",
      "147           6.3          2.5           5.0          1.9  virginica\n",
      "148           6.5          3.0           5.2          2.0  virginica\n",
      "149           6.2          3.4           5.4          2.3  virginica\n",
      "150           5.9          3.0           5.1          1.8  virginica\n",
      "\n",
      "[150 rows x 5 columns]\n"
     ]
    }
   ],
   "source": [
    "# To specify that the first column (with index 0) contains indices rather than actual data, we can use\n",
    "iris = pd.read_csv(\"iris.csv\", index_col = 0)\n",
    "\n",
    "print(iris)"
   ]
  },
  {
   "cell_type": "markdown",
   "metadata": {},
   "source": [
    "## Sub-setting a data frame"
   ]
  },
  {
   "cell_type": "markdown",
   "metadata": {},
   "source": [
    "### Using column names"
   ]
  },
  {
   "cell_type": "code",
   "execution_count": 35,
   "metadata": {},
   "outputs": [
    {
     "name": "stdout",
     "output_type": "stream",
     "text": [
      "US     United States\n",
      "AUS        Australia\n",
      "JAP            Japan\n",
      "IN             India\n",
      "RU            Russia\n",
      "MOR          Morocco\n",
      "EG             Egypt\n",
      "Name: country, dtype: object\n",
      "           country\n",
      "US   United States\n",
      "AUS      Australia\n",
      "JAP          Japan\n",
      "IN           India\n",
      "RU          Russia\n",
      "MOR        Morocco\n",
      "EG           Egypt\n",
      "           country  drives_right\n",
      "US   United States          True\n",
      "AUS      Australia         False\n",
      "JAP          Japan         False\n",
      "IN           India         False\n",
      "RU          Russia          True\n",
      "MOR        Morocco          True\n",
      "EG           Egypt          True\n"
     ]
    }
   ],
   "source": [
    "# Print out country column as Pandas Series\n",
    "print(cars['country'])\n",
    "\n",
    "# Print out country column as Pandas DataFrame\n",
    "print(cars[['country']])\n",
    "\n",
    "# Print out DataFrame with country and drives_right columns\n",
    "print(cars[['country', 'drives_right']])"
   ]
  },
  {
   "cell_type": "markdown",
   "metadata": {},
   "source": [
    "### Using row indices"
   ]
  },
  {
   "cell_type": "code",
   "execution_count": 36,
   "metadata": {},
   "outputs": [
    {
     "name": "stdout",
     "output_type": "stream",
     "text": [
      "           country  drives_right  cars_per_cap\n",
      "US   United States          True           809\n",
      "AUS      Australia         False           731\n",
      "JAP          Japan         False           588\n",
      "     country  drives_right  cars_per_cap\n",
      "IN     India         False            18\n",
      "RU    Russia          True           200\n",
      "MOR  Morocco          True            70\n"
     ]
    }
   ],
   "source": [
    "# Print out first 3 observations\n",
    "print(cars[0:3])\n",
    "\n",
    "# Print out fourth, fifth and sixth observation\n",
    "print(cars[3:6])"
   ]
  },
  {
   "cell_type": "markdown",
   "metadata": {},
   "source": [
    "### Using loc and iloc (the most flexible way)"
   ]
  },
  {
   "cell_type": "markdown",
   "metadata": {},
   "source": [
    "#### Using row indexing alone"
   ]
  },
  {
   "cell_type": "code",
   "execution_count": 43,
   "metadata": {},
   "outputs": [
    {
     "name": "stdout",
     "output_type": "stream",
     "text": [
      "           country  drives_right  cars_per_cap\n",
      "US   United States          True           809\n",
      "AUS      Australia         False           731\n",
      "JAP          Japan         False           588\n",
      "IN           India         False            18\n",
      "RU          Russia          True           200\n",
      "MOR        Morocco          True            70\n",
      "EG           Egypt          True            45\n",
      "------------------------------\n",
      "country         Japan\n",
      "drives_right    False\n",
      "cars_per_cap      588\n",
      "Name: JAP, dtype: object\n",
      "country         Japan\n",
      "drives_right    False\n",
      "cars_per_cap      588\n",
      "Name: JAP, dtype: object\n",
      "------------------------------\n",
      "       country  drives_right  cars_per_cap\n",
      "AUS  Australia         False           731\n",
      "EG       Egypt          True            45\n",
      "       country  drives_right  cars_per_cap\n",
      "AUS  Australia         False           731\n",
      "EG       Egypt          True            45\n",
      "------------------------------\n"
     ]
    }
   ],
   "source": [
    "print(cars)\n",
    "print(\"------------------------------\")\n",
    "\n",
    "# Print out observation for Japan\n",
    "print(cars.loc['JAP'])\n",
    "print(cars.iloc[2])\n",
    "print(\"------------------------------\")\n",
    "\n",
    "# Print out observations for Australia and Egypt\n",
    "print(cars.loc[['AUS', 'EG']])\n",
    "print(cars.iloc[[1, 6]])\n",
    "print(\"------------------------------\")"
   ]
  },
  {
   "cell_type": "markdown",
   "metadata": {},
   "source": [
    "#### Using row and column indexing together"
   ]
  },
  {
   "cell_type": "code",
   "execution_count": 44,
   "metadata": {},
   "outputs": [
    {
     "name": "stdout",
     "output_type": "stream",
     "text": [
      "           country  drives_right  cars_per_cap\n",
      "US   United States          True           809\n",
      "AUS      Australia         False           731\n",
      "JAP          Japan         False           588\n",
      "IN           India         False            18\n",
      "RU          Russia          True           200\n",
      "MOR        Morocco          True            70\n",
      "EG           Egypt          True            45\n",
      "------------------------------\n",
      "     drives_right\n",
      "MOR          True\n",
      "------------------------------\n",
      "     country  drives_right\n",
      "RU    Russia          True\n",
      "MOR  Morocco          True\n",
      "------------------------------\n"
     ]
    }
   ],
   "source": [
    "print(cars)\n",
    "print(\"------------------------------\")\n",
    "\n",
    "# Print out drives_right value of Morocco\n",
    "print(cars.loc[['MOR'],['drives_right']])\n",
    "print(\"------------------------------\")\n",
    "\n",
    "# Print sub-DataFrame\n",
    "print(cars.loc[['RU', 'MOR'],['country', 'drives_right']])\n",
    "print(\"------------------------------\")"
   ]
  },
  {
   "cell_type": "markdown",
   "metadata": {},
   "source": [
    "#### Further examples "
   ]
  },
  {
   "cell_type": "code",
   "execution_count": 45,
   "metadata": {},
   "outputs": [
    {
     "name": "stdout",
     "output_type": "stream",
     "text": [
      "           country  drives_right  cars_per_cap\n",
      "US   United States          True           809\n",
      "AUS      Australia         False           731\n",
      "JAP          Japan         False           588\n",
      "IN           India         False            18\n",
      "RU          Russia          True           200\n",
      "MOR        Morocco          True            70\n",
      "EG           Egypt          True            45\n",
      "------------------------------\n",
      "US      True\n",
      "AUS    False\n",
      "JAP    False\n",
      "IN     False\n",
      "RU      True\n",
      "MOR     True\n",
      "EG      True\n",
      "Name: drives_right, dtype: bool\n",
      "US     809\n",
      "AUS    731\n",
      "JAP    588\n",
      "IN      18\n",
      "RU     200\n",
      "MOR     70\n",
      "EG      45\n",
      "Name: cars_per_cap, dtype: int64\n",
      "------------------------------\n",
      "     drives_right\n",
      "US           True\n",
      "AUS         False\n",
      "JAP         False\n",
      "IN          False\n",
      "RU           True\n",
      "MOR          True\n",
      "EG           True\n",
      "     cars_per_cap\n",
      "US            809\n",
      "AUS           731\n",
      "JAP           588\n",
      "IN             18\n",
      "RU            200\n",
      "MOR            70\n",
      "EG             45\n",
      "------------------------------\n",
      "     cars_per_cap  drives_right\n",
      "US            809          True\n",
      "AUS           731         False\n",
      "JAP           588         False\n",
      "IN             18         False\n",
      "RU            200          True\n",
      "MOR            70          True\n",
      "EG             45          True\n",
      "------------------------------\n"
     ]
    }
   ],
   "source": [
    "print(cars)\n",
    "print(\"------------------------------\")\n",
    "\n",
    "# Print out drives_right column as Series\n",
    "print(cars.loc[:, 'drives_right'])\n",
    "print(cars.iloc[:, 2])\n",
    "print(\"------------------------------\")\n",
    "\n",
    "# Print out drives_right column as DataFrame\n",
    "print(cars.loc[:, ['drives_right']])\n",
    "print(cars.iloc[:, [2]])\n",
    "print(\"------------------------------\")\n",
    "\n",
    "# Print out cars_per_cap and drives_right as DataFrame\n",
    "print(cars.loc[:, ['cars_per_cap', 'drives_right']])\n",
    "print(\"------------------------------\")"
   ]
  },
  {
   "cell_type": "code",
   "execution_count": null,
   "metadata": {},
   "outputs": [],
   "source": []
  }
 ],
 "metadata": {
  "kernelspec": {
   "display_name": "Python 3",
   "language": "python",
   "name": "python3"
  },
  "language_info": {
   "codemirror_mode": {
    "name": "ipython",
    "version": 3
   },
   "file_extension": ".py",
   "mimetype": "text/x-python",
   "name": "python",
   "nbconvert_exporter": "python",
   "pygments_lexer": "ipython3",
   "version": "3.6.7"
  }
 },
 "nbformat": 4,
 "nbformat_minor": 2
}
