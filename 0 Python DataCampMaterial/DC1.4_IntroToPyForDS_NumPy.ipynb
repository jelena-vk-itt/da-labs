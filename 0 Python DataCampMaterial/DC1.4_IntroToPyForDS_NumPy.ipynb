{
 "cells": [
  {
   "cell_type": "markdown",
   "metadata": {},
   "source": [
    "# NumPy\n",
    "The NumPy package implements large multi-dimensional arrays and matrices and operations over those structures. These are important for data analysis, making NumPy essential in data analytical work with Python.\n",
    "\n",
    "Importing NumPy with a shorter alias makes it easier to refer to in code:"
   ]
  },
  {
   "cell_type": "code",
   "execution_count": 8,
   "metadata": {},
   "outputs": [],
   "source": [
    "import numpy as np"
   ]
  },
  {
   "cell_type": "markdown",
   "metadata": {},
   "source": [
    "## The NumPy array\n",
    "\n",
    "A NumPy array can be **created** from an ordinary Python list:"
   ]
  },
  {
   "cell_type": "code",
   "execution_count": 11,
   "metadata": {},
   "outputs": [
    {
     "name": "stdout",
     "output_type": "stream",
     "text": [
      "<class 'numpy.ndarray'>\n"
     ]
    }
   ],
   "source": [
    "ages = [12, 17, 21, 25, 81]\n",
    "np_ages = np.array(ages)\n",
    "print(type(np_ages))  # print the type of the created NumPy array"
   ]
  },
  {
   "cell_type": "markdown",
   "metadata": {},
   "source": [
    "**Operations** are performed **array-wise** on NumPy arrays (on each member of the array)."
   ]
  },
  {
   "cell_type": "code",
   "execution_count": 12,
   "metadata": {},
   "outputs": [
    {
     "name": "stdout",
     "output_type": "stream",
     "text": [
      "[13 18 22 26 82]\n"
     ]
    }
   ],
   "source": [
    "print(np_ages + 1)"
   ]
  },
  {
   "cell_type": "markdown",
   "metadata": {},
   "source": [
    "Trying the same on a list causes an error:"
   ]
  },
  {
   "cell_type": "code",
   "execution_count": 13,
   "metadata": {},
   "outputs": [
    {
     "ename": "TypeError",
     "evalue": "can only concatenate list (not \"int\") to list",
     "output_type": "error",
     "traceback": [
      "\u001b[0;31m---------------------------------------------------------------------------\u001b[0m",
      "\u001b[0;31mTypeError\u001b[0m                                 Traceback (most recent call last)",
      "\u001b[0;32m<ipython-input-13-fedd5602e216>\u001b[0m in \u001b[0;36m<module>\u001b[0;34m()\u001b[0m\n\u001b[0;32m----> 1\u001b[0;31m \u001b[0mprint\u001b[0m\u001b[1;33m(\u001b[0m\u001b[0mages\u001b[0m \u001b[1;33m+\u001b[0m \u001b[1;36m1\u001b[0m\u001b[1;33m)\u001b[0m\u001b[1;33m\u001b[0m\u001b[0m\n\u001b[0m",
      "\u001b[0;31mTypeError\u001b[0m: can only concatenate list (not \"int\") to list"
     ]
    }
   ],
   "source": [
    "print(ages + 1)"
   ]
  },
  {
   "cell_type": "markdown",
   "metadata": {},
   "source": [
    "All elements in a NumPy array must be of the same type. If not, they are **coerced** to one type:"
   ]
  },
  {
   "cell_type": "code",
   "execution_count": 18,
   "metadata": {},
   "outputs": [
    {
     "name": "stdout",
     "output_type": "stream",
     "text": [
      "[12, '18', 21, 25, 81]\n",
      "['12' '18' '21' '25' '81']\n"
     ]
    }
   ],
   "source": [
    "ages2 = ages\n",
    "ages2[1] = \"18\"\n",
    "np_ages2 = np.array(ages2)\n",
    "print(ages2)\n",
    "print(np_ages2)"
   ]
  },
  {
   "cell_type": "markdown",
   "metadata": {},
   "source": [
    "In the example above, the list had a single string among numbers, which was enough for all the elements to be coerced to a string \n",
    "during the creation of a NumPy array. "
   ]
  },
  {
   "cell_type": "markdown",
   "metadata": {},
   "source": [
    "With NumPy arrays, **subsetting** works exactly the same as with Python lists:"
   ]
  },
  {
   "cell_type": "code",
   "execution_count": 22,
   "metadata": {},
   "outputs": [
    {
     "name": "stdout",
     "output_type": "stream",
     "text": [
      "[12 17 21 25 81]\n",
      "[12 17 21]\n"
     ]
    }
   ],
   "source": [
    "print(np_ages)\n",
    "print(np_ages[:3])"
   ]
  },
  {
   "cell_type": "markdown",
   "metadata": {},
   "source": [
    "## The 2D NumPy array\n",
    "\n",
    "This can be **created** from a Python list of lists."
   ]
  },
  {
   "cell_type": "code",
   "execution_count": 26,
   "metadata": {},
   "outputs": [
    {
     "name": "stdout",
     "output_type": "stream",
     "text": [
      "[[ 12 150]\n",
      " [ 17 165]\n",
      " [ 21 172]\n",
      " [ 25 170]\n",
      " [ 81 180]]\n",
      "<class 'numpy.ndarray'>\n"
     ]
    }
   ],
   "source": [
    "ages_and_heights = [[12, 150],\n",
    "                    [17, 165],\n",
    "                    [21, 172],\n",
    "                    [25, 170],\n",
    "                    [81, 180]]\n",
    "np_ages_and_heights = np.array(ages_and_heights)\n",
    "print(np_ages_and_heights)\n",
    "print(type(np_ages_and_heights))"
   ]
  },
  {
   "cell_type": "markdown",
   "metadata": {},
   "source": [
    "Getting **dimension information** about the array (number of rows and number of columns):"
   ]
  },
  {
   "cell_type": "code",
   "execution_count": 28,
   "metadata": {},
   "outputs": [
    {
     "name": "stdout",
     "output_type": "stream",
     "text": [
      "(5, 2)\n"
     ]
    }
   ],
   "source": [
    "print(np_ages_and_heights.shape)"
   ]
  },
  {
   "cell_type": "markdown",
   "metadata": {},
   "source": [
    "**Subsetting** a 2D array is similar to subsetting a one-dimensional array. The subset for each dimension is specified, with a comma in between. Rows are specified first, columns last:"
   ]
  },
  {
   "cell_type": "code",
   "execution_count": 32,
   "metadata": {},
   "outputs": [
    {
     "name": "stdout",
     "output_type": "stream",
     "text": [
      "[165 172 170]\n"
     ]
    }
   ],
   "source": [
    "print(np_ages_and_heights[1:-1, 1])    # we want the subset to contain all rows except the first and the last \n",
    "                                      # and we want it to contain only the height column (index 1)"
   ]
  },
  {
   "cell_type": "markdown",
   "metadata": {},
   "source": [
    "**Operations** on 2D arrays are, again, applied array-wise. However, if there is more than one column, the other operand can be a 1D array of the same size as the row. \n",
    "\n",
    "In our example, we could perform a conversion: age years to months and height centimeters to meters. The conversion factors are 12 and 0.1 and we use an array with these two values as the multiplier."
   ]
  },
  {
   "cell_type": "code",
   "execution_count": 35,
   "metadata": {},
   "outputs": [
    {
     "data": {
      "text/plain": [
       "array([[ 144. ,   15. ],\n",
       "       [ 204. ,   16.5],\n",
       "       [ 252. ,   17.2],\n",
       "       [ 300. ,   17. ],\n",
       "       [ 972. ,   18. ]])"
      ]
     },
     "execution_count": 35,
     "metadata": {},
     "output_type": "execute_result"
    }
   ],
   "source": [
    "\n",
    "np_ages_and_heights * np.array([12, 0.01])"
   ]
  },
  {
   "cell_type": "markdown",
   "metadata": {},
   "source": [
    "Because we have introduced a real number value (0.1), the whole 2D array is coerced to `float`."
   ]
  },
  {
   "cell_type": "code",
   "execution_count": 37,
   "metadata": {},
   "outputs": [
    {
     "data": {
      "text/plain": [
       "numpy.ndarray"
      ]
     },
     "execution_count": 37,
     "metadata": {},
     "output_type": "execute_result"
    }
   ],
   "source": [
    "type(np_ages_and_heights * np.array([12, 0.1]))"
   ]
  },
  {
   "cell_type": "markdown",
   "metadata": {},
   "source": [
    "# Basic statistics with NumPy\n",
    "\n",
    "With the arrays, NumPy provides functions for the processing of data contained in them.\n",
    "\n",
    "Let's start by calculating the mean, median and standard deviation of the heights in our array."
   ]
  },
  {
   "cell_type": "code",
   "execution_count": 42,
   "metadata": {},
   "outputs": [
    {
     "name": "stdout",
     "output_type": "stream",
     "text": [
      "31.2\n",
      "21.0\n",
      "25.2697447553\n"
     ]
    }
   ],
   "source": [
    "print(np.mean(np_ages_and_heights[:,0]))\n",
    "print(np.median(np_ages_and_heights[:,0]))\n",
    "print(np.std(np_ages_and_heights[:,0]))"
   ]
  },
  {
   "cell_type": "markdown",
   "metadata": {},
   "source": [
    "Now we use the correlation function to see if there is a correlation between heights and ages."
   ]
  },
  {
   "cell_type": "code",
   "execution_count": 2,
   "metadata": {},
   "outputs": [
    {
     "ename": "NameError",
     "evalue": "name 'np' is not defined",
     "output_type": "error",
     "traceback": [
      "\u001b[0;31m---------------------------------------------------------------------------\u001b[0m",
      "\u001b[0;31mNameError\u001b[0m                                 Traceback (most recent call last)",
      "\u001b[0;32m<ipython-input-2-cfa19a4b42db>\u001b[0m in \u001b[0;36m<module>\u001b[0;34m\u001b[0m\n\u001b[0;32m----> 1\u001b[0;31m \u001b[0mprint\u001b[0m\u001b[0;34m(\u001b[0m\u001b[0mnp\u001b[0m\u001b[0;34m.\u001b[0m\u001b[0mcorrcoef\u001b[0m\u001b[0;34m(\u001b[0m\u001b[0mnp_ages_and_heights\u001b[0m\u001b[0;34m[\u001b[0m\u001b[0;34m:\u001b[0m\u001b[0;34m,\u001b[0m\u001b[0;36m0\u001b[0m\u001b[0;34m]\u001b[0m\u001b[0;34m,\u001b[0m \u001b[0mnp_ages_and_heights\u001b[0m\u001b[0;34m[\u001b[0m\u001b[0;34m:\u001b[0m\u001b[0;34m,\u001b[0m\u001b[0;36m1\u001b[0m\u001b[0;34m]\u001b[0m\u001b[0;34m)\u001b[0m\u001b[0;34m)\u001b[0m\u001b[0;34m\u001b[0m\u001b[0;34m\u001b[0m\u001b[0m\n\u001b[0m",
      "\u001b[0;31mNameError\u001b[0m: name 'np' is not defined"
     ]
    }
   ],
   "source": [
    "print(np.corrcoef(np_ages_and_heights[:,0], np_ages_and_heights[:,1]))"
   ]
  }
 ],
 "metadata": {
  "kernelspec": {
   "display_name": "Python 3",
   "language": "python",
   "name": "python3"
  },
  "language_info": {
   "codemirror_mode": {
    "name": "ipython",
    "version": 3
   },
   "file_extension": ".py",
   "mimetype": "text/x-python",
   "name": "python",
   "nbconvert_exporter": "python",
   "pygments_lexer": "ipython3",
   "version": "3.6.7"
  }
 },
 "nbformat": 4,
 "nbformat_minor": 2
}
