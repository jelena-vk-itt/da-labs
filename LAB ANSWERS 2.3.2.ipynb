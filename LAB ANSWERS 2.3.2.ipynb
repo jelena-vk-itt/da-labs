{
 "cells": [
  {
   "cell_type": "markdown",
   "metadata": {},
   "source": [
    "## 1)"
   ]
  },
  {
   "cell_type": "code",
   "execution_count": 1,
   "metadata": {},
   "outputs": [
    {
     "name": "stdout",
     "output_type": "stream",
     "text": [
      "360\n"
     ]
    },
    {
     "data": {
      "text/html": [
       "<div>\n",
       "<style scoped>\n",
       "    .dataframe tbody tr th:only-of-type {\n",
       "        vertical-align: middle;\n",
       "    }\n",
       "\n",
       "    .dataframe tbody tr th {\n",
       "        vertical-align: top;\n",
       "    }\n",
       "\n",
       "    .dataframe thead th {\n",
       "        text-align: right;\n",
       "    }\n",
       "</style>\n",
       "<table border=\"1\" class=\"dataframe\">\n",
       "  <thead>\n",
       "    <tr style=\"text-align: right;\">\n",
       "      <th></th>\n",
       "      <th>emission_band</th>\n",
       "      <th>type_of_fuel</th>\n",
       "      <th>engine_capacity_cc</th>\n",
       "      <th>reg_count</th>\n",
       "    </tr>\n",
       "  </thead>\n",
       "  <tbody>\n",
       "    <tr>\n",
       "      <th>0</th>\n",
       "      <td>Band  A</td>\n",
       "      <td>Petrol</td>\n",
       "      <td>Up to 900 cc</td>\n",
       "      <td>0</td>\n",
       "    </tr>\n",
       "    <tr>\n",
       "      <th>1</th>\n",
       "      <td>Band  A</td>\n",
       "      <td>Petrol</td>\n",
       "      <td>901-1000 cc</td>\n",
       "      <td>533</td>\n",
       "    </tr>\n",
       "    <tr>\n",
       "      <th>2</th>\n",
       "      <td>Band  A</td>\n",
       "      <td>Petrol</td>\n",
       "      <td>1001-1300 cc</td>\n",
       "      <td>224</td>\n",
       "    </tr>\n",
       "    <tr>\n",
       "      <th>3</th>\n",
       "      <td>Band  A</td>\n",
       "      <td>Petrol</td>\n",
       "      <td>1301-1400 cc</td>\n",
       "      <td>23</td>\n",
       "    </tr>\n",
       "    <tr>\n",
       "      <th>4</th>\n",
       "      <td>Band  A</td>\n",
       "      <td>Petrol</td>\n",
       "      <td>1401-1500 cc</td>\n",
       "      <td>0</td>\n",
       "    </tr>\n",
       "  </tbody>\n",
       "</table>\n",
       "</div>"
      ],
      "text/plain": [
       "  emission_band type_of_fuel engine_capacity_cc  reg_count\n",
       "0       Band  A       Petrol       Up to 900 cc          0\n",
       "1       Band  A       Petrol        901-1000 cc        533\n",
       "2       Band  A       Petrol       1001-1300 cc        224\n",
       "3       Band  A       Petrol       1301-1400 cc         23\n",
       "4       Band  A       Petrol       1401-1500 cc          0"
      ]
     },
     "execution_count": 1,
     "metadata": {},
     "output_type": "execute_result"
    }
   ],
   "source": [
    "import pandas as pd\n",
    "regs = pd.read_csv(\"regs.csv\")\n",
    "print(len(regs))\n",
    "regs.head(5)"
   ]
  },
  {
   "cell_type": "markdown",
   "metadata": {},
   "source": [
    "## 2)"
   ]
  },
  {
   "cell_type": "code",
   "execution_count": 2,
   "metadata": {},
   "outputs": [
    {
     "data": {
      "text/html": [
       "<div>\n",
       "<style scoped>\n",
       "    .dataframe tbody tr th:only-of-type {\n",
       "        vertical-align: middle;\n",
       "    }\n",
       "\n",
       "    .dataframe tbody tr th {\n",
       "        vertical-align: top;\n",
       "    }\n",
       "\n",
       "    .dataframe thead th {\n",
       "        text-align: right;\n",
       "    }\n",
       "</style>\n",
       "<table border=\"1\" class=\"dataframe\">\n",
       "  <thead>\n",
       "    <tr style=\"text-align: right;\">\n",
       "      <th></th>\n",
       "      <th>reg_count</th>\n",
       "    </tr>\n",
       "    <tr>\n",
       "      <th>engine_capacity_cc</th>\n",
       "      <th></th>\n",
       "    </tr>\n",
       "  </thead>\n",
       "  <tbody>\n",
       "    <tr>\n",
       "      <th>1001-1300 cc</th>\n",
       "      <td>3226</td>\n",
       "    </tr>\n",
       "    <tr>\n",
       "      <th>1301-1400 cc</th>\n",
       "      <td>2574</td>\n",
       "    </tr>\n",
       "    <tr>\n",
       "      <th>1401-1500 cc</th>\n",
       "      <td>1638</td>\n",
       "    </tr>\n",
       "    <tr>\n",
       "      <th>1501-1600 cc</th>\n",
       "      <td>3602</td>\n",
       "    </tr>\n",
       "    <tr>\n",
       "      <th>1601-2000 cc</th>\n",
       "      <td>4035</td>\n",
       "    </tr>\n",
       "    <tr>\n",
       "      <th>2001-2400 cc</th>\n",
       "      <td>694</td>\n",
       "    </tr>\n",
       "    <tr>\n",
       "      <th>901-1000 cc</th>\n",
       "      <td>562</td>\n",
       "    </tr>\n",
       "    <tr>\n",
       "      <th>&gt;2400 cc</th>\n",
       "      <td>221</td>\n",
       "    </tr>\n",
       "    <tr>\n",
       "      <th>Up to 900 cc</th>\n",
       "      <td>1</td>\n",
       "    </tr>\n",
       "  </tbody>\n",
       "</table>\n",
       "</div>"
      ],
      "text/plain": [
       "                    reg_count\n",
       "engine_capacity_cc           \n",
       "1001-1300 cc             3226\n",
       "1301-1400 cc             2574\n",
       "1401-1500 cc             1638\n",
       "1501-1600 cc             3602\n",
       "1601-2000 cc             4035\n",
       "2001-2400 cc              694\n",
       "901-1000 cc               562\n",
       ">2400 cc                  221\n",
       "Up to 900 cc                1"
      ]
     },
     "execution_count": 2,
     "metadata": {},
     "output_type": "execute_result"
    }
   ],
   "source": [
    "# Add up the numbers for each capacity value\n",
    "import numpy as np\n",
    "count_by_cc = pd.pivot_table(regs, values='reg_count', index='engine_capacity_cc', aggfunc=np.sum)\n",
    "count_by_cc"
   ]
  },
  {
   "cell_type": "code",
   "execution_count": 3,
   "metadata": {},
   "outputs": [
    {
     "data": {
      "text/html": [
       "<div>\n",
       "<style scoped>\n",
       "    .dataframe tbody tr th:only-of-type {\n",
       "        vertical-align: middle;\n",
       "    }\n",
       "\n",
       "    .dataframe tbody tr th {\n",
       "        vertical-align: top;\n",
       "    }\n",
       "\n",
       "    .dataframe thead th {\n",
       "        text-align: right;\n",
       "    }\n",
       "</style>\n",
       "<table border=\"1\" class=\"dataframe\">\n",
       "  <thead>\n",
       "    <tr style=\"text-align: right;\">\n",
       "      <th></th>\n",
       "      <th>reg_count</th>\n",
       "    </tr>\n",
       "    <tr>\n",
       "      <th>engine_capacity_cc</th>\n",
       "      <th></th>\n",
       "    </tr>\n",
       "  </thead>\n",
       "  <tbody>\n",
       "    <tr>\n",
       "      <th>Up to 900 cc</th>\n",
       "      <td>1</td>\n",
       "    </tr>\n",
       "    <tr>\n",
       "      <th>901-1000 cc</th>\n",
       "      <td>562</td>\n",
       "    </tr>\n",
       "    <tr>\n",
       "      <th>1001-1300 cc</th>\n",
       "      <td>3226</td>\n",
       "    </tr>\n",
       "    <tr>\n",
       "      <th>1301-1400 cc</th>\n",
       "      <td>2574</td>\n",
       "    </tr>\n",
       "    <tr>\n",
       "      <th>1401-1500 cc</th>\n",
       "      <td>1638</td>\n",
       "    </tr>\n",
       "    <tr>\n",
       "      <th>1501-1600 cc</th>\n",
       "      <td>3602</td>\n",
       "    </tr>\n",
       "    <tr>\n",
       "      <th>1601-2000 cc</th>\n",
       "      <td>4035</td>\n",
       "    </tr>\n",
       "    <tr>\n",
       "      <th>2001-2400 cc</th>\n",
       "      <td>694</td>\n",
       "    </tr>\n",
       "    <tr>\n",
       "      <th>&gt;2400 cc</th>\n",
       "      <td>221</td>\n",
       "    </tr>\n",
       "  </tbody>\n",
       "</table>\n",
       "</div>"
      ],
      "text/plain": [
       "                    reg_count\n",
       "engine_capacity_cc           \n",
       "Up to 900 cc                1\n",
       "901-1000 cc               562\n",
       "1001-1300 cc             3226\n",
       "1301-1400 cc             2574\n",
       "1401-1500 cc             1638\n",
       "1501-1600 cc             3602\n",
       "1601-2000 cc             4035\n",
       "2001-2400 cc              694\n",
       ">2400 cc                  221"
      ]
     },
     "execution_count": 3,
     "metadata": {},
     "output_type": "execute_result"
    }
   ],
   "source": [
    "# Reorder the rows\n",
    "count_by_cc = count_by_cc.reindex(index=count_by_cc.index[[8, 6, 0, 1, 2, 3, 4, 5, 7]])\n",
    "count_by_cc"
   ]
  },
  {
   "cell_type": "code",
   "execution_count": 6,
   "metadata": {},
   "outputs": [
    {
     "data": {
      "image/png": "[encoded data removed]",
      "text/plain": [
       "<Figure size 432x288 with 1 Axes>"
      ]
     },
     "metadata": {
      "needs_background": "light"
     },
     "output_type": "display_data"
    }
   ],
   "source": [
    "import matplotlib.pyplot as plt\n",
    "# Make the x-axis tick text vertical so that it fits without having to stretch the picture\n",
    "plt.xticks(rotation=90)\n",
    "plt.bar(range(0, 17, 2), height=count_by_cc['reg_count'], tick_label=count_by_cc.index)\n",
    "# Function savefig() must be called before show(); \n",
    "# the bbox_inches value 'tight' forces the function to fit exactly everything into the png\n",
    "plt.savefig('cc_counts_bar.png', format='png', bbox_inches='tight')\n",
    "plt.show()"
   ]
  },
  {
   "cell_type": "markdown",
   "metadata": {},
   "source": [
    "## 3)\n",
    "\n",
    "To find if higher-engine-capacity cars were more popular, we can calculate the Kendall Tau for capacity against  numbers registered. "
   ]
  },
  {
   "cell_type": "code",
   "execution_count": 5,
   "metadata": {},
   "outputs": [
    {
     "ename": "NameError",
     "evalue": "name 'sps' is not defined",
     "output_type": "error",
     "traceback": [
      "\u001b[0;31m---------------------------------------------------------------------------\u001b[0m",
      "\u001b[0;31mNameError\u001b[0m                                 Traceback (most recent call last)",
      "\u001b[0;32m<ipython-input-5-ee8ebe78c433>\u001b[0m in \u001b[0;36m<module>\u001b[0;34m\u001b[0m\n\u001b[1;32m      1\u001b[0m \u001b[0;31m# As the kendalltau() function would re-arrange the capacity labels alphabetically we will use numbers instead\u001b[0m\u001b[0;34m\u001b[0m\u001b[0;34m\u001b[0m\u001b[0;34m\u001b[0m\u001b[0m\n\u001b[1;32m      2\u001b[0m \u001b[0;31m# to express the ordering, which is from lowest to highest in the count_by_cc table\u001b[0m\u001b[0;34m\u001b[0m\u001b[0;34m\u001b[0m\u001b[0;34m\u001b[0m\u001b[0m\n\u001b[0;32m----> 3\u001b[0;31m \u001b[0msps\u001b[0m\u001b[0;34m.\u001b[0m\u001b[0mkendalltau\u001b[0m\u001b[0;34m(\u001b[0m\u001b[0;34m[\u001b[0m\u001b[0;36m1\u001b[0m\u001b[0;34m,\u001b[0m \u001b[0;36m2\u001b[0m\u001b[0;34m,\u001b[0m \u001b[0;36m3\u001b[0m\u001b[0;34m,\u001b[0m \u001b[0;36m4\u001b[0m\u001b[0;34m,\u001b[0m \u001b[0;36m5\u001b[0m\u001b[0;34m,\u001b[0m \u001b[0;36m6\u001b[0m\u001b[0;34m,\u001b[0m \u001b[0;36m7\u001b[0m\u001b[0;34m,\u001b[0m \u001b[0;36m8\u001b[0m\u001b[0;34m,\u001b[0m \u001b[0;36m9\u001b[0m\u001b[0;34m]\u001b[0m\u001b[0;34m,\u001b[0m \u001b[0mcount_by_cc\u001b[0m\u001b[0;34m[\u001b[0m\u001b[0;34m'reg_count'\u001b[0m\u001b[0;34m]\u001b[0m\u001b[0;34m)\u001b[0m\u001b[0;34m\u001b[0m\u001b[0;34m\u001b[0m\u001b[0m\n\u001b[0m",
      "\u001b[0;31mNameError\u001b[0m: name 'sps' is not defined"
     ]
    }
   ],
   "source": [
    "# As the kendalltau() function would re-arrange the capacity labels alphabetically we will use numbers instead\n",
    "# to express the ordering, which is from lowest to highest in the count_by_cc table\n",
    "sps.kendalltau([1, 2, 3, 4, 5, 6, 7, 8, 9], count_by_cc['reg_count'])"
   ]
  },
  {
   "cell_type": "markdown",
   "metadata": {},
   "source": [
    "**Interpretation:** The p-value indicates that we can assume that there is no correlation i.e. that cars with larger engine capacity were not more popular in the month that the data pertains to."
   ]
  },
  {
   "cell_type": "markdown",
   "metadata": {},
   "source": [
    "## 4)"
   ]
  },
  {
   "cell_type": "code",
   "execution_count": 142,
   "metadata": {},
   "outputs": [
    {
     "data": {
      "text/html": [
       "<div>\n",
       "<style scoped>\n",
       "    .dataframe tbody tr th:only-of-type {\n",
       "        vertical-align: middle;\n",
       "    }\n",
       "\n",
       "    .dataframe tbody tr th {\n",
       "        vertical-align: top;\n",
       "    }\n",
       "\n",
       "    .dataframe thead th {\n",
       "        text-align: right;\n",
       "    }\n",
       "</style>\n",
       "<table border=\"1\" class=\"dataframe\">\n",
       "  <thead>\n",
       "    <tr style=\"text-align: right;\">\n",
       "      <th>engine_capacity_cc</th>\n",
       "      <th>1001-1300 cc</th>\n",
       "      <th>1301-1400 cc</th>\n",
       "      <th>1401-1500 cc</th>\n",
       "      <th>1501-1600 cc</th>\n",
       "      <th>1601-2000 cc</th>\n",
       "      <th>2001-2400 cc</th>\n",
       "      <th>901-1000 cc</th>\n",
       "      <th>&gt;2400 cc</th>\n",
       "      <th>Up to 900 cc</th>\n",
       "    </tr>\n",
       "    <tr>\n",
       "      <th>type_of_fuel</th>\n",
       "      <th></th>\n",
       "      <th></th>\n",
       "      <th></th>\n",
       "      <th></th>\n",
       "      <th></th>\n",
       "      <th></th>\n",
       "      <th></th>\n",
       "      <th></th>\n",
       "      <th></th>\n",
       "    </tr>\n",
       "  </thead>\n",
       "  <tbody>\n",
       "    <tr>\n",
       "      <th>Diesel</th>\n",
       "      <td>104</td>\n",
       "      <td>686</td>\n",
       "      <td>1504</td>\n",
       "      <td>2855</td>\n",
       "      <td>3715</td>\n",
       "      <td>693</td>\n",
       "      <td>0</td>\n",
       "      <td>167</td>\n",
       "      <td>0</td>\n",
       "    </tr>\n",
       "    <tr>\n",
       "      <th>Ethanol and petrol</th>\n",
       "      <td>504</td>\n",
       "      <td>0</td>\n",
       "      <td>0</td>\n",
       "      <td>8</td>\n",
       "      <td>11</td>\n",
       "      <td>0</td>\n",
       "      <td>0</td>\n",
       "      <td>0</td>\n",
       "      <td>0</td>\n",
       "    </tr>\n",
       "    <tr>\n",
       "      <th>Other fuel types</th>\n",
       "      <td>0</td>\n",
       "      <td>0</td>\n",
       "      <td>0</td>\n",
       "      <td>0</td>\n",
       "      <td>0</td>\n",
       "      <td>0</td>\n",
       "      <td>0</td>\n",
       "      <td>0</td>\n",
       "      <td>1</td>\n",
       "    </tr>\n",
       "    <tr>\n",
       "      <th>Petrol</th>\n",
       "      <td>2618</td>\n",
       "      <td>1847</td>\n",
       "      <td>134</td>\n",
       "      <td>739</td>\n",
       "      <td>254</td>\n",
       "      <td>1</td>\n",
       "      <td>562</td>\n",
       "      <td>20</td>\n",
       "      <td>0</td>\n",
       "    </tr>\n",
       "    <tr>\n",
       "      <th>Petrol and electric hybrid</th>\n",
       "      <td>0</td>\n",
       "      <td>41</td>\n",
       "      <td>0</td>\n",
       "      <td>0</td>\n",
       "      <td>55</td>\n",
       "      <td>0</td>\n",
       "      <td>0</td>\n",
       "      <td>34</td>\n",
       "      <td>0</td>\n",
       "    </tr>\n",
       "  </tbody>\n",
       "</table>\n",
       "</div>"
      ],
      "text/plain": [
       "engine_capacity_cc          1001-1300 cc  1301-1400 cc  1401-1500 cc  \\\n",
       "type_of_fuel                                                           \n",
       "Diesel                               104           686          1504   \n",
       "Ethanol and petrol                   504             0             0   \n",
       "Other fuel types                       0             0             0   \n",
       "Petrol                              2618          1847           134   \n",
       "Petrol and electric hybrid             0            41             0   \n",
       "\n",
       "engine_capacity_cc          1501-1600 cc  1601-2000 cc  2001-2400 cc  \\\n",
       "type_of_fuel                                                           \n",
       "Diesel                              2855          3715           693   \n",
       "Ethanol and petrol                     8            11             0   \n",
       "Other fuel types                       0             0             0   \n",
       "Petrol                               739           254             1   \n",
       "Petrol and electric hybrid             0            55             0   \n",
       "\n",
       "engine_capacity_cc          901-1000 cc  >2400 cc  Up to 900 cc  \n",
       "type_of_fuel                                                     \n",
       "Diesel                                0       167             0  \n",
       "Ethanol and petrol                    0         0             0  \n",
       "Other fuel types                      0         0             1  \n",
       "Petrol                              562        20             0  \n",
       "Petrol and electric hybrid            0        34             0  "
      ]
     },
     "execution_count": 142,
     "metadata": {},
     "output_type": "execute_result"
    }
   ],
   "source": [
    "# Contingency table\n",
    "ft_ec_tab = pd.crosstab(index=regs['type_of_fuel'], columns=regs['engine_capacity_cc'], values=regs['reg_count'], aggfunc=np.sum)\n",
    "ft_ec_tab"
   ]
  },
  {
   "cell_type": "code",
   "execution_count": 147,
   "metadata": {},
   "outputs": [
    {
     "data": {
      "text/html": [
       "<div>\n",
       "<style scoped>\n",
       "    .dataframe tbody tr th:only-of-type {\n",
       "        vertical-align: middle;\n",
       "    }\n",
       "\n",
       "    .dataframe tbody tr th {\n",
       "        vertical-align: top;\n",
       "    }\n",
       "\n",
       "    .dataframe thead th {\n",
       "        text-align: right;\n",
       "    }\n",
       "</style>\n",
       "<table border=\"1\" class=\"dataframe\">\n",
       "  <thead>\n",
       "    <tr style=\"text-align: right;\">\n",
       "      <th>engine_capacity_cc</th>\n",
       "      <th>1001-1300 cc</th>\n",
       "      <th>1301-1400 cc</th>\n",
       "      <th>1401-1500 cc</th>\n",
       "      <th>1501-1600 cc</th>\n",
       "      <th>1601-2000 cc</th>\n",
       "    </tr>\n",
       "    <tr>\n",
       "      <th>type_of_fuel</th>\n",
       "      <th></th>\n",
       "      <th></th>\n",
       "      <th></th>\n",
       "      <th></th>\n",
       "      <th></th>\n",
       "    </tr>\n",
       "  </thead>\n",
       "  <tbody>\n",
       "    <tr>\n",
       "      <th>Diesel</th>\n",
       "      <td>104</td>\n",
       "      <td>686</td>\n",
       "      <td>1504</td>\n",
       "      <td>2855</td>\n",
       "      <td>3715</td>\n",
       "    </tr>\n",
       "    <tr>\n",
       "      <th>Petrol</th>\n",
       "      <td>2618</td>\n",
       "      <td>1847</td>\n",
       "      <td>134</td>\n",
       "      <td>739</td>\n",
       "      <td>254</td>\n",
       "    </tr>\n",
       "  </tbody>\n",
       "</table>\n",
       "</div>"
      ],
      "text/plain": [
       "engine_capacity_cc  1001-1300 cc  1301-1400 cc  1401-1500 cc  1501-1600 cc  \\\n",
       "type_of_fuel                                                                 \n",
       "Diesel                       104           686          1504          2855   \n",
       "Petrol                      2618          1847           134           739   \n",
       "\n",
       "engine_capacity_cc  1601-2000 cc  \n",
       "type_of_fuel                      \n",
       "Diesel                      3715  \n",
       "Petrol                       254  "
      ]
     },
     "execution_count": 147,
     "metadata": {},
     "output_type": "execute_result"
    }
   ],
   "source": [
    "# Sub-table\n",
    "ft_ec_subtab = ft_ec_tab.loc[['Diesel', 'Petrol']].iloc[:, :5]\n",
    "ft_ec_subtab"
   ]
  },
  {
   "cell_type": "code",
   "execution_count": 152,
   "metadata": {},
   "outputs": [
    {
     "name": "stdout",
     "output_type": "stream",
     "text": [
      "chi-squared 7929.356391301598\n",
      "p = 0.0\n",
      "degrees of freedom = 4\n",
      "expected value table: \n",
      "[[1669.05146652 1553.16214721 1004.37410072 2203.73657997 2433.67570559]\n",
      " [1052.94853348  979.83785279  633.62589928 1390.26342003 1535.32429441]]\n"
     ]
    }
   ],
   "source": [
    "# Chi-squared test\n",
    "chisq, p, dof, evs = sps.chi2_contingency(ft_ec_subtab)\n",
    "print(\"chi-squared \" + str(chisq))\n",
    "print(\"p = \" + str(p))\n",
    "print(\"degrees of freedom = \" + str(dof))\n",
    "print(\"expected value table: \")\n",
    "print(evs)"
   ]
  },
  {
   "cell_type": "markdown",
   "metadata": {},
   "source": [
    "A p-value so close to 0 that it is approximated as 0 by the chi-square function indicates that with a level significance of almost 0 we can conclude that there is a relationship between engine capacity and fuel type."
   ]
  }
 ],
 "metadata": {
  "kernelspec": {
   "display_name": "Python 3",
   "language": "python",
   "name": "python3"
  },
  "language_info": {
   "codemirror_mode": {
    "name": "ipython",
    "version": 3
   },
   "file_extension": ".py",
   "mimetype": "text/x-python",
   "name": "python",
   "nbconvert_exporter": "python",
   "pygments_lexer": "ipython3",
   "version": "3.6.9"
  }
 },
 "nbformat": 4,
 "nbformat_minor": 2
}
