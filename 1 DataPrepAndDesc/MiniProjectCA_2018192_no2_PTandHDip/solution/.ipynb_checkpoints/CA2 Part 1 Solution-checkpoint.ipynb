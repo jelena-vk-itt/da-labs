{
 "cells": [
  {
   "cell_type": "markdown",
   "metadata": {},
   "source": [
    "# Data Preparation"
   ]
  },
  {
   "cell_type": "markdown",
   "metadata": {},
   "source": [
    "## Import the data"
   ]
  },
  {
   "cell_type": "code",
   "execution_count": 7,
   "metadata": {
    "collapsed": false,
    "scrolled": true
   },
   "outputs": [],
   "source": [
    "import pandas as pd\n",
    "saps_df = pd.read_csv(\"SAPS2016_SA2017.csv\").fillna(0)\n",
    "#saps_df"
   ]
  },
  {
   "cell_type": "code",
   "execution_count": 8,
   "metadata": {
    "collapsed": false
   },
   "outputs": [],
   "source": [
    "vac_df = pd.read_csv(\"Vacant_Housing_Data_2016.csv\", encoding=\"latin_1\").fillna(0)\n",
    "#vac_df"
   ]
  },
  {
   "cell_type": "markdown",
   "metadata": {},
   "source": [
    "## Join data frames"
   ]
  },
  {
   "cell_type": "code",
   "execution_count": 9,
   "metadata": {
    "collapsed": true,
    "scrolled": false
   },
   "outputs": [],
   "source": [
    "sav_df = pd.merge(saps_df.rename(columns={'GUID' : 'SA_2017_GUID'}), vac_df, on='SA_2017_GUID')\n",
    "#sav_df"
   ]
  },
  {
   "cell_type": "markdown",
   "metadata": {},
   "source": [
    "## Create the 'average male age' and 'average female age' columns"
   ]
  },
  {
   "cell_type": "code",
   "execution_count": 22,
   "metadata": {
    "collapsed": false
   },
   "outputs": [
    {
     "data": {
      "text/plain": [
       "array([ 34.90776699,  38.92528736,  34.69473684, ...,  36.8828125 ,\n",
       "        32.94805195,  35.79591837])"
      ]
     },
     "execution_count": 22,
     "metadata": {},
     "output_type": "execute_result"
    }
   ],
   "source": [
    "import numpy as np\n",
    "# array containing ages for age categories (0 - 19 and then the 5-year ranges up to over-85)\n",
    "ages = np.concatenate([np.array(range(20)), np.array(range(14)) * 5 + 22]).astype('float')\n",
    "numAges = len(ages)\n",
    "# calculating the average ages\n",
    "sav_df['avg_age_male'] = np.matmul(sav_df[sav_df.columns[range(3, 3 + numAges)]], ages) / sav_df[sav_df.columns[3 + numAges]]\n",
    "    \n",
    "    #ages_start_index += len(ages) + 1\n",
    "avg_ages_npa"
   ]
  },
  {
   "cell_type": "markdown",
   "metadata": {},
   "source": [
    "## Create the 'average commuting time' column"
   ]
  },
  {
   "cell_type": "code",
   "execution_count": 56,
   "metadata": {
    "collapsed": true
   },
   "outputs": [],
   "source": [
    "# array containing ages for age categories (0 - 19 and then the 5-year ranges up to over-85)\n",
    "commute_times = np.array([7.5, 22.5, 37.5, 52.5, 75, 120])\n",
    "# calculating the average ages\n",
    "commute_times_start_index = 691\n",
    "avg_commute_times_npa = np.array([0.0] * sav_df.shape[0])\n",
    "for commute_times_index_offset in range(len(commute_times)) :\n",
    "    avg_commute_times_npa += sav_df[sav_df.columns[commute_times_start_index + commute_times_index_offset]] * commute_times[commute_times_index_offset] \n",
    "# divide by total numbers minus 'not stated' numbers\n",
    "avg_commute_times_npa /= (sav_df[sav_df.columns[commute_times_start_index + len(commute_times) + 1]] - sav_df[sav_df.columns[commute_times_start_index + len(commute_times)]])\n",
    "sav_df['avg_commute_time'] = avg_commute_times_npa\n",
    "# sav_df"
   ]
  },
  {
   "cell_type": "markdown",
   "metadata": {},
   "source": [
    "## Get proportion of dwellings that are flats or apartments"
   ]
  },
  {
   "cell_type": "code",
   "execution_count": 44,
   "metadata": {
    "collapsed": false
   },
   "outputs": [
    {
     "name": "stdout",
     "output_type": "stream",
     "text": [
      "False    15431\n",
      "True      3210\n",
      "Name: prop_flats_or_apts_high, dtype: int64\n"
     ]
    }
   ],
   "source": [
    "nums_flats_or_apts = sav_df['T6_1_FA_H'] + sav_df['T6_1_BS_H']\n",
    "sav_df['prop_flats_or_apartments'] = nums_flats_or_apts / sav_df['T6_1_TH']\n",
    "sav_df['prop_flats_or_apts_high'] = sav_df['prop_flats_or_apartments'] > 0.2\n",
    "print(sav_df['prop_flats_or_apts_high'].value_counts())\n",
    "# sav_df"
   ]
  },
  {
   "cell_type": "markdown",
   "metadata": {},
   "source": [
    "## Get the number of vacant dwellings that are for sale or for rent"
   ]
  },
  {
   "cell_type": "code",
   "execution_count": 45,
   "metadata": {
    "collapsed": true
   },
   "outputs": [],
   "source": [
    "sav_df['vac_sal_or_ren'] = sav_df['VT2_TOT_SAL'] + sav_df['VT2_TOT_REN']\n",
    "sav_df['prop_sal_or_ren'] = sav_df['vac_sal_or_ren'] / sav_df ['T6_1_TH']"
   ]
  },
  {
   "cell_type": "markdown",
   "metadata": {},
   "source": [
    "# Analysis"
   ]
  },
  {
   "cell_type": "code",
   "execution_count": 46,
   "metadata": {
    "collapsed": false
   },
   "outputs": [
    {
     "data": {
      "text/plain": [
       "Index(['avg_age_male', 'avg_age_female', 'avg_commute_time',\n",
       "       'prop_flats_or_apartments', 'prop_flats_or_apts_high', 'vac_sal_or_ren',\n",
       "       'prop_sal_or_ren'],\n",
       "      dtype='object')"
      ]
     },
     "execution_count": 46,
     "metadata": {},
     "output_type": "execute_result"
    }
   ],
   "source": [
    "# import scipy\n",
    "import scipy.stats as ss\n",
    "# list the relevant columns\n",
    "sav_df.columns[-7:]"
   ]
  },
  {
   "cell_type": "markdown",
   "metadata": {},
   "source": [
    "## Correlation between male average age and vacancy"
   ]
  },
  {
   "cell_type": "markdown",
   "metadata": {},
   "source": [
    "### counts"
   ]
  },
  {
   "cell_type": "code",
   "execution_count": 47,
   "metadata": {
    "collapsed": false
   },
   "outputs": [
    {
     "name": "stdout",
     "output_type": "stream",
     "text": [
      "r = -0.007702995936952586\n",
      "p = 0.2929597539925381\n"
     ]
    }
   ],
   "source": [
    "r, p = ss.pearsonr(sav_df['avg_age_male'], sav_df['vac_sal_or_ren'])\n",
    "print(\"r = \" + str(r))\n",
    "print(\"p = \" + str(p))"
   ]
  },
  {
   "cell_type": "markdown",
   "metadata": {},
   "source": [
    "### proportions"
   ]
  },
  {
   "cell_type": "code",
   "execution_count": 48,
   "metadata": {
    "collapsed": false
   },
   "outputs": [
    {
     "name": "stdout",
     "output_type": "stream",
     "text": [
      "r = 0.02092199121777958\n",
      "p = 0.0042814656088646826\n"
     ]
    }
   ],
   "source": [
    "r, p = ss.pearsonr(sav_df['avg_age_male'], sav_df['prop_sal_or_ren'])\n",
    "print(\"r = \" + str(r))\n",
    "print(\"p = \" + str(p))"
   ]
  },
  {
   "cell_type": "markdown",
   "metadata": {},
   "source": [
    "## Correlation between female average age and vacancy"
   ]
  },
  {
   "cell_type": "markdown",
   "metadata": {},
   "source": [
    "### counts"
   ]
  },
  {
   "cell_type": "code",
   "execution_count": 49,
   "metadata": {
    "collapsed": false
   },
   "outputs": [
    {
     "name": "stdout",
     "output_type": "stream",
     "text": [
      "r = -0.01648850611647644\n",
      "p = 0.024372141058710228\n"
     ]
    }
   ],
   "source": [
    "r, p = ss.pearsonr(sav_df['avg_age_female'], sav_df['vac_sal_or_ren'])\n",
    "print(\"r = \" + str(r))\n",
    "print(\"p = \" + str(p))"
   ]
  },
  {
   "cell_type": "markdown",
   "metadata": {},
   "source": [
    "### proportions"
   ]
  },
  {
   "cell_type": "code",
   "execution_count": 50,
   "metadata": {
    "collapsed": false
   },
   "outputs": [
    {
     "name": "stdout",
     "output_type": "stream",
     "text": [
      "r = 0.008096721807610915\n",
      "p = 0.2689837080796398\n"
     ]
    }
   ],
   "source": [
    "r, p = ss.pearsonr(sav_df['avg_age_female'], sav_df['prop_sal_or_ren'])\n",
    "print(\"r = \" + str(r))\n",
    "print(\"p = \" + str(p))"
   ]
  },
  {
   "cell_type": "markdown",
   "metadata": {},
   "source": [
    "## Correlation between average commute time and vacancy"
   ]
  },
  {
   "cell_type": "markdown",
   "metadata": {},
   "source": [
    "### counts"
   ]
  },
  {
   "cell_type": "code",
   "execution_count": 51,
   "metadata": {
    "collapsed": false
   },
   "outputs": [
    {
     "name": "stdout",
     "output_type": "stream",
     "text": [
      "r = 0.0046053603930058815\n",
      "p = 0.5295189898857963\n"
     ]
    }
   ],
   "source": [
    "r, p = ss.pearsonr(sav_df['avg_commute_time'], sav_df['vac_sal_or_ren'])\n",
    "print(\"r = \" + str(r))\n",
    "print(\"p = \" + str(p))"
   ]
  },
  {
   "cell_type": "markdown",
   "metadata": {},
   "source": [
    "### proportions"
   ]
  },
  {
   "cell_type": "code",
   "execution_count": 52,
   "metadata": {
    "collapsed": false
   },
   "outputs": [
    {
     "name": "stdout",
     "output_type": "stream",
     "text": [
      "r = -0.019206327055532067\n",
      "p = 0.008732693591177695\n"
     ]
    }
   ],
   "source": [
    "r, p = ss.pearsonr(sav_df['avg_commute_time'], sav_df['prop_sal_or_ren'])\n",
    "print(\"r = \" + str(r))\n",
    "print(\"p = \" + str(p))"
   ]
  },
  {
   "cell_type": "markdown",
   "metadata": {},
   "source": [
    "## Correlation between proportion of dwellings that are flats or apartments and vacancy"
   ]
  },
  {
   "cell_type": "markdown",
   "metadata": {},
   "source": [
    "### counts"
   ]
  },
  {
   "cell_type": "code",
   "execution_count": 53,
   "metadata": {
    "collapsed": false
   },
   "outputs": [
    {
     "name": "stdout",
     "output_type": "stream",
     "text": [
      "r = 0.2676496044904768\n",
      "p = 3.076902697922047e-303\n"
     ]
    }
   ],
   "source": [
    "r, p = ss.pearsonr(sav_df['prop_flats_or_apartments'], sav_df['vac_sal_or_ren'])\n",
    "print(\"r = \" + str(r))\n",
    "print(\"p = \" + str(p))"
   ]
  },
  {
   "cell_type": "markdown",
   "metadata": {},
   "source": [
    "### proportions"
   ]
  },
  {
   "cell_type": "code",
   "execution_count": 54,
   "metadata": {
    "collapsed": false
   },
   "outputs": [
    {
     "name": "stdout",
     "output_type": "stream",
     "text": [
      "r = 0.25042638759365765\n",
      "p = 1.708867401943614e-264\n"
     ]
    }
   ],
   "source": [
    "r, p = ss.pearsonr(sav_df['prop_flats_or_apartments'], sav_df['prop_sal_or_ren'])\n",
    "print(\"r = \" + str(r))\n",
    "print(\"p = \" + str(p))"
   ]
  },
  {
   "cell_type": "markdown",
   "metadata": {},
   "source": [
    "## Correlation between proportion of dwellings that are flats or apartments (as boolean for high/low) and vacancy"
   ]
  },
  {
   "cell_type": "markdown",
   "metadata": {},
   "source": [
    "### counts"
   ]
  },
  {
   "cell_type": "code",
   "execution_count": 35,
   "metadata": {
    "collapsed": false
   },
   "outputs": [
    {
     "name": "stdout",
     "output_type": "stream",
     "text": [
      "f-statistic: 1342.360232045086\n",
      "p-value: 7.605494146345699e-284\n"
     ]
    }
   ],
   "source": [
    "f, p = ss.f_oneway(sav_df['vac_sal_or_ren'][sav_df['prop_flats_or_apts_high']], sav_df['vac_sal_or_ren'][np.logical_not(sav_df['prop_flats_or_apts_high'])])\n",
    "print(\"f-statistic: \" + str(f) + \"\\np-value: \" + str(p))"
   ]
  },
  {
   "cell_type": "markdown",
   "metadata": {},
   "source": [
    "### proportions"
   ]
  },
  {
   "cell_type": "code",
   "execution_count": 36,
   "metadata": {
    "collapsed": false
   },
   "outputs": [
    {
     "name": "stdout",
     "output_type": "stream",
     "text": [
      "f-statistic: 1148.0260664825123\n",
      "p-value: 2.949491879534679e-244\n"
     ]
    }
   ],
   "source": [
    "f, p = ss.f_oneway(sav_df['prop_sal_or_ren'][sav_df['prop_flats_or_apts_high']], sav_df['prop_sal_or_ren'][np.logical_not(sav_df['prop_flats_or_apts_high'])])\n",
    "print(\"f-statistic: \" + str(f) + \"\\np-value: \" + str(p))"
   ]
  },
  {
   "cell_type": "markdown",
   "metadata": {},
   "source": [
    "## Connection between vacancy and type of dwelling"
   ]
  },
  {
   "cell_type": "code",
   "execution_count": 37,
   "metadata": {
    "collapsed": false
   },
   "outputs": [
    {
     "data": {
      "text/html": [
       "<div>\n",
       "<style scoped>\n",
       "    .dataframe tbody tr th:only-of-type {\n",
       "        vertical-align: middle;\n",
       "    }\n",
       "\n",
       "    .dataframe tbody tr th {\n",
       "        vertical-align: top;\n",
       "    }\n",
       "\n",
       "    .dataframe thead th {\n",
       "        text-align: right;\n",
       "    }\n",
       "</style>\n",
       "<table border=\"1\" class=\"dataframe\">\n",
       "  <thead>\n",
       "    <tr style=\"text-align: right;\">\n",
       "      <th></th>\n",
       "      <th>occupied</th>\n",
       "      <th>vacant</th>\n",
       "    </tr>\n",
       "  </thead>\n",
       "  <tbody>\n",
       "    <tr>\n",
       "      <th>flat_apt_bedsit</th>\n",
       "      <td>160953.0</td>\n",
       "      <td>43192.0</td>\n",
       "    </tr>\n",
       "    <tr>\n",
       "      <th>other_dwelling</th>\n",
       "      <td>1358024.0</td>\n",
       "      <td>140120.0</td>\n",
       "    </tr>\n",
       "  </tbody>\n",
       "</table>\n",
       "</div>"
      ],
      "text/plain": [
       "                  occupied    vacant\n",
       "flat_apt_bedsit   160953.0   43192.0\n",
       "other_dwelling   1358024.0  140120.0"
      ]
     },
     "execution_count": 37,
     "metadata": {},
     "output_type": "execute_result"
    }
   ],
   "source": [
    "# table preparation\n",
    "apt_flat_bedsit_count = sav_df['T6_1_FA_H'].sum() + sav_df['T6_1_BS_H'].sum()\n",
    "other_dwelling_count = sav_df['T6_1_TH'].sum() - apt_flat_bedsit_count\n",
    "vacant_apt_flat_bedsit_count = sav_df['VT1_TOT_PUR'].sum() + sav_df['VT1_TOT_CON'].sum() + sav_df['VT1_TOT_BED'].sum()\n",
    "vacant_other_dwelling_count = sav_df['VT1_TOT_TOT'].sum() - vacant_apt_flat_bedsit_count\n",
    "occupied_apt_flat_bedsit_count = apt_flat_bedsit_count - vacant_apt_flat_bedsit_count\n",
    "occupied_other_dwelling_count = other_dwelling_count - vacant_other_dwelling_count\n",
    "\n",
    "apt_flat_vacant_ct = pd.DataFrame({'occupied': [occupied_apt_flat_bedsit_count, occupied_other_dwelling_count], 'vacant': [vacant_apt_flat_bedsit_count, vacant_other_dwelling_count]})\n",
    "apt_flat_vacant_ct.index = ['flat_apt_bedsit', 'other_dwelling']\n",
    "apt_flat_vacant_ct"
   ]
  },
  {
   "cell_type": "code",
   "execution_count": 38,
   "metadata": {
    "collapsed": false
   },
   "outputs": [
    {
     "name": "stdout",
     "output_type": "stream",
     "text": [
      "chi-squared 26053.49060834214\n",
      "p = 0.0\n",
      "degrees of freedom = 1\n",
      "expected value table: \n",
      "[[ 182161.52466767   21983.47533233]\n",
      " [1336815.47533233  161328.52466767]]\n"
     ]
    }
   ],
   "source": [
    "# apply test\n",
    "chisq, p, dof, evs = ss.chi2_contingency(apt_flat_vacant_ct)\n",
    "print(\"chi-squared \" + str(chisq))\n",
    "print(\"p = \" + str(p))\n",
    "print(\"degrees of freedom = \" + str(dof))\n",
    "print(\"expected value table: \")\n",
    "print(evs)"
   ]
  },
  {
   "cell_type": "markdown",
   "metadata": {},
   "source": [
    "## Linear regression"
   ]
  },
  {
   "cell_type": "code",
   "execution_count": 39,
   "metadata": {
    "collapsed": false
   },
   "outputs": [
    {
     "name": "stdout",
     "output_type": "stream",
     "text": [
      "                            OLS Regression Results                            \n",
      "==============================================================================\n",
      "Dep. Variable:        prop_sal_or_ren   R-squared:                       0.261\n",
      "Model:                            OLS   Adj. R-squared:                  0.261\n",
      "Method:                 Least Squares   F-statistic:                     1645.\n",
      "Date:                Sun, 12 May 2019   Prob (F-statistic):               0.00\n",
      "Time:                        19:10:09   Log-Likelihood:                 42069.\n",
      "No. Observations:               18641   AIC:                        -8.413e+04\n",
      "Df Residuals:                   18637   BIC:                        -8.410e+04\n",
      "Df Model:                           4                                         \n",
      "Covariance Type:            nonrobust                                         \n",
      "============================================================================================\n",
      "                               coef    std err          t      P>|t|      [0.025      0.975]\n",
      "--------------------------------------------------------------------------------------------\n",
      "avg_age_male                 0.0003   6.57e-05      3.974      0.000       0.000       0.000\n",
      "avg_age_female               0.0001   6.21e-05      1.890      0.059   -4.33e-06       0.000\n",
      "avg_commute_time            -0.0002    2.7e-05     -6.212      0.000      -0.000      -0.000\n",
      "prop_flats_or_apartments     0.0291      0.001     38.216      0.000       0.028       0.031\n",
      "==============================================================================\n",
      "Omnibus:                    25000.366   Durbin-Watson:                   1.782\n",
      "Prob(Omnibus):                  0.000   Jarque-Bera (JB):         10241864.639\n",
      "Skew:                           7.448   Prob(JB):                         0.00\n",
      "Kurtosis:                     116.861   Cond. No.                         243.\n",
      "==============================================================================\n",
      "\n",
      "Warnings:\n",
      "[1] Standard Errors assume that the covariance matrix of the errors is correctly specified.\n"
     ]
    }
   ],
   "source": [
    "import statsmodels.api as sm\n",
    "lm_indep_sav_df = sav_df[['avg_age_male', 'avg_age_female', 'avg_commute_time', 'prop_flats_or_apartments']]\n",
    "lm_dep_sav_seq = sav_df[['prop_sal_or_ren']]\n",
    "\n",
    "sm.add_constant(lm_indep_sav_df)\n",
    "model = sm.OLS(lm_dep_sav_seq, lm_indep_sav_df)\n",
    "results = model.fit()\n",
    "print(results.summary())"
   ]
  }
 ],
 "metadata": {
  "kernelspec": {
   "display_name": "Python 3",
   "language": "python",
   "name": "python3"
  },
  "language_info": {
   "codemirror_mode": {
    "name": "ipython",
    "version": 3
   },
   "file_extension": ".py",
   "mimetype": "text/x-python",
   "name": "python",
   "nbconvert_exporter": "python",
   "pygments_lexer": "ipython3",
   "version": "3.6.0"
  }
 },
 "nbformat": 4,
 "nbformat_minor": 2
}
