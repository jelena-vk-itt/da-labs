{
 "cells": [
  {
   "cell_type": "markdown",
   "metadata": {},
   "source": [
    "# Data Preparation"
   ]
  },
  {
   "cell_type": "markdown",
   "metadata": {},
   "source": [
    "## Import the data"
   ]
  },
  {
   "cell_type": "code",
   "execution_count": 18,
   "metadata": {
    "scrolled": true
   },
   "outputs": [],
   "source": [
    "import pandas as pd\n",
    "saps_df = pd.read_csv(\"SAPS2016_SA2017.csv\").fillna(0)\n",
    "#saps_df"
   ]
  },
  {
   "cell_type": "code",
   "execution_count": 19,
   "metadata": {},
   "outputs": [],
   "source": [
    "vac_df = pd.read_csv(\"Vacant_Housing_Data_2016.csv\", encoding=\"latin_1\").fillna(0)\n",
    "#vac_df"
   ]
  },
  {
   "cell_type": "markdown",
   "metadata": {},
   "source": [
    "## Join data frames"
   ]
  },
  {
   "cell_type": "code",
   "execution_count": 20,
   "metadata": {
    "scrolled": false
   },
   "outputs": [],
   "source": [
    "sav_df = pd.merge(saps_df.rename(columns={'GUID' : 'SA_2017_GUID'}), vac_df, on='SA_2017_GUID')\n",
    "#sav_df"
   ]
  },
  {
   "cell_type": "markdown",
   "metadata": {},
   "source": [
    "## Function for calculating the three averages"
   ]
  },
  {
   "cell_type": "code",
   "execution_count": 58,
   "metadata": {},
   "outputs": [],
   "source": [
    "def calc_averages (df, startIndex, multipliers, dividers) :\n",
    "    return df.iloc[:, startIndex:(startIndex + len(multipliers))].dot(multipliers) / dividers"
   ]
  },
  {
   "cell_type": "markdown",
   "metadata": {},
   "source": [
    "## Create the 'average male age' and 'average female age' columns"
   ]
  },
  {
   "cell_type": "code",
   "execution_count": 61,
   "metadata": {},
   "outputs": [],
   "source": [
    "import numpy as np\n",
    "# array containing ages for age categories (0 - 19 and then the 5-year ranges up to over-85)\n",
    "ages = np.concatenate([np.array(range(20)), np.array(range(14)) * 5 + 22]).astype('float')\n",
    "# calculating the average ages\n",
    "sav_df['avg_age_male'] = calc_averages(sav_df, 3, ages, sav_df.iloc[:, (3 + len(ages))])\n",
    "sav_df['avg_age_female'] = calc_averages(sav_df, 4 + len(ages), ages, sav_df.iloc[:, (4 + 2 * len(ages))])\n",
    "#sav_df\n"
   ]
  },
  {
   "cell_type": "markdown",
   "metadata": {},
   "source": [
    "## Create the 'average commuting time' column"
   ]
  },
  {
   "cell_type": "code",
   "execution_count": 62,
   "metadata": {},
   "outputs": [],
   "source": [
    "# array containing ages for age categories (0 - 19 and then the 5-year ranges up to over-85)\n",
    "commute_times = np.array([7.5, 22.5, 37.5, 52.5, 75, 120])\n",
    "# calculating the average commute time\n",
    "startI = 691\n",
    "sav_df['avg_commute_time'] = calc_averages(sav_df, startI, commute_times, sav_df[sav_df.columns[startI + len(commute_times) + 1]] - sav_df[sav_df.columns[startI + len(commute_times)]])\n",
    "# sav_df"
   ]
  },
  {
   "cell_type": "markdown",
   "metadata": {},
   "source": [
    "## Get proportion of dwellings that are flats or apartments"
   ]
  },
  {
   "cell_type": "code",
   "execution_count": 63,
   "metadata": {},
   "outputs": [
    {
     "name": "stdout",
     "output_type": "stream",
     "text": [
      "False    15431\n",
      "True      3210\n",
      "Name: prop_flats_or_apts_high, dtype: int64\n"
     ]
    }
   ],
   "source": [
    "nums_flats_or_apts = sav_df['T6_1_FA_H'] + sav_df['T6_1_BS_H']\n",
    "sav_df['prop_flats_or_apartments'] = nums_flats_or_apts / sav_df['T6_1_TH']\n",
    "sav_df['prop_flats_or_apts_high'] = sav_df['prop_flats_or_apartments'] > 0.2\n",
    "print(sav_df['prop_flats_or_apts_high'].value_counts())\n",
    "# sav_df"
   ]
  },
  {
   "cell_type": "markdown",
   "metadata": {},
   "source": [
    "## Get the number of vacant dwellings that are for sale or for rent"
   ]
  },
  {
   "cell_type": "code",
   "execution_count": 64,
   "metadata": {},
   "outputs": [],
   "source": [
    "sav_df['vac_sal_or_ren'] = sav_df['VT2_TOT_SAL'] + sav_df['VT2_TOT_REN']\n",
    "sav_df['prop_sal_or_ren'] = sav_df['vac_sal_or_ren'] / sav_df ['T6_1_TH']"
   ]
  },
  {
   "cell_type": "markdown",
   "metadata": {},
   "source": [
    "# Analysis"
   ]
  },
  {
   "cell_type": "code",
   "execution_count": 65,
   "metadata": {},
   "outputs": [
    {
     "data": {
      "text/plain": [
       "Index(['avg_age_male', 'avg_age_female', 'avg_commute_time',\n",
       "       'prop_flats_or_apartments', 'prop_flats_or_apts_high', 'vac_sal_or_ren',\n",
       "       'prop_sal_or_ren'],\n",
       "      dtype='object')"
      ]
     },
     "execution_count": 65,
     "metadata": {},
     "output_type": "execute_result"
    }
   ],
   "source": [
    "# import scipy\n",
    "import scipy.stats as ss\n",
    "# list the relevant columns\n",
    "sav_df.columns[-7:]"
   ]
  },
  {
   "cell_type": "markdown",
   "metadata": {},
   "source": [
    "## Correlation between male average age and vacancy"
   ]
  },
  {
   "cell_type": "markdown",
   "metadata": {},
   "source": [
    "### counts"
   ]
  },
  {
   "cell_type": "code",
   "execution_count": 66,
   "metadata": {},
   "outputs": [
    {
     "name": "stdout",
     "output_type": "stream",
     "text": [
      "r = -0.007702995936952586\n",
      "p = 0.2929597539925381\n"
     ]
    }
   ],
   "source": [
    "r, p = ss.pearsonr(sav_df['avg_age_male'], sav_df['vac_sal_or_ren'])\n",
    "print(\"r = \" + str(r))\n",
    "print(\"p = \" + str(p))"
   ]
  },
  {
   "cell_type": "markdown",
   "metadata": {},
   "source": [
    "### proportions"
   ]
  },
  {
   "cell_type": "code",
   "execution_count": 67,
   "metadata": {},
   "outputs": [
    {
     "name": "stdout",
     "output_type": "stream",
     "text": [
      "r = 0.02092199121777958\n",
      "p = 0.0042814656088646826\n"
     ]
    }
   ],
   "source": [
    "r, p = ss.pearsonr(sav_df['avg_age_male'], sav_df['prop_sal_or_ren'])\n",
    "print(\"r = \" + str(r))\n",
    "print(\"p = \" + str(p))"
   ]
  },
  {
   "cell_type": "markdown",
   "metadata": {},
   "source": [
    "## Correlation between female average age and vacancy"
   ]
  },
  {
   "cell_type": "markdown",
   "metadata": {},
   "source": [
    "### counts"
   ]
  },
  {
   "cell_type": "code",
   "execution_count": 68,
   "metadata": {},
   "outputs": [
    {
     "name": "stdout",
     "output_type": "stream",
     "text": [
      "r = -0.01648850611647644\n",
      "p = 0.024372141058710228\n"
     ]
    }
   ],
   "source": [
    "r, p = ss.pearsonr(sav_df['avg_age_female'], sav_df['vac_sal_or_ren'])\n",
    "print(\"r = \" + str(r))\n",
    "print(\"p = \" + str(p))"
   ]
  },
  {
   "cell_type": "markdown",
   "metadata": {},
   "source": [
    "### proportions"
   ]
  },
  {
   "cell_type": "code",
   "execution_count": 69,
   "metadata": {},
   "outputs": [
    {
     "name": "stdout",
     "output_type": "stream",
     "text": [
      "r = 0.008096721807610915\n",
      "p = 0.2689837080796398\n"
     ]
    }
   ],
   "source": [
    "r, p = ss.pearsonr(sav_df['avg_age_female'], sav_df['prop_sal_or_ren'])\n",
    "print(\"r = \" + str(r))\n",
    "print(\"p = \" + str(p))"
   ]
  },
  {
   "cell_type": "markdown",
   "metadata": {},
   "source": [
    "## Correlation between average commute time and vacancy"
   ]
  },
  {
   "cell_type": "markdown",
   "metadata": {},
   "source": [
    "### counts"
   ]
  },
  {
   "cell_type": "code",
   "execution_count": 70,
   "metadata": {},
   "outputs": [
    {
     "name": "stdout",
     "output_type": "stream",
     "text": [
      "r = 0.0046053603930058815\n",
      "p = 0.5295189898857963\n"
     ]
    }
   ],
   "source": [
    "r, p = ss.pearsonr(sav_df['avg_commute_time'], sav_df['vac_sal_or_ren'])\n",
    "print(\"r = \" + str(r))\n",
    "print(\"p = \" + str(p))"
   ]
  },
  {
   "cell_type": "markdown",
   "metadata": {},
   "source": [
    "### proportions"
   ]
  },
  {
   "cell_type": "code",
   "execution_count": 71,
   "metadata": {},
   "outputs": [
    {
     "name": "stdout",
     "output_type": "stream",
     "text": [
      "r = -0.019206327055532067\n",
      "p = 0.008732693591177695\n"
     ]
    }
   ],
   "source": [
    "r, p = ss.pearsonr(sav_df['avg_commute_time'], sav_df['prop_sal_or_ren'])\n",
    "print(\"r = \" + str(r))\n",
    "print(\"p = \" + str(p))"
   ]
  },
  {
   "cell_type": "markdown",
   "metadata": {},
   "source": [
    "## Correlation between proportion of dwellings that are flats or apartments and vacancy"
   ]
  },
  {
   "cell_type": "markdown",
   "metadata": {},
   "source": [
    "### counts"
   ]
  },
  {
   "cell_type": "code",
   "execution_count": 72,
   "metadata": {},
   "outputs": [
    {
     "name": "stdout",
     "output_type": "stream",
     "text": [
      "r = 0.2676496044904768\n",
      "p = 3.076902697922047e-303\n"
     ]
    }
   ],
   "source": [
    "r, p = ss.pearsonr(sav_df['prop_flats_or_apartments'], sav_df['vac_sal_or_ren'])\n",
    "print(\"r = \" + str(r))\n",
    "print(\"p = \" + str(p))"
   ]
  },
  {
   "cell_type": "markdown",
   "metadata": {},
   "source": [
    "### proportions"
   ]
  },
  {
   "cell_type": "code",
   "execution_count": 73,
   "metadata": {},
   "outputs": [
    {
     "name": "stdout",
     "output_type": "stream",
     "text": [
      "r = 0.25042638759365765\n",
      "p = 1.708867401943614e-264\n"
     ]
    }
   ],
   "source": [
    "r, p = ss.pearsonr(sav_df['prop_flats_or_apartments'], sav_df['prop_sal_or_ren'])\n",
    "print(\"r = \" + str(r))\n",
    "print(\"p = \" + str(p))"
   ]
  },
  {
   "cell_type": "markdown",
   "metadata": {},
   "source": [
    "## Correlation between proportion of dwellings that are flats or apartments (as boolean for high/low) and vacancy"
   ]
  },
  {
   "cell_type": "markdown",
   "metadata": {},
   "source": [
    "### counts"
   ]
  },
  {
   "cell_type": "code",
   "execution_count": 74,
   "metadata": {},
   "outputs": [
    {
     "name": "stdout",
     "output_type": "stream",
     "text": [
      "f-statistic: 1342.360232045086\n",
      "p-value: 7.605494146345699e-284\n"
     ]
    }
   ],
   "source": [
    "f, p = ss.f_oneway(sav_df['vac_sal_or_ren'][sav_df['prop_flats_or_apts_high']], sav_df['vac_sal_or_ren'][np.logical_not(sav_df['prop_flats_or_apts_high'])])\n",
    "print(\"f-statistic: \" + str(f) + \"\\np-value: \" + str(p))"
   ]
  },
  {
   "cell_type": "markdown",
   "metadata": {},
   "source": [
    "### proportions"
   ]
  },
  {
   "cell_type": "code",
   "execution_count": 75,
   "metadata": {},
   "outputs": [
    {
     "name": "stdout",
     "output_type": "stream",
     "text": [
      "f-statistic: 1148.0260664825123\n",
      "p-value: 2.949491879534679e-244\n"
     ]
    }
   ],
   "source": [
    "f, p = ss.f_oneway(sav_df['prop_sal_or_ren'][sav_df['prop_flats_or_apts_high']], sav_df['prop_sal_or_ren'][np.logical_not(sav_df['prop_flats_or_apts_high'])])\n",
    "print(\"f-statistic: \" + str(f) + \"\\np-value: \" + str(p))"
   ]
  },
  {
   "cell_type": "markdown",
   "metadata": {},
   "source": [
    "## Connection between vacancy and type of dwelling"
   ]
  },
  {
   "cell_type": "code",
   "execution_count": 76,
   "metadata": {},
   "outputs": [
    {
     "data": {
      "text/html": [
       "<div>\n",
       "<style scoped>\n",
       "    .dataframe tbody tr th:only-of-type {\n",
       "        vertical-align: middle;\n",
       "    }\n",
       "\n",
       "    .dataframe tbody tr th {\n",
       "        vertical-align: top;\n",
       "    }\n",
       "\n",
       "    .dataframe thead th {\n",
       "        text-align: right;\n",
       "    }\n",
       "</style>\n",
       "<table border=\"1\" class=\"dataframe\">\n",
       "  <thead>\n",
       "    <tr style=\"text-align: right;\">\n",
       "      <th></th>\n",
       "      <th>occupied</th>\n",
       "      <th>vacant</th>\n",
       "    </tr>\n",
       "  </thead>\n",
       "  <tbody>\n",
       "    <tr>\n",
       "      <th>flat_apt_bedsit</th>\n",
       "      <td>160953.0</td>\n",
       "      <td>43192.0</td>\n",
       "    </tr>\n",
       "    <tr>\n",
       "      <th>other_dwelling</th>\n",
       "      <td>1358024.0</td>\n",
       "      <td>140120.0</td>\n",
       "    </tr>\n",
       "  </tbody>\n",
       "</table>\n",
       "</div>"
      ],
      "text/plain": [
       "                  occupied    vacant\n",
       "flat_apt_bedsit   160953.0   43192.0\n",
       "other_dwelling   1358024.0  140120.0"
      ]
     },
     "execution_count": 76,
     "metadata": {},
     "output_type": "execute_result"
    }
   ],
   "source": [
    "# table preparation\n",
    "apt_flat_bedsit_count = sav_df['T6_1_FA_H'].sum() + sav_df['T6_1_BS_H'].sum()\n",
    "other_dwelling_count = sav_df['T6_1_TH'].sum() - apt_flat_bedsit_count\n",
    "vacant_apt_flat_bedsit_count = sav_df['VT1_TOT_PUR'].sum() + sav_df['VT1_TOT_CON'].sum() + sav_df['VT1_TOT_BED'].sum()\n",
    "vacant_other_dwelling_count = sav_df['VT1_TOT_TOT'].sum() - vacant_apt_flat_bedsit_count\n",
    "occupied_apt_flat_bedsit_count = apt_flat_bedsit_count - vacant_apt_flat_bedsit_count\n",
    "occupied_other_dwelling_count = other_dwelling_count - vacant_other_dwelling_count\n",
    "\n",
    "apt_flat_vacant_ct = pd.DataFrame({'occupied': [occupied_apt_flat_bedsit_count, occupied_other_dwelling_count], 'vacant': [vacant_apt_flat_bedsit_count, vacant_other_dwelling_count]})\n",
    "apt_flat_vacant_ct.index = ['flat_apt_bedsit', 'other_dwelling']\n",
    "apt_flat_vacant_ct"
   ]
  },
  {
   "cell_type": "code",
   "execution_count": 77,
   "metadata": {},
   "outputs": [
    {
     "name": "stdout",
     "output_type": "stream",
     "text": [
      "chi-squared 26053.49060834214\n",
      "p = 0.0\n",
      "degrees of freedom = 1\n",
      "expected value table: \n",
      "[[ 182161.52466767   21983.47533233]\n",
      " [1336815.47533233  161328.52466767]]\n"
     ]
    }
   ],
   "source": [
    "# apply test\n",
    "chisq, p, dof, evs = ss.chi2_contingency(apt_flat_vacant_ct)\n",
    "print(\"chi-squared \" + str(chisq))\n",
    "print(\"p = \" + str(p))\n",
    "print(\"degrees of freedom = \" + str(dof))\n",
    "print(\"expected value table: \")\n",
    "print(evs)"
   ]
  },
  {
   "cell_type": "markdown",
   "metadata": {},
   "source": [
    "## Linear regression"
   ]
  },
  {
   "cell_type": "code",
   "execution_count": null,
   "metadata": {},
   "outputs": [],
   "source": [
    "import statsmodels.api as sm\n",
    "lm_indep_sav_df = sav_df[['avg_age_male', 'avg_age_female', 'avg_commute_time', 'prop_flats_or_apartments']]\n",
    "lm_dep_sav_seq = sav_df[['prop_sal_or_ren']]\n",
    "\n",
    "sm.add_constant(lm_indep_sav_df)\n",
    "model = sm.OLS(lm_dep_sav_seq, lm_indep_sav_df)\n",
    "results = model.fit()\n",
    "print(results.summary())"
   ]
  }
 ],
 "metadata": {
  "kernelspec": {
   "display_name": "Python 3",
   "language": "python",
   "name": "python3"
  },
  "language_info": {
   "codemirror_mode": {
    "name": "ipython",
    "version": 3
   },
   "file_extension": ".py",
   "mimetype": "text/x-python",
   "name": "python",
   "nbconvert_exporter": "python",
   "pygments_lexer": "ipython3",
   "version": "3.6.7"
  }
 },
 "nbformat": 4,
 "nbformat_minor": 2
}
